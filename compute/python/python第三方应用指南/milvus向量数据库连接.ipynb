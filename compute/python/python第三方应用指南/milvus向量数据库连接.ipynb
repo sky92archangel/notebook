{
 "cells": [
  {
   "cell_type": "code",
   "execution_count": 11,
   "id": "592955b1-269f-443f-8100-10a35a421237",
   "metadata": {},
   "outputs": [],
   "source": [
    "from pymilvus import MilvusClient\n",
    "\n",
    "#数据库名称\n",
    "db_name = \"cost_assistant_sh\"\n",
    "#集合名称  一个数据库内可能有多个不同名的集合 集合可以和数据库同名\n",
    "cl_name = \"cost_assistant_sh\"\n"
   ]
  },
  {
   "cell_type": "code",
   "execution_count": 12,
   "id": "5c1456b8-aef5-49f1-a55b-494030c4c23a",
   "metadata": {},
   "outputs": [
    {
     "name": "stdout",
     "output_type": "stream",
     "text": [
      "数据库的数量: 8\n",
      "现有数据库如下:\n",
      "default\n",
      "sepd_vector_store\n",
      "cost_assistant_sh_BM25\n",
      "cost_assistant_sh\n",
      "cost_assistant_gw_BM25\n",
      "cost_assistant_gw\n",
      "intention\n",
      "test\n"
     ]
    }
   ],
   "source": [
    "# 加载或创建现有数据\n",
    "# client = MilvusClient(\"milvus_demo.db\")\n",
    "\n",
    "# 加载远程数据 连接到Milvus服务器，这里假设服务器本地运行，端口默认19530，若实际情况不同需修改 \n",
    "# 建议这里就直接定位到需要的数据库\n",
    "client = MilvusClient(uri=\"http://10.193.41.29\", port=\"19530\",db_name=db_name) \n",
    "# 列出所有数据库，确认目标数据库是否存在\n",
    "databases = client.list_databases() \n",
    "print( \"数据库的数量:\",len(databases)) #数据库的数量\n",
    "print( \"现有数据库如下:\")  \n",
    "# print(database for database in databases ) \n",
    "for database in databases:\n",
    "    print( database ) "
   ]
  },
  {
   "cell_type": "code",
   "execution_count": 10,
   "id": "833e7ba1",
   "metadata": {},
   "outputs": [
    {
     "name": "stdout",
     "output_type": "stream",
     "text": [
      "intention\n",
      "test\n",
      "1\n",
      "1\n",
      "cost_assistant_filter\n"
     ]
    }
   ],
   "source": [
    "# 遍历每个collection名称并获取对应的collection对象\n",
    "for database in databases:\n",
    "    print(database ) \n",
    "    if(database==\"test\"):\n",
    "        collections = client.list_collections()\n",
    "        print(len(collections))\n",
    "        break\n",
    "\n",
    "print(len(collections))\n",
    "# for collection in collections :\n",
    "#     print(collection) \n",
    "collection =collections[0]\n",
    "print(collection)"
   ]
  },
  {
   "cell_type": "code",
   "execution_count": 13,
   "id": "24de2a18-3e58-4585-a2c8-c3366efae56d",
   "metadata": {},
   "outputs": [
    {
     "name": "stdout",
     "output_type": "stream",
     "text": [
      "default\n",
      "sepd_vector_store\n",
      "cost_assistant_sh_BM25\n",
      "cost_assistant_sh\n",
      "1\n",
      "1\n",
      "cost_assistant_sh\n"
     ]
    }
   ],
   "source": [
    "\n",
    "# 遍历每个collection名称并获取对应的collection对象\n",
    "for database in databases:\n",
    "    print(database ) \n",
    "    if(database==db_name):\n",
    "        collections = client.list_collections()\n",
    "        print(len(collections))\n",
    "        break\n",
    "\n",
    "print(len(collections))\n",
    "# for collection in collections :\n",
    "#     print(collection) \n",
    "collection =collections[0]\n",
    "print(collection)"
   ]
  },
  {
   "cell_type": "code",
   "execution_count": 14,
   "id": "58d81878-00bd-4c94-8e25-1ac259b87640",
   "metadata": {},
   "outputs": [
    {
     "name": "stdout",
     "output_type": "stream",
     "text": [
      "data: [\"{'id': 5, 'name_property': '该设备为：500kV变压器，属于：一次设备，规格为：500kV,334MVA,单相,500/220/66,无励磁,三绕组自耦', 'describ_dense': [-0.006548017, 0.023878329, -0.042785533, 0.041701473, 0.021001427, -0.014218672, 0.011657427, 0.08013745, 0.026170133, 0.02300958, 0.004172615, -0.0071427696, -0.0034473957, -0.017091304, -0.00828348, -0.007815264, 0.008189925, -0.030305753, 0.0296191, -0.00038980838, -0.030009044, 0.016146349, 0.008843948, 0.03218753, -0.003568792, 0.0063475696, -0.05444416, -0.012470382, 0.03894844, 0.0075854505, -0.026214778, -0.029688984, 0.023864187, 0.011979978, -0.010803895, -0.022323264, -0.04037944, -0.0047815545, -0.037706945, -0.0038031912, 0.031733934, -0.058795936, 0.020232078, -0.0002788295, 0.037519168, -0.0102744205, -0.05351264, -0.017126713, -0.03040627, -0.03942076, 0.011906786, -0.11580734, 0.04804346, -0.031165566, -0.0041748895, -0.00791451, -0.030669231, -0.051973555, -0.015607957, 0.01036375, -0.04654464, 0.050130904, -0.007935979, -0.012731008, 0.06395367, 0.0056497706, 0.0092681255, 0.022136606, -0.022974402, -0.009654326, -0.00059449516, 0.013647916, 0.010738679, 0.01982212, -0.037655145, 0.040794358, -0.005193388, -0.034823805, 0.0038513432, 0.016886666, -0.005279931, -0.0013753722, -0.028041549, 0.004160468, -0.05053554, 0.031886842, 0.029257692, -0.025881872, -0.029397737, -0.0042297393, -0.061736718, 0.018654043, -0.02092082, -0.010286831, -0.04713529, 0.025539208, -0.011114753, 0.018743888, 0.04045018, -0.0035189763, 0.010280708, 0.02092461, 0.035923425, -0.030967595, 0.017357234, -0.013894235, 0.002447373, -0.008465528, 0.01999272, -0.020345548, -0.01494567, 0.02313646, 0.033710036, -0.001539879, -0.018729594, -0.050171915, -0.0174341, -0.039888695, 0.033783015, -0.029505644, 0.013168055, -0.0013868206, 0.00814762, -0.020429153, -0.004300349, -0.031695843, 0.0011995063, 0.02700319, -0.03186306, 0.050908424, -0.02840571, 0.032990437, -0.01520789, 0.01560599, -0.06907651, 0.020412464, -0.008984205, 0.031064438, -0.018180074, -0.021558998, 0.024685623, 0.017829424, -0.039639845, 0.016071705, 0.0338982, -0.06954593, 0.047002833, -0.021358605, 0.01787686, -0.012841412, 0.03219321, 0.03409602, 0.019017452, -0.042500395, -0.039740726, 0.016572978, 0.029204475, -0.005537762, -0.035608377, 0.03384754, -0.03478144, 0.022388669, -0.0016131728, -0.029371632, -0.010717561, -0.0065144068, 0.0049663903, 0.033697635, -0.012760315, 0.00789073, 0.023434231, 0.0063149454, -0.0058919657, -0.00024106429, 0.0022129605, 0.01944375, 0.061627887, 0.0012787996, 0.0015733804, -0.039083734, -0.021310821, 0.041730512, -0.028068054, -0.02383375, -0.027689788, 0.032898694, 0.020803995, -0.0053455187, -0.015483192, -0.017540572, 0.0044696806, 0.036090225, 0.014257458, 0.020166777, 0.047760446, -0.011291839, -0.023700168, 0.014504132, 0.036533583, 0.008603027, -0.017601376, -0.0045636552, -0.0007893202, 0.03886843, -0.020991942, 0.037019413, -0.043454558, -0.022629388, -0.044355962, -0.055126403, -0.041592956, 0.008178598, 0.052305296, -0.046953075, 0.00028307736, 0.05685637, 0.013766486, -0.029954515, -0.022158848, -0.007148281, -0.03592159, 0.023499725, -0.012149948, -0.0026916321, -0.010761168, -0.034889337, 0.0019231869, 0.020304304, 0.0012139644, -0.0120718265, -0.03388048, 0.028494727, 0.031343237, 0.005818768, 0.027523417, -0.008029738, -0.04231487, 0.029310334, 0.026188768, 0.008923517, 0.06041889, 0.046257414, -0.0003561993, 0.020332256, 0.00031019718, 0.038848173, -0.04424024, 0.04546669, -0.007862003, -0.02236656, -0.006483223, -0.034218088, -0.015915958, 0.012523376, 0.040352747, 0.020763787, -0.026112922, -0.012003118, -0.054443404, -0.018436488, 0.0034685307, 0.020220688, 0.033861715, 0.016111882, 0.011817018, 0.022693915, -0.027440667, -0.007254451, 0.011516944, 0.036853854, 0.0049431846, 0.018185634, 0.033829655, 0.07684512, 0.008955901, 0.07794378, 0.02871353, 0.008747701, 0.030684952, 0.062265255, 0.064774, 0.039489795, 0.025302038, 0.00814184, 0.022115344, 0.000102912876, -0.06708271, -0.005990066, -0.0102885235, -0.020115836, -0.0072980192, -0.019494418, 0.04882485, -0.004060792, -0.0010247774, 0.017837485, 0.021524908, -0.15387537, 0.01838231, -0.038726952, 0.0020522312, -0.0015654686, -0.034910083, -0.018909622, -0.056635022, -0.04270488, -0.015887966, -0.01298009, -0.0304572, 0.0046045, -0.008114541, -0.020507282, -0.01577794, 0.009247227, 0.046662275, 0.014946927, -0.020629767, -0.011366898, -0.013766394, 0.10705173, -0.02854668, -0.017187212, 0.045888275, 0.03184256, -0.026989099, 0.04635374, -0.008353724, -0.051830515, 0.005642361, 0.005512032, -0.009329732, 0.06559783, -0.021577932, 0.029869312, -0.01524868, 0.0017952578, -0.014791367, 0.050740466, 0.033475757, 0.028791465, -0.01437715, -0.021158662, 0.011240419, -0.039712932, 0.00954287, -0.00055335043, 0.0075213313, -0.012997255, -0.004459113, -0.035099708, -0.027367463, -0.0434036, 0.018882738, 0.0069301156, 0.09941109, 0.0013166118, -0.0461854, 0.028778886, -0.03850035, 0.02122343, -0.0008269327, -0.032871753, 0.0015483885, 0.02022098, -0.03776433, -0.009808738, -0.029332373, -0.016090605, 0.007834377, -0.025088131, 0.0055889473, -0.030033404, 0.026019862, -0.014535702, 0.015486671, -0.015075406, -0.107349895, 0.014238729, 0.019970223, -0.049600706, 0.0261128, -0.0070263017, -0.007916017, -0.012966056, -0.040883183, 0.06820886, 0.245447, -0.0059888107, -0.0024437692, 0.04288628, -0.007996972, -0.009719802, -0.032981116, -0.0016106624, 0.026509795, -0.011849093, -0.035632946, 0.04150464, 0.03299062, 0.0058759092, -0.01808391, -0.010490924, -0.046938073, 0.048814837, 0.0663483, 0.014184471, -0.0013533332, -0.03168407, 0.007329559, -0.007486826, -0.10921989, -0.019633241, -0.006709154, 0.0042105555, -0.040648267, -0.019925414, -0.004956572, -0.022995565, 0.020942857, -0.0539252, -0.022821078, -0.019664112, 0.009895098, -0.0068615647, 0.03976754, 0.06241085, 0.026851736, -0.011777279, 0.011462528, -0.015483405, -0.051325716, -0.032348674, -0.023269352, 0.02455468, 0.0020341424, 0.013134258, -0.05647373, 0.022501534, 0.040268254, -0.02179931, 7.82539e-05, -0.059826914, 0.016040811, 0.00021684966, 0.010647643, 0.00836267, 0.0021702945, 0.004985634, -0.04179246, -0.027605824, 0.04063066, -0.024633382, -0.027077165, 0.012997037, -0.0095183635, -0.018299162, 0.015984107, 0.017648734, -0.0040825712, 0.0099456245, 0.04405347, -0.03853131, 0.03356769, 0.04305648, -0.008051909, -0.002484677, -0.03534452, -0.033698827, -0.013701769, -0.018290585, 0.059747495, -0.0538621, 0.02040469, -0.0011669475, -0.0035117026, 0.019459417, -0.0199032, 0.0362784, 0.019279014, -0.003433298, 0.015701354, -0.0081282295, -0.0010395756, -0.019151768, 0.0014351872, 0.050695006, 0.026957534, 0.019538036, 0.031325724, 0.006784051, -0.014203369, -0.008181875, -0.01717594, -0.0028833922, -0.038557906, 0.016460124, -0.094607435, 0.04035497, 0.022656523, -0.04387895, 0.013517619, 0.037728984, -0.046597026, 0.0057722367, 0.011927516, -0.014769636, 0.027286187, -0.030917818, 0.033022173, -0.009928452, 0.014361832, -0.018291771, -0.030055102, -0.002493379, 0.031484555, 0.03801897, -0.0024482931, -0.02864575, -0.015772013, 0.026103858, 0.000270777, -0.0011020375, -0.0040012524, 0.004562653, 0.0220514, 0.029906407, -0.009972298, -0.020687103, -0.015267766, -0.03435061, -0.0073478217, -0.029104551, 0.00063108513, 0.048383735, 0.002443626, 0.05331557, -0.028295832, 0.029060649, 0.045033846, -0.03763289, -0.047953904, -0.028790161, 0.006748592, -0.00023581384, -0.018461695, -0.021935258, -0.010351713, -0.03425827, 0.062906064, 0.054147966, 0.010677886, 0.012299347, 0.047592327, -0.024938194, 0.022807587, -0.006841961, 0.003748895, -0.010846897, -0.008540015, 0.009714371, -0.0056168824, -0.021764478, -0.06889344, -0.014601129, -0.032499988, 0.014351174, 0.04692072, 0.0205399, -0.035250492, -0.045540333, 0.026733806, 0.0079095345, -0.026644923, -0.006315672, -0.005861406, -0.0022822346, -0.04064431, 0.08381939, -0.022845712, -0.0069208904, 0.041438233, 0.019611754, 0.004422091, -0.03809249, 0.017297838, -0.012634221, 0.021864818, 0.037013292, 0.018133702, -0.021304032, -0.008331851, -0.04125161, 0.018993223, -0.019314218, -0.0039161392, 0.013390191, 0.0059216563, -0.002786878, 0.0138973, 0.010132884, -0.020683724, -0.03940358, 0.029174848, 0.011292352, -0.024084952, -0.010131739, 0.0495012, 0.006530198, 0.019318921, -0.037273288, -0.013513724, 0.008625416, 0.027488055, -0.021648912, 0.006434217, -0.0032490192, -0.008468242, -0.0278596, 0.031266727, -0.029569702, 0.017896362, -0.005769926, 0.043610655, 0.018406142, -0.0035392742, 0.028751325, 0.0111363055, 0.010238462, 0.036561895, 0.06744461, -0.025308084, 0.026461093, -0.044588007, -0.007862075, 0.018342268, -0.002948709, -0.050303385, -0.020517876, -0.013322165, 0.0025547931, -0.06725936, 0.0057541104, -0.029907325, 0.0002986563, 0.007966141, 0.008521476, -0.007245362, -0.020109797, -0.015578925, 0.0010299413, 0.015376035, -0.030612325, 0.02282844, -0.04154736, -0.022080364, -0.012557189, 0.001721365, -0.01167466, -0.040780354, -0.015697356, -0.023538461, -0.049825, 0.074321344, -0.048837278, -0.069633275, 0.04118316, -0.013399918, -0.0110594565, 0.043118745, -0.005927562, -0.0062295734, -0.0068908897, 0.01914145, -0.017589755, -0.03394113, 0.0020150861, 0.022894062, -0.02128356, -0.010188531, 0.08893108, 0.02246712, 0.025514359, 0.0036188336, -0.012969341, -0.027573092, 0.058675975, 0.0050511705, -0.03988923, 0.0021330784, 0.0030504689, -0.05066529, -0.042977765, 0.02129884, -0.011472769, -0.016467443, 0.04632469, -0.010234857, -0.07881543, 0.010326693, 0.061512638, -0.013250562, -0.032661926, 0.038298324, -0.00068961614, 0.03110874, 0.03248925, -0.043707892, -0.00767229, -0.054835334, 0.0098461015, -0.03368724, 0.01179741, 0.015522188, 0.01056829, -0.055029362, 0.05194015, 0.006823433, 0.04424024, -0.022693431, -0.048018172, 0.04976473, -0.045212243, 0.042425267, 0.04148062, 0.031016083, -0.00567446, -0.009420713, -0.055206787, -0.024246665, 0.012440037, -0.035126533, -0.006468427, 0.0072604357, 0.015576217, -0.025672568, 0.023195323, -0.005044827, -0.024633065, -0.032320675, -0.055646233, 0.03425908, -0.055124823, 0.022497464, 0.046724483, 0.005629717, -0.0068436363, -0.0029045285, 0.0011035709, 0.053325783, 0.021206455, -0.056488194, 0.003674791, 0.02918963, -0.020959767, 0.04530265, 0.0012011421, -0.029075764, -0.0024273093, 0.00434167, 0.055871125, -0.0033423053, 0.027176809, 0.031440757, 0.022709094, 0.023365904, -0.0058632735, -0.036244314, -0.022158975, -0.024689557, 0.01173148, 0.02818417, 0.00290304, -0.014124276, -0.031103656, 0.000734007, 0.021038588, 0.033513784, -0.047519915, -0.021358933, 0.04108852, -0.12861225, 0.018420337, -0.016628874, -0.0058544707, -0.0133714015, -0.022397751, -0.0023569178, -0.039103627, 0.019733008, -0.04111916, 0.0201012, -0.0021582583, 0.005522492, 0.024162235, 0.05552994, 0.040628146, -0.029581983, -0.01149681, 0.004851979, 0.0032288407, 0.00057089067, -0.03630057, 0.020584596, 0.0075331344, 0.018333446, 0.01480535, 0.0023556522, 0.009602999, -0.023099294, -0.04122258, -0.009095008, -0.027568905, 0.031297676, 0.044234164, -0.0149403615, 0.0248048, 0.013152176, 0.021665668, -0.03679458, 0.032062188, -0.004941295, 0.023159685, -0.0028641555, -0.055864833, -0.0024919019, 0.027614817, -0.021714108, -0.052415803, -0.04927534, 0.029495804, -0.0052470197, 0.00051825074, -0.028721834, 0.015396639, 0.012481414, 0.010171439, -0.03239774, -0.0004962116, 0.0038321791, -0.018450797, -0.026353288, -0.00010942609, -0.059980538, -0.04586553, 0.0024917484, -0.017521756, -0.028846692, 0.044093654, 0.012287338, -0.0276119, 0.010339366, -0.022623096, 0.035941284, -0.04331255, 0.013061604, -0.04570534, 0.030778298, -0.019754304, -0.012782109, -0.02817304, 0.011902245, -0.036776807, -0.019061266, 0.03884752, 0.026739333, -0.01732794, -0.027382622, -0.0017569718, -0.013593112, 0.0011156105, -0.06322652, -0.035896003, 0.039064918, 0.04510741, -0.025197266, 0.037232976, -0.041150805, -0.033368476, 0.017414713, -0.01263062, -0.025065027, -0.018368648, -0.006948585, 0.025773548, -0.002236456, 0.05044244, 0.02066044, -0.018721428, -0.029080914, -0.021781137, -0.03252739, -0.0076551572, -0.03285707, -0.008539848, 0.015123541, 0.025754368, 0.039018486, 0.019869717, -0.045487333, -0.014208778, 0.004548109, 0.014391255, -0.00014775766, -0.022210443, 0.023657592, -0.042589925, 0.013920798, -0.012752098, 0.013465662, 0.042284768, 0.033702374, 0.006982032, -0.0051994664, -0.011065719, -0.019914392, -0.017057063, -0.0794468, 0.02660346, -0.006105839, -0.028728496, -0.013467156, -0.03602715, -0.0019890259, -0.034889694, 0.033119652, -0.0328221, -0.0012973875, -0.015204, 0.025169121, 0.0012979488, 0.0006920102, -0.028677557, -0.00023490947, 0.03835387, -0.026916424, 0.05528338, -0.031433795, 0.015444925, 0.01320568, 0.019738203, -0.04701778, -0.029935375, -0.016891206, -0.0042576105, -0.0012317871, 0.0005642333, -0.011553321, 0.028700544, -0.031941008, -0.020397326, 0.015041486, 0.034929287, -0.0025964275, 0.042029683, -0.014420794, -0.03327871, -0.012736804, -0.049301647, 0.005780748, 0.0267377, 0.013010086, 0.054746695, 0.08865956, -0.005358828, 0.029628586, -0.004852575, 0.01121551, -0.0063555045, 0.0021975103, -0.031960834, -0.0026593702, -0.0101757655, 0.011635176, 0.028922824, 0.04678678, -0.043526214, 0.030923285, -0.05623928, -0.009314821, 0.045502722, 0.060324375, 0.026467834, 0.034786623, 0.012499108, -0.012140658, -0.019302044, -0.01348705, 0.007246269, -0.054248504, 0.032093868, 0.005335663, 0.015366917, 0.022371499, 0.026168516, -0.0073334165, 0.019255115, 0.042392574, 0.015571618, -0.0033219908, 0.012102901, 0.016020516, 0.05040057, -0.015805088, 0.016766237, 0.037444048, -0.016688697, 0.005842675, 0.014028044, -0.049782228, -0.0068487627, -0.02929929, -0.03042962, -0.03240585, -0.003136714, -0.007089761, 0.02466466, 0.018326612, -0.009795438, -0.014500021, -0.014013132, 0.06283769, 0.007258118, 0.016276758, 0.0038661712]}\"]\n"
     ]
    }
   ],
   "source": [
    "# 查询集合中的数据\n",
    "collection_name = cl_name # 替换为你的集合名称\n",
    "filter_condition = 'name_property == \"该设备为：500kV变压器，属于：一次设备，规格为：500kV,334MVA,单相,500/220/66,无励磁,三绕组自耦\"'  # 替换为你的过滤条件\n",
    "output_fields = [\"id\",\"name_property\" ,\"describ_dense\"]  # 替换为你的字段名称\n",
    "\n",
    "# 执行查询\n",
    "res = client.query(\n",
    "    collection_name=collection_name,\n",
    "    filter=filter_condition,\n",
    "    output_fields=output_fields,\n",
    "    limit=3  # 限制返回的结果数量\n",
    ")\n",
    "\n",
    "# 打印查询结果\n",
    "print(res)"
   ]
  },
  {
   "cell_type": "code",
   "execution_count": 20,
   "id": "829132e8-39b2-47eb-9801-2fccb0b01fec",
   "metadata": {},
   "outputs": [
    {
     "name": "stdout",
     "output_type": "stream",
     "text": [
      "data: [\"[{'id': 5, 'distance': 0.9999998807907104, 'entity': {'name_property': '该设备为：500kV变压器，属于：一次设备，规格为：500kV,334MVA,单相,500/220/66,无励磁,三绕组自耦'}}, {'id': 2, 'distance': 0.9862819910049438, 'entity': {'name_property': '该设备为：500kV变压器，属于：一次设备，规格为：500kV,750MVA,三相,500/220/35,无励磁,三绕组自耦'}}, {'id': 7, 'distance': 0.9854738712310791, 'entity': {'name_property': '该设备为：500kV变压器，属于：一次设备，规格为：500kV,250MVA,单相,500/220/66,无励磁,三绕组自耦'}}]\"]\n",
      "<class 'list'>\n",
      "[5, 2, 7]\n"
     ]
    }
   ],
   "source": [
    "## 向量查询集合中的数据\n",
    "vector_field = \"describ_dense\" #搜索的向量字段\n",
    "collection_name = cl_name # 替换为你的集合名称 \n",
    "query_vectors=[res[0][vector_field]]# 用于的查询向量\n",
    "output_fields = [\"name_property\" ]  # 替换为你的字段名称\n",
    "top_k = 3\n",
    "\n",
    "## 查询 \n",
    "search_results = client.search(\n",
    "    collection_name=collection_name,  # target collection\n",
    "    data=query_vectors,  # query vectors\n",
    "    anns_field=vector_field,  # 指定要搜索的向量字段\n",
    "    limit=top_k,  # number of returned entities\n",
    "    output_fields=output_fields,  # specifies fields to be returned\n",
    ")\n",
    "\n",
    "print(search_results)  \n",
    "print(type(search_results[0]))  \n",
    "print( [item['id'] for item in search_results[0]])  \n",
    " "
   ]
  },
  {
   "cell_type": "markdown",
   "id": "269104bc",
   "metadata": {},
   "source": [
    "# 其他操作"
   ]
  },
  {
   "cell_type": "code",
   "execution_count": null,
   "id": "0096854a",
   "metadata": {},
   "outputs": [],
   "source": [
    "# \n",
    "from pymilvus import MilvusClient \n",
    "client = MilvusClient(\"milvus_demo.db\")\n",
    "\n",
    "# 创建集合\n",
    "if client.has_collection(collection_name=\"demo_collection\"):\n",
    "    client.drop_collection(collection_name=\"demo_collection\")\n",
    "client.create_collection(\n",
    "    collection_name=\"demo_collection\",\n",
    "    dimension=768,  # The vectors we will use in this demo has 768 dimensions\n",
    ")\n",
    " "
   ]
  },
  {
   "cell_type": "code",
   "execution_count": 35,
   "id": "142eea21",
   "metadata": {},
   "outputs": [
    {
     "ename": "ImportError",
     "evalue": "The 'milvus_model' package is not installed. For installation, use 'pip install pymilvus[model]'. For more information, please visit https://github.com/milvus-io/milvus-model.",
     "output_type": "error",
     "traceback": [
      "\u001b[1;31m---------------------------------------------------------------------------\u001b[0m",
      "\u001b[1;31mModuleNotFoundError\u001b[0m                       Traceback (most recent call last)",
      "File \u001b[1;32me:\\DATA\\CONDA_ENVS\\learnenv\\lib\\site-packages\\pymilvus\\model\\__init__.py:24\u001b[0m, in \u001b[0;36mMilvusModelLoader._load_milvus_model\u001b[1;34m(self)\u001b[0m\n\u001b[0;32m     23\u001b[0m \u001b[38;5;28;01mtry\u001b[39;00m:\n\u001b[1;32m---> 24\u001b[0m     \u001b[38;5;28;01mimport\u001b[39;00m \u001b[38;5;21;01mmilvus_model\u001b[39;00m\n\u001b[0;32m     26\u001b[0m     \u001b[38;5;28mself\u001b[39m\u001b[38;5;241m.\u001b[39m_milvus_model \u001b[38;5;241m=\u001b[39m milvus_model\n",
      "\u001b[1;31mModuleNotFoundError\u001b[0m: No module named 'milvus_model'",
      "\nThe above exception was the direct cause of the following exception:\n",
      "\u001b[1;31mImportError\u001b[0m                               Traceback (most recent call last)",
      "Cell \u001b[1;32mIn[35], line 10\u001b[0m\n\u001b[0;32m      3\u001b[0m \u001b[38;5;28;01mfrom\u001b[39;00m \u001b[38;5;21;01mpymilvus\u001b[39;00m \u001b[38;5;28;01mimport\u001b[39;00m model\n\u001b[0;32m      5\u001b[0m \u001b[38;5;66;03m# If connection to https://huggingface.co/ failed, uncomment the following path\u001b[39;00m\n\u001b[0;32m      6\u001b[0m \u001b[38;5;66;03m# import os\u001b[39;00m\n\u001b[0;32m      7\u001b[0m \u001b[38;5;66;03m# os.environ['HF_ENDPOINT'] = 'https://hf-mirror.com'\u001b[39;00m\n\u001b[0;32m      8\u001b[0m \n\u001b[0;32m      9\u001b[0m \u001b[38;5;66;03m# This will download a small embedding model \"paraphrase-albert-small-v2\" (~50MB).\u001b[39;00m\n\u001b[1;32m---> 10\u001b[0m embedding_fn \u001b[38;5;241m=\u001b[39m \u001b[43mmodel\u001b[49m\u001b[38;5;241;43m.\u001b[39;49m\u001b[43mDefaultEmbeddingFunction\u001b[49m()\n\u001b[0;32m     12\u001b[0m \u001b[38;5;66;03m# Text strings to search from.\u001b[39;00m\n\u001b[0;32m     13\u001b[0m docs \u001b[38;5;241m=\u001b[39m [\n\u001b[0;32m     14\u001b[0m     \u001b[38;5;124m\"\u001b[39m\u001b[38;5;124mArtificial intelligence was founded as an academic discipline in 1956.\u001b[39m\u001b[38;5;124m\"\u001b[39m,\n\u001b[0;32m     15\u001b[0m     \u001b[38;5;124m\"\u001b[39m\u001b[38;5;124mAlan Turing was the first person to conduct substantial research in AI.\u001b[39m\u001b[38;5;124m\"\u001b[39m,\n\u001b[0;32m     16\u001b[0m     \u001b[38;5;124m\"\u001b[39m\u001b[38;5;124mBorn in Maida Vale, London, Turing was raised in southern England.\u001b[39m\u001b[38;5;124m\"\u001b[39m,\n\u001b[0;32m     17\u001b[0m ]\n",
      "File \u001b[1;32me:\\DATA\\CONDA_ENVS\\learnenv\\lib\\site-packages\\pymilvus\\model\\__init__.py:10\u001b[0m, in \u001b[0;36mMilvusModelLoader.__getattr__\u001b[1;34m(self, name)\u001b[0m\n\u001b[0;32m      8\u001b[0m \u001b[38;5;28;01mdef\u001b[39;00m \u001b[38;5;21m__getattr__\u001b[39m(\u001b[38;5;28mself\u001b[39m, name: \u001b[38;5;28mstr\u001b[39m):\n\u001b[0;32m      9\u001b[0m     \u001b[38;5;28;01mif\u001b[39;00m \u001b[38;5;129;01mnot\u001b[39;00m \u001b[38;5;28mself\u001b[39m\u001b[38;5;241m.\u001b[39m_milvus_model_loaded:\n\u001b[1;32m---> 10\u001b[0m         \u001b[38;5;28;43mself\u001b[39;49m\u001b[38;5;241;43m.\u001b[39;49m\u001b[43m_load_milvus_model\u001b[49m\u001b[43m(\u001b[49m\u001b[43m)\u001b[49m\n\u001b[0;32m     11\u001b[0m     \u001b[38;5;28;01mtry\u001b[39;00m:\n\u001b[0;32m     12\u001b[0m         \u001b[38;5;28;01mreturn\u001b[39;00m \u001b[38;5;28mgetattr\u001b[39m(\u001b[38;5;28mself\u001b[39m\u001b[38;5;241m.\u001b[39m_milvus_model, name)\n",
      "File \u001b[1;32me:\\DATA\\CONDA_ENVS\\learnenv\\lib\\site-packages\\pymilvus\\model\\__init__.py:33\u001b[0m, in \u001b[0;36mMilvusModelLoader._load_milvus_model\u001b[1;34m(self)\u001b[0m\n\u001b[0;32m     27\u001b[0m \u001b[38;5;28;01mexcept\u001b[39;00m \u001b[38;5;167;01mImportError\u001b[39;00m \u001b[38;5;28;01mas\u001b[39;00m e:\n\u001b[0;32m     28\u001b[0m     err_str \u001b[38;5;241m=\u001b[39m (\n\u001b[0;32m     29\u001b[0m         \u001b[38;5;124m\"\u001b[39m\u001b[38;5;124mThe \u001b[39m\u001b[38;5;124m'\u001b[39m\u001b[38;5;124mmilvus_model\u001b[39m\u001b[38;5;124m'\u001b[39m\u001b[38;5;124m package is not installed. \u001b[39m\u001b[38;5;124m\"\u001b[39m\n\u001b[0;32m     30\u001b[0m         \u001b[38;5;124m\"\u001b[39m\u001b[38;5;124mFor installation, use \u001b[39m\u001b[38;5;124m'\u001b[39m\u001b[38;5;124mpip install pymilvus[model]\u001b[39m\u001b[38;5;124m'\u001b[39m\u001b[38;5;124m. \u001b[39m\u001b[38;5;124m\"\u001b[39m\n\u001b[0;32m     31\u001b[0m         \u001b[38;5;124m\"\u001b[39m\u001b[38;5;124mFor more information, please visit https://github.com/milvus-io/milvus-model.\u001b[39m\u001b[38;5;124m\"\u001b[39m\n\u001b[0;32m     32\u001b[0m     )\n\u001b[1;32m---> 33\u001b[0m     \u001b[38;5;28;01mraise\u001b[39;00m \u001b[38;5;167;01mImportError\u001b[39;00m(err_str) \u001b[38;5;28;01mfrom\u001b[39;00m \u001b[38;5;21;01me\u001b[39;00m\n\u001b[0;32m     34\u001b[0m \u001b[38;5;28mself\u001b[39m\u001b[38;5;241m.\u001b[39m_milvus_model_loaded \u001b[38;5;241m=\u001b[39m \u001b[38;5;28;01mTrue\u001b[39;00m\n",
      "\u001b[1;31mImportError\u001b[0m: The 'milvus_model' package is not installed. For installation, use 'pip install pymilvus[model]'. For more information, please visit https://github.com/milvus-io/milvus-model."
     ]
    }
   ],
   "source": [
    "# 插入操作\n",
    "from random import random\n",
    "from pymilvus import model\n",
    "\n",
    "# If connection to https://huggingface.co/ failed, uncomment the following path\n",
    "# import os\n",
    "# os.environ['HF_ENDPOINT'] = 'https://hf-mirror.com'\n",
    "\n",
    "# This will download a small embedding model \"paraphrase-albert-small-v2\" (~50MB).\n",
    "embedding_fn = model.DefaultEmbeddingFunction()\n",
    "\n",
    "# Text strings to search from.\n",
    "docs = [\n",
    "    \"Artificial intelligence was founded as an academic discipline in 1956.\",\n",
    "    \"Alan Turing was the first person to conduct substantial research in AI.\",\n",
    "    \"Born in Maida Vale, London, Turing was raised in southern England.\",\n",
    "]\n",
    "# Use fake representation with random vectors (768 dimension).\n",
    "vectors = [[random.uniform(-1, 1) for _ in range(768)] for _ in docs]\n",
    "data = [\n",
    "    {\"id\": i, \"vector\": vectors[i], \"text\": docs[i], \"subject\": \"history\"}\n",
    "    for i in range(len(vectors))\n",
    "]\n",
    "\n",
    "print(\"Data has\", len(data), \"entities, each with fields: \", data[0].keys())\n",
    "print(\"Vector dim:\", len(data[0][\"vector\"]))\n",
    "res = client.insert(collection_name=\"demo_collection\", data=data) \n",
    "print(res)"
   ]
  },
  {
   "cell_type": "code",
   "execution_count": 21,
   "id": "f01f4b30",
   "metadata": {},
   "outputs": [
    {
     "name": "stdout",
     "output_type": "stream",
     "text": [
      "<class 'int'>\n",
      "<class 'str'>\n"
     ]
    }
   ],
   "source": [
    "# Drop collection 删除集合\n",
    "# client.drop_collection(collection_name=\"demo_collection\")\n",
    "a=1\n",
    "print(type(a))\n",
    "collection_name=\"demo_collection\"\n",
    "print(type(collection_name))\n"
   ]
  },
  {
   "cell_type": "code",
   "execution_count": null,
   "id": "a9abc18c",
   "metadata": {},
   "outputs": [],
   "source": [
    "# from openpyxl import Workbook\n",
    "# import pandas as pd\n",
    "# import json\n",
    "\n",
    "from pymilvus import MilvusClient\n",
    "\n",
    "\n",
    "class MilvusOrm:\n",
    "\n",
    "    def __del__(self):\n",
    "        pass\n",
    " \n",
    "    # 初始化\n",
    "    def __init__(self,\n",
    "                 _uri: str = \"http://10.193.41.29:19530\", \n",
    "                 token = \"test_admin:\",\n",
    "                 database_name: str = \"test\"):\n",
    "        # db_name = \"cost_assistant_sh\"\n",
    "        # cl_name = \"cost_assistant_sh\"\n",
    "        # 数据库名称\n",
    "        # self.db_name = database_name\n",
    "        # 集合名称  一个数据库内可能有多个不同名的集合 集合可以和数据库同名\n",
    "        # self.cl_name = cl_name\n",
    "        ################################\n",
    "        # 加载或创建现有数据\n",
    "        # client = MilvusClient(\"milvus_demo.db\")\n",
    "        # 加载远程数据 连接到Milvus服务器，这里假设服务器本地运行，端口默认19530，若实际情况不同需修改 \n",
    "        # 建议这里就直接定位到需要的数据库\n",
    "        # self.client = MilvusClient(uri=_uri, port=_port, db_name=database_name)\n",
    "        self.client = MilvusClient(uri=_uri, token=token, db_name=database_name) \n",
    "        # 列出所有数据库，确认目标数据库是否存在\n",
    "        databases = self.client.list_databases()\n",
    "        print(\"数据库的数量:\", len(databases))  # 数据库的数量\n",
    "        print(\"现有数据库如下:\")\n",
    "        for database in databases:\n",
    "            print(database)\n",
    "            ################################\n",
    "        # 遍历每个collection名称并获取对应的collection对象\n",
    "        for database in databases:\n",
    "            if (database == \"test\"):\n",
    "                collections = self.client.list_collections()\n",
    "                print(len(collections))\n",
    "                break\n",
    "        self.collections = collections\n",
    "\n",
    "    # 按常规条件搜索\n",
    "    def query_by_condition(self,\n",
    "                           collection_name: str,\n",
    "                           filter_condition: str,\n",
    "                           output_fields: list = [\"id\", \"name_property\", \"describ_dense\"]):\n",
    "        # 查询集合中的数据 \n",
    "        # collection_name = cl_name # 替换为你的集合名称\n",
    "        # filter_condition = 'name_property == \"该设备为：500kV变压器，属于：一次设备，规格为：500kV,334MVA,单相,500/220/66,无励磁,三绕组自耦\"'  # 替换为你的过滤条件\n",
    "        # output_fields = [\"id\",\"name_property\" ,\"describ_dense\"]  # 替换为你的字段名称\n",
    "\n",
    "        # 执行查询\n",
    "        res = self.client.query(\n",
    "            collection_name=collection_name,\n",
    "            filter=filter_condition,\n",
    "            output_fields=output_fields,\n",
    "            limit=3  # 限制返回的结果数量\n",
    "        )\n",
    "        # 打印查询结果\n",
    "        print(res)\n",
    "        return res\n",
    "\n",
    "    # 按向量相似度搜索\n",
    "    def query_by_vector(self,\n",
    "                        collection_name: str,\n",
    "                        vector_field: str = \"describ_dense\",\n",
    "                        query_vectors: list = [],\n",
    "                        output_fields: list = [],\n",
    "                        top_k: int = 3):\n",
    "\n",
    "        ## 向量查询集合中的数据\n",
    "        # vector_field = \"describ_dense\" #搜索的向量字段\n",
    "        # collection_name = cl_name # 替换为你的集合名称 \n",
    "        # query_vectors=[res[0][vector_field]]# 用于的查询向量\n",
    "        # output_fields = [\"name_property\" ,vector_field]  # 替换为你的字段名称\n",
    "        # top_k = 3 #推荐数量\n",
    "\n",
    "        ## 查询 \n",
    "        search_results = self.client.search(\n",
    "            collection_name=collection_name,  # target collection\n",
    "            data=query_vectors,  # query vectors\n",
    "            anns_field=vector_field,  # 指定要搜索的向量字段\n",
    "            limit=top_k,  # number of returned entities\n",
    "            output_fields=output_fields,  # specifies fields to be returned\n",
    "        )\n",
    "\n",
    "        print(search_results[0])\n",
    "        # print( [item['id'] for item in search_results[0]])  \n",
    "        return search_results[0]\n",
    "\n",
    "    # 创建一个数据集合\n",
    "    # The vectors we will use in this demo has 1024 dimensions\n",
    "    def create_collection(self,\n",
    "                          collection_name: str = \"demo_collection\",\n",
    "                          dimension: int = 1024,\n",
    "                          is_cover: bool = False):\n",
    "        # client = MilvusClient(\"milvus_local_demo.db\") #本地创建\n",
    "        is_exsist = self.client.has_collection(collection_name) \n",
    "\n",
    "        # 不存在 则创建\n",
    "        if is_exsist == False:\n",
    "            self.client.create_collection(collection_name=collection_name, dimension=dimension, )\n",
    "            return collection_name\n",
    "        # 存在\n",
    "        if is_cover:\n",
    "            self.client.drop_collection(collection_name)\n",
    "            self.client.create_collection(collection_name=collection_name, dimension=dimension, )\n",
    "            return collection_name\n",
    "        else:\n",
    "            return collection_name\n",
    "\n",
    "        return collection_name\n",
    "\n",
    "\n",
    "    # insert 插入数据\n",
    "    def insert_data(self,\n",
    "                    collection_name: str = \"demo_collection\",\n",
    "                    data: list = []):\n",
    "        res = self.client.insert(collection_name=collection_name, data=data)\n",
    "        print(res)\n",
    "        return res\n"
   ]
  },
  {
   "cell_type": "code",
   "execution_count": 32,
   "id": "6abb992e",
   "metadata": {},
   "outputs": [
    {
     "name": "stdout",
     "output_type": "stream",
     "text": [
      "数据库的数量: 8\n",
      "现有数据库如下:\n",
      "cost_assistant_sh\n",
      "cost_assistant_gw_BM25\n",
      "cost_assistant_gw\n",
      "intention\n",
      "test\n",
      "default\n",
      "sepd_vector_store\n",
      "cost_assistant_sh_BM25\n",
      "2\n"
     ]
    }
   ],
   "source": [
    "orm = MilvusOrm()\n",
    "\n",
    "client = MilvusClient(uri=\"http://10.193.41.29:19530\", token=\"\", db_name=\"test\") \n",
    "client.create_collection(\n",
    "    collection_name=\"quick_setup\",\n",
    "    dimension=5,\n",
    "    primary_field_name=\"my_id\",\n",
    "    id_type=\"string\",\n",
    "    vector_field_name=\"my_vector\",\n",
    "    metric_type=\"L2\",\n",
    "    auto_id=True,\n",
    "    max_length=512\n",
    ")\n",
    "# collection_name = \"cost_assistant_filter\" # 替换为你的集合名称\n",
    "# filter_condition = 'name_property == \"该设备为：500kV变压器，属于：一次设备，规格为：500kV,334MVA,单相,500/220/66,无励磁,三绕组自耦\"'  # 替换为你的过滤条件\n",
    "# output_fields = [\"id\",\"name_property\" ,\"describ_dense\"]  # 替换为你的字段名称\n",
    "# orm.query_by_condition( collection_name, filter_condition,output_fields)\n",
    "# orm.create_collection(\"demo_test\")"
   ]
  },
  {
   "cell_type": "code",
   "execution_count": null,
   "id": "c32d5a5b",
   "metadata": {},
   "outputs": [],
   "source": [
    "from pymilvus import FieldSchema, CollectionSchema, DataType, Collection\n",
    "\n",
    "# 定义字段\n",
    "field1 = FieldSchema(\n",
    "    name=\"id\",\n",
    "    dtype=DataType.INT64,\n",
    "    is_primary=True,  # 设置为主键\n",
    "    auto_id=False  # 不使用自动生成的 ID\n",
    ")\n",
    "field2 = FieldSchema(\n",
    "    name=\"name\",\n",
    "    dtype=DataType.VARCHAR,\n",
    "    max_length=64  # 设置字符串的最大长度\n",
    ")\n",
    "field3 = FieldSchema(\n",
    "    name=\"embedding\",\n",
    "    dtype=DataType.FLOAT_VECTOR,\n",
    "    dim=128  # 设置向量的维度\n",
    ")\n",
    "\n",
    "# 定义集合模式\n",
    "schema = CollectionSchema(\n",
    "    fields=[field1, field2, field3],\n",
    "    description=\"A collection with multiple fields\"\n",
    ")\n",
    "\n",
    "# 创建集合\n",
    "collection_name = \"my_collection\"\n",
    "collection = Collection(\n",
    "    name=collection_name,\n",
    "    schema=schema\n",
    ")"
   ]
  }
 ],
 "metadata": {
  "kernelspec": {
   "display_name": "Python 3",
   "language": "python",
   "name": "python3"
  },
  "language_info": {
   "codemirror_mode": {
    "name": "ipython",
    "version": 3
   },
   "file_extension": ".py",
   "mimetype": "text/x-python",
   "name": "python",
   "nbconvert_exporter": "python",
   "pygments_lexer": "ipython3",
   "version": "3.10.16"
  }
 },
 "nbformat": 4,
 "nbformat_minor": 5
}
