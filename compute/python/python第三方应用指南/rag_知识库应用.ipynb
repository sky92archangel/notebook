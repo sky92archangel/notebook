{
 "cells": [
  {
   "cell_type": "markdown",
   "metadata": {},
   "source": [
    "## 本地RAG知识库 测试"
   ]
  },
  {
   "cell_type": "markdown",
   "metadata": {},
   "source": [
    "### 解析pdf"
   ]
  },
  {
   "cell_type": "code",
   "execution_count": 1,
   "metadata": {},
   "outputs": [
    {
     "name": "stdout",
     "output_type": "stream",
     "text": [
      "page_content='版 权信息\n",
      "书\n",
      "作\n",
      "出\n",
      "名：知识大迁移：移动时代知识的真正价值\n",
      "者：【美】威廉·庞德斯通\n",
      "版社：浙江人民出版社·湛庐文化\n",
      "湛庐图书有限公司授权得到 APP电子版制作与发行\n",
      "版权所有·侵权必究\n",
      "此书献给凯西（Kathy），纪念所有美好的时光\n",
      "谎言重复千遍即成真理。\n",
      "※人们常常把这句话错误地安在纳粹德国宣传部部长约瑟夫 ·戈培\n",
      "尔的头上，但实际上不是。\n",
      "前言\n",
      "知识，究竟去了哪里？\n",
      "' metadata={'source': 'data\\\\test_book.pdf', 'page': 0, 'page_label': '1'}\n"
     ]
    }
   ],
   "source": [
    "\n",
    "from langchain.document_loaders.pdf import PyPDFDirectoryLoader\n",
    "\n",
    "DATA_PATH = \"data\"\n",
    "def load_documents():\n",
    "    document_loader = PyPDFDirectoryLoader(DATA_PATH)\n",
    "    return document_loader.load()\n",
    "\n",
    "documents = load_documents()\n",
    "print(documents[0])"
   ]
  },
  {
   "cell_type": "markdown",
   "metadata": {},
   "source": [
    "### embed词嵌入操作"
   ]
  },
  {
   "cell_type": "code",
   "execution_count": null,
   "metadata": {},
   "outputs": [],
   "source": [
    "from langchain_community.embeddings.ollama import OllamaEmbeddings\n",
    "from langchain_community.embeddings.bedrock import BedrockEmbeddings\n",
    "\n",
    "\n",
    "##########################################################\n",
    "\n",
    "def get_embedding_function():\n",
    "    embeddings = BedrockEmbeddings(\n",
    "        credentials_profile_name=\"default\", region_name=\"us-east-1\"\n",
    "    )\n",
    "    # embeddings = OllamaEmbeddings(model=\"nomic-embed-text\")\n",
    "    return embeddings\n",
    "\n",
    "def get_embedding_function_local():\n",
    "    embeddings = OllamaEmbeddings(model=\"bge-m3:latest\")\n",
    "    return embeddings\n",
    " \n",
    "# 指定本地Ollama服务的地址\n",
    "def get_embedding_function_ip():\n",
    "    # 创建 OllamaEmbeddings 实例\n",
    "    embeddings = OllamaEmbeddings(\n",
    "        base_url=\"http://127.0.0.1:11434\",  \n",
    "        model=\"bge-m3:latest\"  # 替换为你的模型名称\n",
    "    )\n",
    "    return embeddings\n",
    "\n",
    "##########################################################\n",
    "\n",
    "# 获取嵌入函数\n",
    "embedding_function = get_embedding_function()\n",
    "\n",
    "# 单个文本\n",
    "text = \"这是一个测试文本。\"\n",
    "# 生成嵌入向量\n",
    "embedding = embedding_function.embed_query(text)\n",
    "print(f\"单个文本的嵌入向量长度: {len(embedding)}\")\n",
    "print(f\"单个文本的嵌入向量: {embedding}\")\n",
    " "
   ]
  },
  {
   "cell_type": "markdown",
   "metadata": {},
   "source": [
    "### 向量数据库操作"
   ]
  },
  {
   "cell_type": "code",
   "execution_count": 2,
   "metadata": {},
   "outputs": [],
   "source": [
    "import chromadb\n",
    "\n",
    "client = chromadb.PersistentClient(path=\"data/chroma_test.db\")\n"
   ]
  }
 ],
 "metadata": {
  "kernelspec": {
   "display_name": "learn_env",
   "language": "python",
   "name": "python3"
  },
  "language_info": {
   "codemirror_mode": {
    "name": "ipython",
    "version": 3
   },
   "file_extension": ".py",
   "mimetype": "text/x-python",
   "name": "python",
   "nbconvert_exporter": "python",
   "pygments_lexer": "ipython3",
   "version": "3.9.18"
  }
 },
 "nbformat": 4,
 "nbformat_minor": 2
}
