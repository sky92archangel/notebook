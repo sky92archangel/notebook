{
 "cells": [
  {
   "cell_type": "markdown",
   "metadata": {},
   "source": [
    "## sqlite3"
   ]
  },
  {
   "cell_type": "code",
   "execution_count": null,
   "metadata": {},
   "outputs": [],
   "source": [
    "import sqlite3\n",
    "\n",
    "db = sqlite3.connect('./orm.db')\n",
    "cursor = db.cursor()\n",
    "cursor.execute(\"select * from book\")\n",
    "\n",
    "#参数化查询 防止注入\n",
    "sql = \"insert into book(title,content) VALUES(?,?)\"\n",
    "cursor.execute(sql,('Alice','alice another book'))"
   ]
  },
  {
   "cell_type": "markdown",
   "metadata": {},
   "source": [
    "## sqlmodel"
   ]
  },
  {
   "cell_type": "code",
   "execution_count": null,
   "metadata": {},
   "outputs": [],
   "source": [
    "from sqlmodel import SQLModel, Field, create_engine,Session,Relationship, select\n",
    "\n",
    "engine = create_engine('sqlite:///orm.db')\n",
    "\n",
    "class Author(SQLModel,table=True):\n",
    "    id: int = Field(default=None, primary_key=True)\n",
    "    name: str=Field(max_length=50)\n",
    "    email:str=Field(max_length=50)\n",
    "    books: list[\"Book\"]= Relationship(back_populates=\"author\")\n",
    "\n",
    "class Book(SQLModel, table=True):\n",
    "    id: int =Field(default=None, primary_key=True)\n",
    "    title:str=Field(max_length=100)\n",
    "    content:str\n",
    "    author_id: int = Field(foreign_key=\"author.id\")\n",
    "\n",
    "    author: Author = Relationship(back_populates=\"books\")\n",
    "\n",
    "SQLModel.metadata.create_all(engine)\n",
    " \n",
    "with Session(engine)as session:\n",
    "    author1 = Author(name='Alice',email='alice@example.com')\n",
    "    author2 = Author(name='Bob',email='bob@example.com')\n",
    "    book1 = Book(title='Alice s First Book', content='This is the content of Alice s first book,', author=author1)\n",
    "    book2 = Book(title='Alice s Second Book', content='This is the content of Alice s second book.', author=author1)\n",
    "    book3 = Book(title='Bob s First Book', content='This is the content of Bob s first book.', author=author2)\n",
    "\n",
    "session.add_all([author1, author2, book1, book2, book3])\n",
    "session.commit()\n"
   ]
  },
  {
   "cell_type": "code",
   "execution_count": null,
   "metadata": {},
   "outputs": [
    {
     "name": "stdout",
     "output_type": "stream",
     "text": [
      "title='Alice s First Book' content='This is the content of Alice s first book,' author_id=1 id=1\n",
      "title='Alice s Second Book' content='This is the content of Alice s second book.' author_id=1 id=2\n",
      "title='Bob s First Book' content='This is the content of Bob s first book.' author_id=2 id=3\n"
     ]
    }
   ],
   "source": [
    "#全表查询\n",
    "with Session(engine)as session:\n",
    "    statement =select(Book)\n",
    "    results =session.exec(statement).all()\n",
    "\n",
    "for book in results:\n",
    "    print(book)"
   ]
  },
  {
   "cell_type": "code",
   "execution_count": null,
   "metadata": {},
   "outputs": [
    {
     "name": "stdout",
     "output_type": "stream",
     "text": [
      "title='Alice s First Book' content='This is the content of Alice s first book,' author_id=1 id=1\n"
     ]
    }
   ],
   "source": [
    "#where子句查询\n",
    "with Session(engine)as session:\n",
    "    statement =select(Book).where  (Book.title=='Alice s Second Book')\n",
    "    results =session.exec(statement).all()\n",
    "\n",
    "for book in results:\n",
    "    print(book)"
   ]
  },
  {
   "cell_type": "code",
   "execution_count": null,
   "metadata": {},
   "outputs": [
    {
     "name": "stdout",
     "output_type": "stream",
     "text": [
      "Book: Alice s Updated First Book, Author:Alice\n",
      "Book: Alice s Second Book, Author:Alice\n",
      "Book: Bob s First Book, Author:Bob\n"
     ]
    }
   ],
   "source": [
    "#join连结查询\n",
    "with Session(engine)as session:\n",
    "    statement =select(Book,Author).join(Author)\n",
    "    books_with_authors =session.exec(statement).all()\n",
    "for book, author in books_with_authors:\n",
    "    print(f\"Book: {book.title}, Author:{author.name}\")"
   ]
  },
  {
   "cell_type": "code",
   "execution_count": null,
   "metadata": {},
   "outputs": [
    {
     "name": "stdout",
     "output_type": "stream",
     "text": [
      "Updated book: Alice s Updated First Book\n"
     ]
    }
   ],
   "source": [
    "#update 修改\n",
    "with Session(engine)as session:\n",
    "    statement =select(Book).where(Book.title == 'Alice s First Book')\n",
    "    book_to_delete = session.exec(statement).first()\n",
    "\n",
    "if book_to_delete:\n",
    "    book_to_delete.title ='Alice s Updated First Book'\n",
    "    session.add(book_to_delete)\n",
    "    session.commit()\n",
    "    session.refresh(book_to_delete)\n",
    "    print(f\"Updated book: {book_to_delete.title}\")"
   ]
  },
  {
   "cell_type": "code",
   "execution_count": null,
   "metadata": {},
   "outputs": [],
   "source": [
    "#delete删除\n",
    "with Session(engine) as session:\n",
    "    statement =select(Book).where(Book.title == 'Alice s Updated First Book')\n",
    "    book_to_delete = session.exec(statement).first()\n",
    "\n",
    "if book_to_delete:  \n",
    "    session.add(book_to_delete)\n",
    "    session.commit() "
   ]
  }
 ],
 "metadata": {
  "kernelspec": {
   "display_name": "Python 3",
   "language": "python",
   "name": "python3"
  },
  "language_info": {
   "codemirror_mode": {
    "name": "ipython",
    "version": 3
   },
   "file_extension": ".py",
   "mimetype": "text/x-python",
   "name": "python",
   "nbconvert_exporter": "python",
   "pygments_lexer": "ipython3",
   "version": "3.10.10"
  }
 },
 "nbformat": 4,
 "nbformat_minor": 2
}
