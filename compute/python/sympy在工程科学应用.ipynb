{
 "cells": [
  {
   "cell_type": "markdown",
   "id": "3fbd44ce-2f28-4461-955c-79d15e46717e",
   "metadata": {},
   "source": [
    "# python包sympy在物理工程和数学的应用导论"
   ]
  },
  {
   "cell_type": "code",
   "execution_count": 1,
   "id": "560b366a-3979-4199-a7ed-b6de9186399e",
   "metadata": {},
   "outputs": [],
   "source": [
    "import sympy as smp\n",
    "import numpy as np\n",
    "import matplotlib.pyplot as plt"
   ]
  },
  {
   "cell_type": "markdown",
   "id": "dc93b359-30ee-4e87-88f6-994ff83a0cf3",
   "metadata": {},
   "source": [
    "# Introduction\n",
    "设定一个变量x如下"
   ]
  },
  {
   "cell_type": "code",
   "execution_count": 2,
   "id": "7fdced26-b23f-4ea9-97f9-530394b83e1b",
   "metadata": {},
   "outputs": [
    {
     "data": {
      "text/latex": [
       "$\\displaystyle x$"
      ],
      "text/plain": [
       "x"
      ]
     },
     "execution_count": 2,
     "metadata": {},
     "output_type": "execute_result"
    }
   ],
   "source": [
    "x=smp.symbols('x')\n",
    "x"
   ]
  },
  {
   "cell_type": "code",
   "execution_count": 12,
   "id": "694d2ba6-bed3-4c15-b9f8-ef48a02fc310",
   "metadata": {},
   "outputs": [
    {
     "name": "stdout",
     "output_type": "stream",
     "text": [
      "x**2\n",
      "cos(x)\n"
     ]
    },
    {
     "data": {
      "text/latex": [
       "$\\displaystyle \\sin{\\left(x \\right)}$"
      ],
      "text/plain": [
       "sin(x)"
      ]
     },
     "execution_count": 12,
     "metadata": {},
     "output_type": "execute_result"
    }
   ],
   "source": [
    "print(x **2)\n",
    "print(smp.cos(x))\n",
    "y=smp.sin(x)\n",
    "y"
   ]
  },
  {
   "cell_type": "markdown",
   "id": "964c2862-4354-4063-952c-48e51ab316b2",
   "metadata": {},
   "source": [
    "## 复习：这样利用sympy就可以构建很多方程了"
   ]
  },
  {
   "cell_type": "code",
   "execution_count": 36,
   "id": "291f4edc-2884-48d4-80ff-556c9fe57c4e",
   "metadata": {},
   "outputs": [
    {
     "name": "stdout",
     "output_type": "stream",
     "text": [
      "x**2 + 4*x + 3\n",
      "(x**2 + 4*x + 3)**2\n",
      "(x + 1)**2*(x + 3)**2\n",
      "x**4 + 8*x**3 + 22*x**2 + 24*x + 9\n"
     ]
    },
    {
     "data": {
      "text/latex": [
       "$\\displaystyle \\operatorname{Poly}{\\left( x^{4} + 8 x^{3} + 22 x^{2} + 24 x + 9, x, domain=\\mathbb{Z} \\right)}$"
      ],
      "text/plain": [
       "Poly(x**4 + 8*x**3 + 22*x**2 + 24*x + 9, x, domain='ZZ')"
      ]
     },
     "execution_count": 36,
     "metadata": {},
     "output_type": "execute_result"
    }
   ],
   "source": [
    "y=x**2+4*x+3\n",
    "print(y)\n",
    "\n",
    "z=y**2\n",
    "print(z)\n",
    "\n",
    "#因式分解\n",
    "fac=z.factor()\n",
    "print(fac)\n",
    "\n",
    "#扩展多项式\n",
    "expd=z.expand()\n",
    "print(expd)\n",
    "\n",
    "z.as_poly()"
   ]
  },
  {
   "cell_type": "markdown",
   "id": "2a49a5ac-37be-4d51-858d-45636dba3708",
   "metadata": {},
   "source": [
    "使用 ```smp.solve(f,x)``` 时，总会去找所有使得函数$f(x)=0$的解"
   ]
  },
  {
   "cell_type": "code",
   "execution_count": 38,
   "id": "05ae84d5-5ed9-44a9-9550-e93306e800be",
   "metadata": {},
   "outputs": [
    {
     "data": {
      "text/plain": [
       "[-3, -1]"
      ]
     },
     "execution_count": 38,
     "metadata": {},
     "output_type": "execute_result"
    }
   ],
   "source": [
    "#解方程  注意 五次多项式以上无根式解\n",
    "smp.solve(z,x) "
   ]
  },
  {
   "cell_type": "code",
   "execution_count": 39,
   "id": "db1b35ce-f470-4619-bb1e-516c980cc380",
   "metadata": {},
   "outputs": [
    {
     "data": {
      "text/plain": [
       "[0, pi]"
      ]
     },
     "execution_count": 39,
     "metadata": {},
     "output_type": "execute_result"
    }
   ],
   "source": [
    "smp.solve(smp.sin(x),x)"
   ]
  },
  {
   "cell_type": "markdown",
   "id": "bf2fe51f-9176-4343-af13-b9beb4535142",
   "metadata": {},
   "source": [
    "### 注：在整个后期方程的变化变得复杂之前，如果能够定义变量的数据类型就尽早定义，否则后期复杂操作会导致sympy挤满内存造成内存泄露"
   ]
  },
  {
   "cell_type": "code",
   "execution_count": 50,
   "id": "8d76e1c5-2aec-43f9-be76-6bdac3a819bd",
   "metadata": {},
   "outputs": [
    {
     "name": "stdout",
     "output_type": "stream",
     "text": [
      "[-I, I]\n",
      "[]\n"
     ]
    }
   ],
   "source": [
    "x=smp.symbols('x')\n",
    "res =smp.solve(x**2+1,x) \n",
    "print(res)\n",
    "x=smp.symbols('x',real=True)\n",
    "res=smp.solve(x**2+1,x) \n",
    "print(res) "
   ]
  },
  {
   "cell_type": "code",
   "execution_count": 51,
   "id": "daa89993-92bf-40b4-b90f-849de537fee8",
   "metadata": {},
   "outputs": [
    {
     "name": "stdout",
     "output_type": "stream",
     "text": [
      "[-4]\n",
      "[]\n"
     ]
    }
   ],
   "source": [
    "x=smp.symbols('x',real=True )\n",
    "res =smp.solve(x +4,x) \n",
    "print(res)\n",
    "#注意这里指定了正数，该正负指定对于虚数i无用\n",
    "x=smp.symbols('x',real=True,positive=True)\n",
    "res =smp.solve(x +4,x) \n",
    "print(res)"
   ]
  },
  {
   "cell_type": "markdown",
   "id": "d4f99357-e2e1-4042-bd4b-b65f402b17e1",
   "metadata": {},
   "source": [
    "可指定多个变量"
   ]
  },
  {
   "cell_type": "code",
   "execution_count": 4,
   "id": "ea82213b-cb8b-4fa7-ae9f-4dfedafacf4b",
   "metadata": {},
   "outputs": [
    {
     "data": {
      "text/latex": [
       "$\\displaystyle x^{2} + y \\sin{\\left(z \\right)}$"
      ],
      "text/plain": [
       "x**2 + y*sin(z)"
      ]
     },
     "execution_count": 4,
     "metadata": {},
     "output_type": "execute_result"
    }
   ],
   "source": [
    "x,y,z=smp.symbols('x y z')\n",
    "F= x**2+smp.sin(z)*y\n",
    "F"
   ]
  },
  {
   "cell_type": "code",
   "execution_count": 65,
   "id": "cbc5f620-4821-48dc-9a0e-347e8171bece",
   "metadata": {},
   "outputs": [
    {
     "name": "stdout",
     "output_type": "stream",
     "text": [
      "[-sqrt(-y*sin(z)), sqrt(-y*sin(z))]\n",
      "[-x**2/sin(z)]\n",
      "[asin(x**2/y) + pi, -asin(x**2/y)]\n"
     ]
    }
   ],
   "source": [
    "#此时需要寻找F=0的x的解 使用 yz表达\n",
    "x_sols=smp.solve(F,x)\n",
    "print(x_sols)\n",
    "y_sols=smp.solve(F,y)\n",
    "print(y_sols)\n",
    "z_sols=smp.solve(F,z)\n",
    "print(z_sols)"
   ]
  },
  {
   "cell_type": "markdown",
   "id": "aa889c2c-1022-4142-be34-1febc0cc6009",
   "metadata": {},
   "source": [
    "然后把方程转为数值函数，在matplot上显示出来"
   ]
  },
  {
   "cell_type": "code",
   "execution_count": 69,
   "id": "7bd107ae-cf07-499f-83a5-0c7a92af1c12",
   "metadata": {},
   "outputs": [
    {
     "name": "stdout",
     "output_type": "stream",
     "text": [
      "asin(x**2/y) + pi\n"
     ]
    },
    {
     "data": {
      "text/plain": [
       "3.6651914291880923"
      ]
     },
     "execution_count": 69,
     "metadata": {},
     "output_type": "execute_result"
    }
   ],
   "source": [
    "expr= z_sols[0]\n",
    "print(expr)\n",
    "#给予函数一组变量数字用以计算\n",
    "expr_f=smp.lambdify([x,y],expr)\n",
    "expr_f(1,2) "
   ]
  },
  {
   "cell_type": "code",
   "execution_count": 74,
   "id": "6965c9b1-1bdb-4718-9b18-d4d07aee20ba",
   "metadata": {},
   "outputs": [
    {
     "data": {
      "image/png": "[encoded data removed]",
      "text/plain": [
       "<Figure size 640x480 with 1 Axes>"
      ]
     },
     "metadata": {},
     "output_type": "display_data"
    }
   ],
   "source": [
    "x_num=np.linspace(0,1,100)\n",
    "y_num=2\n",
    "plt.plot(x_num,expr_f(x_num,y_num))\n",
    "plt.show()"
   ]
  },
  {
   "cell_type": "markdown",
   "id": "52f60bdd-3a50-48ad-a5bd-85e897e85d21",
   "metadata": {},
   "source": [
    "多元方程可以对变量做赋值，甚至于替换变量"
   ]
  },
  {
   "cell_type": "code",
   "execution_count": 5,
   "id": "6229dcbf-bc96-43c6-bdb1-794c41b0c74b",
   "metadata": {},
   "outputs": [
    {
     "name": "stdout",
     "output_type": "stream",
     "text": [
      "x**2 + y*sin(z)\n",
      "x**2 + sin(z)*cos(z)\n",
      "x**2\n"
     ]
    }
   ],
   "source": [
    "print(F)\n",
    "res=F.subs([(y,smp.cos(z))])\n",
    "print(res)\n",
    "res=F.subs([(y,smp.cos(z)),(z,smp.pi/2)])\n",
    "print(res)"
   ]
  },
  {
   "cell_type": "markdown",
   "id": "bfafb8d4-db2b-4f73-9d04-789d24fa3b1f",
   "metadata": {},
   "source": [
    "# 样例\n",
    "一个下落的物体，和一个平台，都在重力加速度影响下下落，其方程如下\n",
    "\\\n",
    "Object:$h_o(t)=h_0-v_0t-\\frac12gt^2$\n",
    "\\\n",
    "Platform:$h_p(t)=v_pt+\\frac12qt^2$\n",
    "\\\n",
    "找出一个初始速度 $v_0$ 使得物体和平台在等速的时候相撞；\n",
    "\\\n",
    "根据条件碰撞时高度相同，速度也相同，那么我们要解开两个联立的等式：\\\n",
    "$h_o(t)=h_p(t)$\\\n",
    "$\\frac{dh_0}{d_t}(t)=-\\frac{dh_p}{dt}(t)$\\\n",
    "由于在sympy中是右侧为0的方程解法，那么处理一下\\\n",
    "$h_o(t)-h_p(t)=0$\\\n",
    "$\\frac{dh_0}{d_t}(t)+\\frac{dh_p}{dt}(t)=0$\\\n",
    "\\\n",
    "那么可以开始编程"
   ]
  },
  {
   "cell_type": "code",
   "execution_count": 6,
   "id": "6e79ff05-82be-48ce-aa9b-5a24ad5d3625",
   "metadata": {},
   "outputs": [],
   "source": [
    "t,h0,v0,g,vp,q=smp.symbols('t h_0 v_0 g v_p q',real=True,positive=True)\n"
   ]
  },
  {
   "cell_type": "code",
   "execution_count": 9,
   "id": "a6a87acf-f4de-43b2-9270-b91c3d74eba3",
   "metadata": {},
   "outputs": [],
   "source": [
    "#Rational表达严格数学上的分数含义 而非计算机的除法  可保证精度\n",
    "h0t=h0-v0*t-smp.Rational(1,2)*g*t**2\n",
    "dh0_dt=g*t-v0\n",
    "hpt=vp*t+smp.Rational(1,2)*g*t**2\n",
    "dhp_dt=vp+q*t"
   ]
  },
  {
   "cell_type": "code",
   "execution_count": 10,
   "id": "c880b7b9-dc68-4406-8b2f-5a266b72dad9",
   "metadata": {},
   "outputs": [],
   "source": [
    "eq1=h0t-hpt\n",
    "eq2=dh0_dt+dhp_dt"
   ]
  },
  {
   "cell_type": "code",
   "execution_count": 11,
   "id": "7750dd86-6a3c-42a3-ab67-0bcfd1275b1e",
   "metadata": {},
   "outputs": [],
   "source": [
    "#连立方程解法   并取出第一对解\n",
    "t_collide,v_initfall=smp.solve([eq1,eq2],[t,v0])[0]"
   ]
  },
  {
   "cell_type": "code",
   "execution_count": 13,
   "id": "08782a96-28f7-4dc5-b1ff-6403257c74c4",
   "metadata": {},
   "outputs": [
    {
     "data": {
      "text/latex": [
       "$\\displaystyle \\frac{\\frac{g v_{p}}{2 g + q} - v_{p} - \\frac{\\left(g + q\\right) \\sqrt{2 g h_{0} + h_{0} q + v_{p}^{2}}}{2 g + q}}{g + q}$"
      ],
      "text/plain": [
       "(g*v_p/(2*g + q) - v_p - (g + q)*sqrt(2*g*h_0 + h_0*q + v_p**2)/(2*g + q))/(g + q)"
      ]
     },
     "execution_count": 13,
     "metadata": {},
     "output_type": "execute_result"
    }
   ],
   "source": [
    "smp.solve([eq1,eq2],[t,v0])[0][0]"
   ]
  },
  {
   "cell_type": "code",
   "execution_count": 14,
   "id": "fcad4208-4b4b-442a-b389-2934a224a35c",
   "metadata": {},
   "outputs": [
    {
     "data": {
      "text/latex": [
       "$\\displaystyle \\frac{g v_{p}}{2 g + q} - \\frac{\\left(g + q\\right) \\sqrt{2 g h_{0} + h_{0} q + v_{p}^{2}}}{2 g + q}$"
      ],
      "text/plain": [
       "g*v_p/(2*g + q) - (g + q)*sqrt(2*g*h_0 + h_0*q + v_p**2)/(2*g + q)"
      ]
     },
     "execution_count": 14,
     "metadata": {},
     "output_type": "execute_result"
    }
   ],
   "source": [
    "v_initfall"
   ]
  },
  {
   "cell_type": "code",
   "execution_count": 15,
   "id": "661d7db6-6918-41f5-ad2b-da26a3c0514d",
   "metadata": {},
   "outputs": [
    {
     "data": {
      "text/latex": [
       "$\\displaystyle \\frac{- 2 g v_{p} + q \\sqrt{2 g h_{0} + h_{0} q + v_{p}^{2}}}{2 g + q}$"
      ],
      "text/plain": [
       "(-2*g*v_p + q*sqrt(2*g*h_0 + h_0*q + v_p**2))/(2*g + q)"
      ]
     },
     "execution_count": 15,
     "metadata": {},
     "output_type": "execute_result"
    }
   ],
   "source": [
    "dh0_dt.subs([(t,t_collide),(v0,v_initfall)]).simplify()"
   ]
  },
  {
   "cell_type": "code",
   "execution_count": 17,
   "id": "9e8bd573-575b-42e6-9b47-6efd480901c5",
   "metadata": {},
   "outputs": [
    {
     "data": {
      "text/latex": [
       "$\\displaystyle \\frac{2 g v_{p} - q \\sqrt{2 g h_{0} + h_{0} q + v_{p}^{2}}}{2 g + q}$"
      ],
      "text/plain": [
       "(2*g*v_p - q*sqrt(2*g*h_0 + h_0*q + v_p**2))/(2*g + q)"
      ]
     },
     "execution_count": 17,
     "metadata": {},
     "output_type": "execute_result"
    }
   ],
   "source": [
    "dhp_dt.subs([(t,t_collide),(v0,v_initfall)]).simplify()"
   ]
  },
  {
   "cell_type": "code",
   "execution_count": null,
   "id": "d892e35d-3d5f-42c2-a525-26f5f789f29d",
   "metadata": {},
   "outputs": [],
   "source": []
  }
 ],
 "metadata": {
  "kernelspec": {
   "display_name": "Python 3 (ipykernel)",
   "language": "python",
   "name": "python3"
  },
  "language_info": {
   "codemirror_mode": {
    "name": "ipython",
    "version": 3
   },
   "file_extension": ".py",
   "mimetype": "text/x-python",
   "name": "python",
   "nbconvert_exporter": "python",
   "pygments_lexer": "ipython3",
   "version": "3.9.18"
  }
 },
 "nbformat": 4,
 "nbformat_minor": 5
}
