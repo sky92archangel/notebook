{
 "cells": [
  {
   "cell_type": "markdown",
   "id": "3fbd44ce-2f28-4461-955c-79d15e46717e",
   "metadata": {},
   "source": [
    "# python包sympy在物理工程和数学的应用导论"
   ]
  },
  {
   "cell_type": "code",
   "execution_count": 2,
   "id": "560b366a-3979-4199-a7ed-b6de9186399e",
   "metadata": {},
   "outputs": [],
   "source": [
    "import sympy as smp\n",
    "import numpy as np\n",
    "import matplotlib.pyplot as plt"
   ]
  },
  {
   "cell_type": "markdown",
   "id": "dc93b359-30ee-4e87-88f6-994ff83a0cf3",
   "metadata": {},
   "source": [
    "# Introduction\n",
    "设定一个变量x如下"
   ]
  },
  {
   "cell_type": "code",
   "execution_count": 2,
   "id": "7fdced26-b23f-4ea9-97f9-530394b83e1b",
   "metadata": {},
   "outputs": [
    {
     "data": {
      "text/latex": [
       "$\\displaystyle x$"
      ],
      "text/plain": [
       "x"
      ]
     },
     "execution_count": 2,
     "metadata": {},
     "output_type": "execute_result"
    }
   ],
   "source": [
    "x=smp.symbols('x')\n",
    "x"
   ]
  },
  {
   "cell_type": "code",
   "execution_count": 12,
   "id": "694d2ba6-bed3-4c15-b9f8-ef48a02fc310",
   "metadata": {},
   "outputs": [
    {
     "name": "stdout",
     "output_type": "stream",
     "text": [
      "x**2\n",
      "cos(x)\n"
     ]
    },
    {
     "data": {
      "text/latex": [
       "$\\displaystyle \\sin{\\left(x \\right)}$"
      ],
      "text/plain": [
       "sin(x)"
      ]
     },
     "execution_count": 12,
     "metadata": {},
     "output_type": "execute_result"
    }
   ],
   "source": [
    "print(x **2)\n",
    "print(smp.cos(x))\n",
    "y=smp.sin(x)\n",
    "y"
   ]
  },
  {
   "cell_type": "markdown",
   "id": "964c2862-4354-4063-952c-48e51ab316b2",
   "metadata": {},
   "source": [
    "## 复习：这样利用sympy就可以构建很多方程了"
   ]
  },
  {
   "cell_type": "code",
   "execution_count": 36,
   "id": "291f4edc-2884-48d4-80ff-556c9fe57c4e",
   "metadata": {},
   "outputs": [
    {
     "name": "stdout",
     "output_type": "stream",
     "text": [
      "x**2 + 4*x + 3\n",
      "(x**2 + 4*x + 3)**2\n",
      "(x + 1)**2*(x + 3)**2\n",
      "x**4 + 8*x**3 + 22*x**2 + 24*x + 9\n"
     ]
    },
    {
     "data": {
      "text/latex": [
       "$\\displaystyle \\operatorname{Poly}{\\left( x^{4} + 8 x^{3} + 22 x^{2} + 24 x + 9, x, domain=\\mathbb{Z} \\right)}$"
      ],
      "text/plain": [
       "Poly(x**4 + 8*x**3 + 22*x**2 + 24*x + 9, x, domain='ZZ')"
      ]
     },
     "execution_count": 36,
     "metadata": {},
     "output_type": "execute_result"
    }
   ],
   "source": [
    "y=x**2+4*x+3\n",
    "print(y)\n",
    "\n",
    "z=y**2\n",
    "print(z)\n",
    "\n",
    "#因式分解\n",
    "fac=z.factor()\n",
    "print(fac)\n",
    "\n",
    "#扩展多项式\n",
    "expd=z.expand()\n",
    "print(expd)\n",
    "\n",
    "z.as_poly()"
   ]
  },
  {
   "cell_type": "markdown",
   "id": "2a49a5ac-37be-4d51-858d-45636dba3708",
   "metadata": {},
   "source": [
    "使用 ```smp.solve(f,x)``` 时，总会去找所有使得函数$f(x)=0$的解"
   ]
  },
  {
   "cell_type": "code",
   "execution_count": 38,
   "id": "05ae84d5-5ed9-44a9-9550-e93306e800be",
   "metadata": {},
   "outputs": [
    {
     "data": {
      "text/plain": [
       "[-3, -1]"
      ]
     },
     "execution_count": 38,
     "metadata": {},
     "output_type": "execute_result"
    }
   ],
   "source": [
    "#解方程  注意 五次多项式以上无根式解\n",
    "smp.solve(z,x) "
   ]
  },
  {
   "cell_type": "code",
   "execution_count": 39,
   "id": "db1b35ce-f470-4619-bb1e-516c980cc380",
   "metadata": {},
   "outputs": [
    {
     "data": {
      "text/plain": [
       "[0, pi]"
      ]
     },
     "execution_count": 39,
     "metadata": {},
     "output_type": "execute_result"
    }
   ],
   "source": [
    "smp.solve(smp.sin(x),x)"
   ]
  },
  {
   "cell_type": "markdown",
   "id": "bf2fe51f-9176-4343-af13-b9beb4535142",
   "metadata": {},
   "source": [
    "### 注：在整个后期方程的变化变得复杂之前，如果能够定义变量的数据类型就尽早定义，否则后期复杂操作会导致sympy挤满内存造成内存泄露"
   ]
  },
  {
   "cell_type": "code",
   "execution_count": 50,
   "id": "8d76e1c5-2aec-43f9-be76-6bdac3a819bd",
   "metadata": {},
   "outputs": [
    {
     "name": "stdout",
     "output_type": "stream",
     "text": [
      "[-I, I]\n",
      "[]\n"
     ]
    }
   ],
   "source": [
    "x=smp.symbols('x')\n",
    "res =smp.solve(x**2+1,x) \n",
    "print(res)\n",
    "x=smp.symbols('x',real=True)\n",
    "res=smp.solve(x**2+1,x) \n",
    "print(res) "
   ]
  },
  {
   "cell_type": "code",
   "execution_count": 51,
   "id": "daa89993-92bf-40b4-b90f-849de537fee8",
   "metadata": {},
   "outputs": [
    {
     "name": "stdout",
     "output_type": "stream",
     "text": [
      "[-4]\n",
      "[]\n"
     ]
    }
   ],
   "source": [
    "x=smp.symbols('x',real=True )\n",
    "res =smp.solve(x +4,x) \n",
    "print(res)\n",
    "#注意这里指定了正数，该正负指定对于虚数i无用\n",
    "x=smp.symbols('x',real=True,positive=True)\n",
    "res =smp.solve(x +4,x) \n",
    "print(res)"
   ]
  },
  {
   "cell_type": "markdown",
   "id": "d4f99357-e2e1-4042-bd4b-b65f402b17e1",
   "metadata": {},
   "source": [
    "可指定多个变量"
   ]
  },
  {
   "cell_type": "code",
   "execution_count": 4,
   "id": "ea82213b-cb8b-4fa7-ae9f-4dfedafacf4b",
   "metadata": {},
   "outputs": [
    {
     "data": {
      "text/latex": [
       "$\\displaystyle x^{2} + y \\sin{\\left(z \\right)}$"
      ],
      "text/plain": [
       "x**2 + y*sin(z)"
      ]
     },
     "execution_count": 4,
     "metadata": {},
     "output_type": "execute_result"
    }
   ],
   "source": [
    "x,y,z=smp.symbols('x y z')\n",
    "F= x**2+smp.sin(z)*y\n",
    "F"
   ]
  },
  {
   "cell_type": "code",
   "execution_count": 65,
   "id": "cbc5f620-4821-48dc-9a0e-347e8171bece",
   "metadata": {},
   "outputs": [
    {
     "name": "stdout",
     "output_type": "stream",
     "text": [
      "[-sqrt(-y*sin(z)), sqrt(-y*sin(z))]\n",
      "[-x**2/sin(z)]\n",
      "[asin(x**2/y) + pi, -asin(x**2/y)]\n"
     ]
    }
   ],
   "source": [
    "#此时需要寻找F=0的x的解 使用 yz表达\n",
    "x_sols=smp.solve(F,x)\n",
    "print(x_sols)\n",
    "y_sols=smp.solve(F,y)\n",
    "print(y_sols)\n",
    "z_sols=smp.solve(F,z)\n",
    "print(z_sols)"
   ]
  },
  {
   "cell_type": "markdown",
   "id": "aa889c2c-1022-4142-be34-1febc0cc6009",
   "metadata": {},
   "source": [
    "然后把方程转为数值函数，在matplot上显示出来"
   ]
  },
  {
   "cell_type": "code",
   "execution_count": 69,
   "id": "7bd107ae-cf07-499f-83a5-0c7a92af1c12",
   "metadata": {},
   "outputs": [
    {
     "name": "stdout",
     "output_type": "stream",
     "text": [
      "asin(x**2/y) + pi\n"
     ]
    },
    {
     "data": {
      "text/plain": [
       "3.6651914291880923"
      ]
     },
     "execution_count": 69,
     "metadata": {},
     "output_type": "execute_result"
    }
   ],
   "source": [
    "expr= z_sols[0]\n",
    "print(expr)\n",
    "#给予函数一组变量数字用以计算\n",
    "expr_f=smp.lambdify([x,y],expr)\n",
    "expr_f(1,2) "
   ]
  },
  {
   "cell_type": "code",
   "execution_count": 74,
   "id": "6965c9b1-1bdb-4718-9b18-d4d07aee20ba",
   "metadata": {},
   "outputs": [
    {
     "data": {
      "image/png": "[encoded data removed]",
      "text/plain": [
       "<Figure size 640x480 with 1 Axes>"
      ]
     },
     "metadata": {},
     "output_type": "display_data"
    }
   ],
   "source": [
    "x_num=np.linspace(0,1,100)\n",
    "y_num=2\n",
    "plt.plot(x_num,expr_f(x_num,y_num))\n",
    "plt.show()"
   ]
  },
  {
   "cell_type": "markdown",
   "id": "52f60bdd-3a50-48ad-a5bd-85e897e85d21",
   "metadata": {},
   "source": [
    "多元方程可以对变量做赋值，甚至于替换变量"
   ]
  },
  {
   "cell_type": "code",
   "execution_count": 5,
   "id": "6229dcbf-bc96-43c6-bdb1-794c41b0c74b",
   "metadata": {},
   "outputs": [
    {
     "name": "stdout",
     "output_type": "stream",
     "text": [
      "x**2 + y*sin(z)\n",
      "x**2 + sin(z)*cos(z)\n",
      "x**2\n"
     ]
    }
   ],
   "source": [
    "print(F)\n",
    "res=F.subs([(y,smp.cos(z))])\n",
    "print(res)\n",
    "res=F.subs([(y,smp.cos(z)),(z,smp.pi/2)])\n",
    "print(res)"
   ]
  },
  {
   "cell_type": "markdown",
   "id": "bfafb8d4-db2b-4f73-9d04-789d24fa3b1f",
   "metadata": {},
   "source": [
    "## 样例\n",
    "一个下落的物体，和一个平台，都在重力加速度影响下下落，其方程如下\n",
    "\\\n",
    "Object:$h_o(t)=h_0-v_0t-\\frac12gt^2$\n",
    "\\\n",
    "Platform:$h_p(t)=v_pt+\\frac12qt^2$\n",
    "\\\n",
    "找出一个初始速度 $v_0$ 使得物体和平台在等速的时候相撞；\n",
    "\\\n",
    "根据条件碰撞时高度相同，速度也相同，那么我们要解开两个联立的等式：\\\n",
    "$h_o(t)=h_p(t)$\\\n",
    "$\\frac{dh_0}{d_t}(t)=-\\frac{dh_p}{dt}(t)$\\\n",
    "由于在sympy中是右侧为0的方程解法，那么处理一下\\\n",
    "$h_o(t)-h_p(t)=0$\\\n",
    "$\\frac{dh_0}{d_t}(t)+\\frac{dh_p}{dt}(t)=0$\\\n",
    "\\\n",
    "那么可以开始编程"
   ]
  },
  {
   "cell_type": "code",
   "execution_count": 6,
   "id": "6e79ff05-82be-48ce-aa9b-5a24ad5d3625",
   "metadata": {},
   "outputs": [],
   "source": [
    "t,h0,v0,g,vp,q=smp.symbols('t h_0 v_0 g v_p q',real=True,positive=True)\n"
   ]
  },
  {
   "cell_type": "code",
   "execution_count": 9,
   "id": "a6a87acf-f4de-43b2-9270-b91c3d74eba3",
   "metadata": {},
   "outputs": [],
   "source": [
    "#Rational表达严格数学上的分数含义 而非计算机的除法  可保证精度\n",
    "h0t=h0-v0*t-smp.Rational(1,2)*g*t**2\n",
    "dh0_dt=g*t-v0\n",
    "hpt=vp*t+smp.Rational(1,2)*g*t**2\n",
    "dhp_dt=vp+q*t"
   ]
  },
  {
   "cell_type": "code",
   "execution_count": 10,
   "id": "c880b7b9-dc68-4406-8b2f-5a266b72dad9",
   "metadata": {},
   "outputs": [],
   "source": [
    "eq1=h0t-hpt\n",
    "eq2=dh0_dt+dhp_dt"
   ]
  },
  {
   "cell_type": "code",
   "execution_count": 11,
   "id": "7750dd86-6a3c-42a3-ab67-0bcfd1275b1e",
   "metadata": {},
   "outputs": [],
   "source": [
    "#连立方程解法   并取出第一对解\n",
    "t_collide,v_initfall=smp.solve([eq1,eq2],[t,v0])[0]"
   ]
  },
  {
   "cell_type": "code",
   "execution_count": 13,
   "id": "08782a96-28f7-4dc5-b1ff-6403257c74c4",
   "metadata": {},
   "outputs": [
    {
     "data": {
      "text/latex": [
       "$\\displaystyle \\frac{\\frac{g v_{p}}{2 g + q} - v_{p} - \\frac{\\left(g + q\\right) \\sqrt{2 g h_{0} + h_{0} q + v_{p}^{2}}}{2 g + q}}{g + q}$"
      ],
      "text/plain": [
       "(g*v_p/(2*g + q) - v_p - (g + q)*sqrt(2*g*h_0 + h_0*q + v_p**2)/(2*g + q))/(g + q)"
      ]
     },
     "execution_count": 13,
     "metadata": {},
     "output_type": "execute_result"
    }
   ],
   "source": [
    "smp.solve([eq1,eq2],[t,v0])[0][0]"
   ]
  },
  {
   "cell_type": "code",
   "execution_count": 14,
   "id": "fcad4208-4b4b-442a-b389-2934a224a35c",
   "metadata": {},
   "outputs": [
    {
     "data": {
      "text/latex": [
       "$\\displaystyle \\frac{g v_{p}}{2 g + q} - \\frac{\\left(g + q\\right) \\sqrt{2 g h_{0} + h_{0} q + v_{p}^{2}}}{2 g + q}$"
      ],
      "text/plain": [
       "g*v_p/(2*g + q) - (g + q)*sqrt(2*g*h_0 + h_0*q + v_p**2)/(2*g + q)"
      ]
     },
     "execution_count": 14,
     "metadata": {},
     "output_type": "execute_result"
    }
   ],
   "source": [
    "v_initfall"
   ]
  },
  {
   "cell_type": "code",
   "execution_count": 15,
   "id": "661d7db6-6918-41f5-ad2b-da26a3c0514d",
   "metadata": {},
   "outputs": [
    {
     "data": {
      "text/latex": [
       "$\\displaystyle \\frac{- 2 g v_{p} + q \\sqrt{2 g h_{0} + h_{0} q + v_{p}^{2}}}{2 g + q}$"
      ],
      "text/plain": [
       "(-2*g*v_p + q*sqrt(2*g*h_0 + h_0*q + v_p**2))/(2*g + q)"
      ]
     },
     "execution_count": 15,
     "metadata": {},
     "output_type": "execute_result"
    }
   ],
   "source": [
    "dh0_dt.subs([(t,t_collide),(v0,v_initfall)]).simplify()"
   ]
  },
  {
   "cell_type": "code",
   "execution_count": 17,
   "id": "9e8bd573-575b-42e6-9b47-6efd480901c5",
   "metadata": {},
   "outputs": [
    {
     "data": {
      "text/latex": [
       "$\\displaystyle \\frac{2 g v_{p} - q \\sqrt{2 g h_{0} + h_{0} q + v_{p}^{2}}}{2 g + q}$"
      ],
      "text/plain": [
       "(2*g*v_p - q*sqrt(2*g*h_0 + h_0*q + v_p**2))/(2*g + q)"
      ]
     },
     "execution_count": 17,
     "metadata": {},
     "output_type": "execute_result"
    }
   ],
   "source": [
    "dhp_dt.subs([(t,t_collide),(v0,v_initfall)]).simplify()"
   ]
  },
  {
   "cell_type": "markdown",
   "id": "3e2ee01d-d4af-4fe8-ac4f-c360b906a394",
   "metadata": {},
   "source": [
    "# 微积分 第一年"
   ]
  },
  {
   "cell_type": "code",
   "execution_count": 3,
   "id": "467dab07-0e29-4f2c-a793-b78d91e95837",
   "metadata": {},
   "outputs": [],
   "source": [
    "x=smp.symbols('x')"
   ]
  },
  {
   "cell_type": "markdown",
   "id": "e7d6174d-9a25-45c6-aaef-bef4babf3c2f",
   "metadata": {},
   "source": [
    "## 极限\n",
    "$$\n",
    "\\lim\\limits_{x\\to\\pi}\\sin(\\frac x2+\\sin x)\n",
    "$$"
   ]
  },
  {
   "cell_type": "code",
   "execution_count": 5,
   "id": "cdbce38b-06d8-4c90-a01d-c79b0abda3b3",
   "metadata": {},
   "outputs": [
    {
     "data": {
      "text/latex": [
       "$\\displaystyle 1$"
      ],
      "text/plain": [
       "1"
      ]
     },
     "execution_count": 5,
     "metadata": {},
     "output_type": "execute_result"
    }
   ],
   "source": [
    "expr_lim = smp.sin(x/2+smp.sin(x))\n",
    "smp.limit(expr_lim,x,smp.pi)"
   ]
  },
  {
   "cell_type": "markdown",
   "id": "a585aa29-f869-4151-90ee-1456c38840b6",
   "metadata": {},
   "source": [
    "## 微分\n",
    "$$\n",
    "\\frac d{dx}(\\frac{1+\\sin x}{1-\\cos x})^2\n",
    "$$"
   ]
  },
  {
   "cell_type": "code",
   "execution_count": 14,
   "id": "5dd23796-9b5c-425d-9fd2-2cf3b7e058fd",
   "metadata": {},
   "outputs": [
    {
     "data": {
      "text/latex": [
       "$\\displaystyle \\frac{2 \\left(\\sin{\\left(x \\right)} + 1\\right) \\cos{\\left(x \\right)}}{\\left(1 - \\cos{\\left(x \\right)}\\right)^{2}} - \\frac{2 \\left(\\sin{\\left(x \\right)} + 1\\right)^{2} \\sin{\\left(x \\right)}}{\\left(1 - \\cos{\\left(x \\right)}\\right)^{3}}$"
      ],
      "text/plain": [
       "2*(sin(x) + 1)*cos(x)/(1 - cos(x))**2 - 2*(sin(x) + 1)**2*sin(x)/(1 - cos(x))**3"
      ]
     },
     "execution_count": 14,
     "metadata": {},
     "output_type": "execute_result"
    }
   ],
   "source": [
    "expr_diff=((1+smp.sin(x))/(1-smp.cos(x)))**2\n",
    "smp.diff(expr_diff,x) "
   ]
  },
  {
   "cell_type": "markdown",
   "id": "0dcdfafd-2faf-454b-a04e-a3487c0a1777",
   "metadata": {},
   "source": [
    "$$\n",
    "\\frac d{dx} f(x+g(x))\n",
    "$$"
   ]
  },
  {
   "cell_type": "code",
   "execution_count": 15,
   "id": "93ebad48-0f4d-4b88-ac09-8aea304f2903",
   "metadata": {},
   "outputs": [],
   "source": [
    "f,g = smp.symbols('f g',cls=smp.Function)\n",
    "g=g(x)\n",
    "f=f(x+g)"
   ]
  },
  {
   "cell_type": "code",
   "execution_count": 16,
   "id": "34e129d0-9c5c-448f-addd-fee4e529d377",
   "metadata": {},
   "outputs": [
    {
     "data": {
      "text/latex": [
       "$\\displaystyle f{\\left(x + g{\\left(x \\right)} \\right)}$"
      ],
      "text/plain": [
       "f(x + g(x))"
      ]
     },
     "execution_count": 16,
     "metadata": {},
     "output_type": "execute_result"
    }
   ],
   "source": [
    "f"
   ]
  },
  {
   "cell_type": "code",
   "execution_count": 17,
   "id": "2669a112-052b-48e9-9e8d-a4dffc077302",
   "metadata": {},
   "outputs": [
    {
     "data": {
      "text/latex": [
       "$\\displaystyle \\left(\\frac{d}{d x} g{\\left(x \\right)} + 1\\right) \\left. \\frac{d}{d \\xi_{1}} f{\\left(\\xi_{1} \\right)} \\right|_{\\substack{ \\xi_{1}=x + g{\\left(x \\right)} }}$"
      ],
      "text/plain": [
       "(Derivative(g(x), x) + 1)*Subs(Derivative(f(_xi_1), _xi_1), _xi_1, x + g(x))"
      ]
     },
     "execution_count": 17,
     "metadata": {},
     "output_type": "execute_result"
    }
   ],
   "source": [
    "dfdx=smp.diff(f,x)\n",
    "dfdx"
   ]
  },
  {
   "cell_type": "code",
   "execution_count": 21,
   "id": "b8d2ec23-3ff8-4432-85e4-42198bb155a5",
   "metadata": {},
   "outputs": [
    {
     "data": {
      "text/latex": [
       "$\\displaystyle \\left(\\frac{d}{d x} \\sin{\\left(x \\right)} + 1\\right) \\left. \\frac{d}{d \\xi_{1}} f{\\left(\\xi_{1} \\right)} \\right|_{\\substack{ \\xi_{1}=x + \\sin{\\left(x \\right)} }}$"
      ],
      "text/plain": [
       "(Derivative(sin(x), x) + 1)*Subs(Derivative(f(_xi_1), _xi_1), _xi_1, x + sin(x))"
      ]
     },
     "execution_count": 21,
     "metadata": {},
     "output_type": "execute_result"
    }
   ],
   "source": [
    "#对式子内任意组分的替换\n",
    "dfdx.subs([(g,smp.sin(x))])"
   ]
  },
  {
   "cell_type": "code",
   "execution_count": 20,
   "id": "78c7b6fb-76ee-498f-8d89-814f0f5eb99e",
   "metadata": {},
   "outputs": [
    {
     "data": {
      "text/latex": [
       "$\\displaystyle \\left(\\cos{\\left(x \\right)} + 1\\right) \\left. \\frac{d}{d \\xi_{1}} f{\\left(\\xi_{1} \\right)} \\right|_{\\substack{ \\xi_{1}=x + \\sin{\\left(x \\right)} }}$"
      ],
      "text/plain": [
       "(cos(x) + 1)*Subs(Derivative(f(_xi_1), _xi_1), _xi_1, x + sin(x))"
      ]
     },
     "execution_count": 20,
     "metadata": {},
     "output_type": "execute_result"
    }
   ],
   "source": [
    "##对式子内任意组分的替换 并简化\n",
    "dfdx.subs([(g,smp.sin(x))]).doit()"
   ]
  },
  {
   "cell_type": "markdown",
   "id": "f53e4ead-57a8-4d16-a4ef-fd57db102e5d",
   "metadata": {},
   "source": [
    "## 不定积分/反导函数\n",
    "$$\n",
    "\\int \\csc x \\cot x dx\n",
    "$$\n"
   ]
  },
  {
   "cell_type": "code",
   "execution_count": 30,
   "id": "a242ad0a-0a00-4dc7-8ecc-acdfe21e9f37",
   "metadata": {},
   "outputs": [
    {
     "data": {
      "text/latex": [
       "$\\displaystyle - \\frac{1}{\\sin{\\left(x \\right)}}$"
      ],
      "text/plain": [
       "-1/sin(x)"
      ]
     },
     "execution_count": 30,
     "metadata": {},
     "output_type": "execute_result"
    }
   ],
   "source": [
    "func_antidiff=smp.csc(x)*smp.cot(x)\n",
    "smp.integrate(func_antidiff,x) "
   ]
  },
  {
   "cell_type": "markdown",
   "id": "29d36cea-1efe-4f76-900a-91a5e4f9061a",
   "metadata": {},
   "source": [
    "## 定积分\n",
    "$$\n",
    "\\int _0^{\\ln4}\\frac{e^x }{\\sqrt{e^{2x}+9}}dx\n",
    "$$"
   ]
  },
  {
   "cell_type": "code",
   "execution_count": 31,
   "id": "3cbac0d7-b531-423a-bc90-4fed740e6bf6",
   "metadata": {},
   "outputs": [
    {
     "data": {
      "text/latex": [
       "$\\displaystyle - \\operatorname{asinh}{\\left(\\frac{1}{3} \\right)} + \\operatorname{asinh}{\\left(\\frac{4}{3} \\right)}$"
      ],
      "text/plain": [
       "-asinh(1/3) + asinh(4/3)"
      ]
     },
     "execution_count": 31,
     "metadata": {},
     "output_type": "execute_result"
    }
   ],
   "source": [
    "expr_defInt=(smp.exp(x))/(smp.sqrt(smp.exp(2*x)+9))\n",
    "smp.integrate(expr_defInt,(x,0,smp.ln(4)))"
   ]
  },
  {
   "cell_type": "markdown",
   "id": "bb70369d-dfa0-4154-95e2-96c935da8c58",
   "metadata": {},
   "source": [
    "$$\n",
    "\\int_1^t x^{10}e^xdx\n",
    "$$"
   ]
  },
  {
   "cell_type": "code",
   "execution_count": 34,
   "id": "12e75254-a572-40b9-9739-8bf9dbddd4dc",
   "metadata": {},
   "outputs": [
    {
     "data": {
      "text/latex": [
       "$\\displaystyle \\left(t^{10} - 10 t^{9} + 90 t^{8} - 720 t^{7} + 5040 t^{6} - 30240 t^{5} + 151200 t^{4} - 604800 t^{3} + 1814400 t^{2} - 3628800 t + 3628800\\right) e^{t} - 1334961 e$"
      ],
      "text/plain": [
       "(t**10 - 10*t**9 + 90*t**8 - 720*t**7 + 5040*t**6 - 30240*t**5 + 151200*t**4 - 604800*t**3 + 1814400*t**2 - 3628800*t + 3628800)*exp(t) - 1334961*E"
      ]
     },
     "execution_count": 34,
     "metadata": {},
     "output_type": "execute_result"
    }
   ],
   "source": [
    "t=smp.symbols('t')\n",
    "expr_defint=x**10*smp.exp(x)\n",
    "smp.integrate(expr_defint,(x,1,t))"
   ]
  },
  {
   "cell_type": "markdown",
   "id": "18ac536b-381d-4fd7-840e-0d28fd672b5a",
   "metadata": {},
   "source": [
    "## 用例\n",
    "量子力学中,氢原子的波函数描述了氢原子周围电子的分布态，大概几率位置,如下\\\n",
    "$$\n",
    "\\Psi_{nlm}=R_{nl}(r)Y_i^m(\\theta,\\phi)\n",
    "$$\n",
    "\\\n",
    "是个球谐函数\n",
    "\\\n",
    "$$\n",
    "R_{nl}(r)=\\sqrt{{(\\frac2{na})^2}\\frac{(n-l-1)!}{2n[(n+1)!]}}e^{-\\frac r{na}}(\\frac2{na})^l[L_{n-l-1}^{2l+1}(2rlna)]\n",
    "$$\n",
    "\\\n",
    "a为常数波尔半径，n l 都是整数 表达电子所在壳层，和角动量有关，r就是半径距离，L则为多项式\n",
    "\\\n",
    "由此寻找原子核距离电子的平均距离\n",
    "\\\n",
    "$$\n",
    "\\langle r \\rangle=\\int R_{nl}^2 r^3 dr\n",
    "$$\n",
    "\\\n",
    "该距离散布的几率标准差为\n",
    "\\\n",
    "$$\n",
    "\\sigma = \\sqrt{ \\langle r^2 \\rangle -\\langle r \\rangle ^2 }=\\sqrt{ (\\int_0^\\infty R^2_{nl} r^4 dr)-(\\int_0^\\infty R^2_{nl}r^3dr)^2 }\n",
    "$$\n",
    "\n"
   ]
  },
  {
   "cell_type": "code",
   "execution_count": 35,
   "id": "ed73c9fd-7e6a-4f64-a64f-837997bad1d5",
   "metadata": {},
   "outputs": [],
   "source": [
    "from sympy import assoc_laguerre"
   ]
  },
  {
   "cell_type": "markdown",
   "id": "3b68d0ed-4f18-448c-8072-36d954fba598",
   "metadata": {},
   "source": [
    "定义变量，确定其数据类型"
   ]
  },
  {
   "cell_type": "code",
   "execution_count": 38,
   "id": "e2881701-b057-45fb-9343-2bba0eb79526",
   "metadata": {},
   "outputs": [],
   "source": [
    "r,a=smp.symbols('r a',real=True,positive=True)\n",
    "n,l=smp.symbols('n l',integer=True,positive=True)"
   ]
  },
  {
   "cell_type": "markdown",
   "id": "e574b6f7-f5f5-4866-997c-cd77e13d9c92",
   "metadata": {},
   "source": [
    "定义$R_{nl}(r)$"
   ]
  },
  {
   "cell_type": "code",
   "execution_count": 64,
   "id": "6f13d88e-1419-483c-8636-5b65c869c4d0",
   "metadata": {},
   "outputs": [
    {
     "data": {
      "text/latex": [
       "$\\displaystyle \\frac{2 \\left(\\frac{2 r}{a n}\\right)^{l} e^{- \\frac{r}{a n}} L_{- l + n - 1}^{\\left(2 l + 1\\right)}\\left(\\frac{2 r}{a n}\\right) \\sqrt{\\left(- l + n - 1\\right)!}}{a^{\\frac{3}{2}} n^{2} \\sqrt{\\left(l + n\\right)!}}$"
      ],
      "text/plain": [
       "2*(2*r/(a*n))**l*exp(-r/(a*n))*assoc_laguerre(-l + n - 1, 2*l + 1, 2*r/(a*n))*sqrt(factorial(-l + n - 1))/(a**(3/2)*n**2*sqrt(factorial(l + n)))"
      ]
     },
     "execution_count": 64,
     "metadata": {},
     "output_type": "execute_result"
    }
   ],
   "source": [
    "R = smp.sqrt((2/(n*a))**3 * smp.factorial(n-l-1)/(2*n*(smp.factorial(n+l)))) \\\n",
    "     *smp.exp(-r/(n*a)) * (2*r/(n*a))**l * assoc_laguerre(n-l-1,2*l+1,(2*r/(n*a)))\n",
    "R\n"
   ]
  },
  {
   "cell_type": "markdown",
   "id": "a8b722f3-1327-4f84-9ec7-f4690206a72a",
   "metadata": {},
   "source": [
    "然后需要确认我们的方程是否符合原来的式子，来寻找氢原子的基态径向函数，来看看 $R_{10}(r)$"
   ]
  },
  {
   "cell_type": "code",
   "execution_count": 65,
   "id": "5e4ff955-986b-4305-a0d2-b5fe3a5c6207",
   "metadata": {},
   "outputs": [
    {
     "data": {
      "text/latex": [
       "$\\displaystyle \\frac{2 e^{- \\frac{r}{a}}}{a^{\\frac{3}{2}}}$"
      ],
      "text/plain": [
       "2*exp(-r/a)/a**(3/2)"
      ]
     },
     "execution_count": 65,
     "metadata": {},
     "output_type": "execute_result"
    }
   ],
   "source": [
    "R_10=R.subs([(n,1),(l,0)])\n",
    "R_10"
   ]
  },
  {
   "cell_type": "markdown",
   "id": "ba6bb8bd-55c1-44a0-aac1-702b0686ce49",
   "metadata": {},
   "source": [
    "接下来写出 $\\int_0^\\infty R^2_{nl}r^k dr$ 函数,变量为 n l k ,k为指数"
   ]
  },
  {
   "cell_type": "code",
   "execution_count": 66,
   "id": "3be92407-23ab-4988-b014-5d52e594d8d4",
   "metadata": {},
   "outputs": [],
   "source": [
    "def compute_int(n_val,l_val,k):\n",
    "    R_nl=R.subs([(n,n_val),(l,l_val)])\n",
    "    return smp.integrate(R_nl**2*r**k,(r,0,smp.oo))"
   ]
  },
  {
   "cell_type": "markdown",
   "id": "5dead535-189f-421e-b095-296041f57dd8",
   "metadata": {},
   "source": [
    "那么在$\\psi_{100}$平均的电子距离为"
   ]
  },
  {
   "cell_type": "code",
   "execution_count": 67,
   "id": "42ab7859-caa3-4100-bf80-e6ff57c4b371",
   "metadata": {},
   "outputs": [
    {
     "data": {
      "text/latex": [
       "$\\displaystyle \\frac{25 a}{2}$"
      ],
      "text/plain": [
       "25*a/2"
      ]
     },
     "execution_count": 67,
     "metadata": {},
     "output_type": "execute_result"
    }
   ],
   "source": [
    "compute_int(n_val=3,l_val=1,k=3)"
   ]
  },
  {
   "cell_type": "markdown",
   "id": "ce20d13c-4de3-4692-a9e1-085b563f8244",
   "metadata": {},
   "source": [
    "$\\psi_{100}$时标准差"
   ]
  },
  {
   "cell_type": "markdown",
   "id": "370c1af9-2976-459e-8981-c5ed7c4e84eb",
   "metadata": {},
   "source": [
    "smp.sqrt(compute_int(n_val=1,l_val=0,k=4) - compute_int(n_val=1,l_val=0,k=3)**2)"
   ]
  },
  {
   "cell_type": "markdown",
   "id": "22b9c458-03c8-4b30-a8f7-b5c3c8ceedfd",
   "metadata": {},
   "source": [
    "那么在$\\psi_{420}$平均的电子距离，一般来说，如果电子和原子距离固定旋转，那么不存在扩散，也就不会有方差标准差出现                  "
   ]
  },
  {
   "cell_type": "code",
   "execution_count": 70,
   "id": "ad939e44-560d-4fbe-ac2f-47a0b7ebbcd4",
   "metadata": {},
   "outputs": [
    {
     "data": {
      "text/latex": [
       "$\\displaystyle 21 a$"
      ],
      "text/plain": [
       "21*a"
      ]
     },
     "execution_count": 70,
     "metadata": {},
     "output_type": "execute_result"
    }
   ],
   "source": [
    "compute_int(n_val=4,l_val=2,k=3)"
   ]
  },
  {
   "cell_type": "markdown",
   "id": "a6267344-537c-4252-81d3-d48cc34bbfb9",
   "metadata": {},
   "source": [
    "## 多元微积分"
   ]
  },
  {
   "cell_type": "code",
   "execution_count": 78,
   "id": "e1477cc1-d8bf-43d0-898e-6b8069de6e33",
   "metadata": {},
   "outputs": [],
   "source": [
    "x,y,z,u1,u2,u3,v1,v2,v3,t = smp.symbols('x y z u1 u2 u3 v1 v2 v3 t')"
   ]
  },
  {
   "cell_type": "code",
   "execution_count": 79,
   "id": "59f4fab2-2762-4747-8bd6-02631b9b90e7",
   "metadata": {},
   "outputs": [],
   "source": [
    "def compute_mean_distance(n_val, l_val=0):\n",
    "    expr = compute_int(n_val,l_val,k=3)\n",
    "    expr_f = smp.lambdify([a], expr)\n",
    "    return expr_f(1)"
   ]
  },
  {
   "cell_type": "code",
   "execution_count": 80,
   "id": "cac24828-56b1-4ce8-a031-fcfa555de1fa",
   "metadata": {},
   "outputs": [],
   "source": [
    "ns = np.arange(1,10)\n",
    "ds =[compute_mean_distance(ni) for ni in ns]"
   ]
  },
  {
   "cell_type": "code",
   "execution_count": 81,
   "id": "fbfe7e07-6384-4953-85b5-adbe3ab84c02",
   "metadata": {},
   "outputs": [
    {
     "data": {
      "text/plain": [
       "<matplotlib.collections.PathCollection at 0x1defb247d30>"
      ]
     },
     "execution_count": 81,
     "metadata": {},
     "output_type": "execute_result"
    },
    {
     "data": {
      "image/png": "[encoded data removed]",
      "text/plain": [
       "<Figure size 640x480 with 1 Axes>"
      ]
     },
     "metadata": {},
     "output_type": "display_data"
    }
   ],
   "source": [
    "plt.scatter(ns, ds)"
   ]
  },
  {
   "cell_type": "markdown",
   "id": "9d4e3abb-32fe-4efe-ab74-ee9efe143922",
   "metadata": {},
   "source": [
    "### 向量和几何"
   ]
  },
  {
   "cell_type": "code",
   "execution_count": 73,
   "id": "e1f2e7aa-d3f4-42e0-8ca5-577712e2a71f",
   "metadata": {},
   "outputs": [],
   "source": [
    "u=smp.Matrix([u1,u2,u3])\n",
    "v=smp.Matrix([v1,v2,v3])"
   ]
  },
  {
   "cell_type": "code",
   "execution_count": null,
   "id": "e30699dc-95ed-4370-a136-53a32ec316a0",
   "metadata": {},
   "outputs": [],
   "source": []
  },
  {
   "cell_type": "code",
   "execution_count": null,
   "id": "bcef2b29-5fe0-46e3-abe7-48b08ff6497f",
   "metadata": {},
   "outputs": [],
   "source": []
  },
  {
   "cell_type": "code",
   "execution_count": null,
   "id": "1b6f4ff5-fe3c-4d35-8552-0fb3aa506411",
   "metadata": {},
   "outputs": [],
   "source": []
  }
 ],
 "metadata": {
  "kernelspec": {
   "display_name": "Python 3 (ipykernel)",
   "language": "python",
   "name": "python3"
  },
  "language_info": {
   "codemirror_mode": {
    "name": "ipython",
    "version": 3
   },
   "file_extension": ".py",
   "mimetype": "text/x-python",
   "name": "python",
   "nbconvert_exporter": "python",
   "pygments_lexer": "ipython3",
   "version": "3.9.18"
  }
 },
 "nbformat": 4,
 "nbformat_minor": 5
}
