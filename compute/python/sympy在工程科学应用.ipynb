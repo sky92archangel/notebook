{
 "cells": [
  {
   "cell_type": "markdown",
   "id": "3fbd44ce-2f28-4461-955c-79d15e46717e",
   "metadata": {},
   "source": [
    "# python包sympy在物理工程和数学的应用导论"
   ]
  },
  {
   "cell_type": "code",
   "execution_count": 3,
   "id": "560b366a-3979-4199-a7ed-b6de9186399e",
   "metadata": {},
   "outputs": [],
   "source": [
    "import sympy as smp\n",
    "import numpy as np\n",
    "import matplotlib.pyplot as plt"
   ]
  },
  {
   "cell_type": "markdown",
   "id": "dc93b359-30ee-4e87-88f6-994ff83a0cf3",
   "metadata": {},
   "source": [
    "# Introduction\n",
    "设定一个变量x如下"
   ]
  },
  {
   "cell_type": "code",
   "execution_count": 3,
   "id": "7fdced26-b23f-4ea9-97f9-530394b83e1b",
   "metadata": {},
   "outputs": [
    {
     "data": {
      "text/latex": [
       "$\\displaystyle x$"
      ],
      "text/plain": [
       "x"
      ]
     },
     "execution_count": 3,
     "metadata": {},
     "output_type": "execute_result"
    }
   ],
   "source": [
    "x=smp.symbols('x')\n",
    "x"
   ]
  },
  {
   "cell_type": "code",
   "execution_count": 12,
   "id": "694d2ba6-bed3-4c15-b9f8-ef48a02fc310",
   "metadata": {},
   "outputs": [
    {
     "name": "stdout",
     "output_type": "stream",
     "text": [
      "x**2\n",
      "cos(x)\n"
     ]
    },
    {
     "data": {
      "text/latex": [
       "$\\displaystyle \\sin{\\left(x \\right)}$"
      ],
      "text/plain": [
       "sin(x)"
      ]
     },
     "execution_count": 12,
     "metadata": {},
     "output_type": "execute_result"
    }
   ],
   "source": [
    "print(x **2)\n",
    "print(smp.cos(x))\n",
    "y=smp.sin(x)\n",
    "y"
   ]
  },
  {
   "cell_type": "markdown",
   "id": "964c2862-4354-4063-952c-48e51ab316b2",
   "metadata": {},
   "source": [
    "## 复习：这样利用sympy就可以构建很多方程了"
   ]
  },
  {
   "cell_type": "code",
   "execution_count": 36,
   "id": "291f4edc-2884-48d4-80ff-556c9fe57c4e",
   "metadata": {},
   "outputs": [
    {
     "name": "stdout",
     "output_type": "stream",
     "text": [
      "x**2 + 4*x + 3\n",
      "(x**2 + 4*x + 3)**2\n",
      "(x + 1)**2*(x + 3)**2\n",
      "x**4 + 8*x**3 + 22*x**2 + 24*x + 9\n"
     ]
    },
    {
     "data": {
      "text/latex": [
       "$\\displaystyle \\operatorname{Poly}{\\left( x^{4} + 8 x^{3} + 22 x^{2} + 24 x + 9, x, domain=\\mathbb{Z} \\right)}$"
      ],
      "text/plain": [
       "Poly(x**4 + 8*x**3 + 22*x**2 + 24*x + 9, x, domain='ZZ')"
      ]
     },
     "execution_count": 36,
     "metadata": {},
     "output_type": "execute_result"
    }
   ],
   "source": [
    "y=x**2+4*x+3\n",
    "print(y)\n",
    "\n",
    "z=y**2\n",
    "print(z)\n",
    "\n",
    "#因式分解\n",
    "fac=z.factor()\n",
    "print(fac)\n",
    "\n",
    "#扩展多项式\n",
    "expd=z.expand()\n",
    "print(expd)\n",
    "\n",
    "z.as_poly()"
   ]
  },
  {
   "cell_type": "markdown",
   "id": "2a49a5ac-37be-4d51-858d-45636dba3708",
   "metadata": {},
   "source": [
    "使用 ```smp.solve(f,x)``` 时，总会去找所有使得函数$f(x)=0$的解"
   ]
  },
  {
   "cell_type": "code",
   "execution_count": 38,
   "id": "05ae84d5-5ed9-44a9-9550-e93306e800be",
   "metadata": {},
   "outputs": [
    {
     "data": {
      "text/plain": [
       "[-3, -1]"
      ]
     },
     "execution_count": 38,
     "metadata": {},
     "output_type": "execute_result"
    }
   ],
   "source": [
    "#解方程  注意 五次多项式以上无根式解\n",
    "smp.solve(z,x) "
   ]
  },
  {
   "cell_type": "code",
   "execution_count": 39,
   "id": "db1b35ce-f470-4619-bb1e-516c980cc380",
   "metadata": {},
   "outputs": [
    {
     "data": {
      "text/plain": [
       "[0, pi]"
      ]
     },
     "execution_count": 39,
     "metadata": {},
     "output_type": "execute_result"
    }
   ],
   "source": [
    "smp.solve(smp.sin(x),x)"
   ]
  },
  {
   "cell_type": "markdown",
   "id": "bf2fe51f-9176-4343-af13-b9beb4535142",
   "metadata": {},
   "source": [
    "### 注：在整个后期方程的变化变得复杂之前，如果能够定义变量的数据类型就尽早定义，否则后期复杂操作会导致sympy挤满内存造成内存泄露"
   ]
  },
  {
   "cell_type": "code",
   "execution_count": 50,
   "id": "8d76e1c5-2aec-43f9-be76-6bdac3a819bd",
   "metadata": {},
   "outputs": [
    {
     "name": "stdout",
     "output_type": "stream",
     "text": [
      "[-I, I]\n",
      "[]\n"
     ]
    }
   ],
   "source": [
    "x=smp.symbols('x')\n",
    "res =smp.solve(x**2+1,x) \n",
    "print(res)\n",
    "x=smp.symbols('x',real=True)\n",
    "res=smp.solve(x**2+1,x) \n",
    "print(res) "
   ]
  },
  {
   "cell_type": "code",
   "execution_count": 51,
   "id": "daa89993-92bf-40b4-b90f-849de537fee8",
   "metadata": {},
   "outputs": [
    {
     "name": "stdout",
     "output_type": "stream",
     "text": [
      "[-4]\n",
      "[]\n"
     ]
    }
   ],
   "source": [
    "x=smp.symbols('x',real=True )\n",
    "res =smp.solve(x +4,x) \n",
    "print(res)\n",
    "#注意这里指定了正数，该正负指定对于虚数i无用\n",
    "x=smp.symbols('x',real=True,positive=True)\n",
    "res =smp.solve(x +4,x) \n",
    "print(res)"
   ]
  },
  {
   "cell_type": "markdown",
   "id": "d4f99357-e2e1-4042-bd4b-b65f402b17e1",
   "metadata": {},
   "source": [
    "可指定多个变量"
   ]
  },
  {
   "cell_type": "code",
   "execution_count": 4,
   "id": "ea82213b-cb8b-4fa7-ae9f-4dfedafacf4b",
   "metadata": {},
   "outputs": [
    {
     "data": {
      "text/latex": [
       "$\\displaystyle x^{2} + y \\sin{\\left(z \\right)}$"
      ],
      "text/plain": [
       "x**2 + y*sin(z)"
      ]
     },
     "execution_count": 4,
     "metadata": {},
     "output_type": "execute_result"
    }
   ],
   "source": [
    "x,y,z=smp.symbols('x y z')\n",
    "F= x**2+smp.sin(z)*y\n",
    "F"
   ]
  },
  {
   "cell_type": "code",
   "execution_count": 65,
   "id": "cbc5f620-4821-48dc-9a0e-347e8171bece",
   "metadata": {},
   "outputs": [
    {
     "name": "stdout",
     "output_type": "stream",
     "text": [
      "[-sqrt(-y*sin(z)), sqrt(-y*sin(z))]\n",
      "[-x**2/sin(z)]\n",
      "[asin(x**2/y) + pi, -asin(x**2/y)]\n"
     ]
    }
   ],
   "source": [
    "#此时需要寻找F=0的x的解 使用 yz表达\n",
    "x_sols=smp.solve(F,x)\n",
    "print(x_sols)\n",
    "y_sols=smp.solve(F,y)\n",
    "print(y_sols)\n",
    "z_sols=smp.solve(F,z)\n",
    "print(z_sols)"
   ]
  },
  {
   "cell_type": "markdown",
   "id": "aa889c2c-1022-4142-be34-1febc0cc6009",
   "metadata": {},
   "source": [
    "然后把方程转为数值函数，在matplot上显示出来"
   ]
  },
  {
   "cell_type": "code",
   "execution_count": 69,
   "id": "7bd107ae-cf07-499f-83a5-0c7a92af1c12",
   "metadata": {},
   "outputs": [
    {
     "name": "stdout",
     "output_type": "stream",
     "text": [
      "asin(x**2/y) + pi\n"
     ]
    },
    {
     "data": {
      "text/plain": [
       "3.6651914291880923"
      ]
     },
     "execution_count": 69,
     "metadata": {},
     "output_type": "execute_result"
    }
   ],
   "source": [
    "expr= z_sols[0]\n",
    "print(expr)\n",
    "#给予函数一组变量数字用以计算\n",
    "expr_f=smp.lambdify([x,y],expr)\n",
    "expr_f(1,2) "
   ]
  },
  {
   "cell_type": "code",
   "execution_count": 74,
   "id": "6965c9b1-1bdb-4718-9b18-d4d07aee20ba",
   "metadata": {},
   "outputs": [
    {
     "data": {
      "image/png": "[encoded data removed]",
      "text/plain": [
       "<Figure size 640x480 with 1 Axes>"
      ]
     },
     "metadata": {},
     "output_type": "display_data"
    }
   ],
   "source": [
    "x_num=np.linspace(0,1,100)\n",
    "y_num=2\n",
    "plt.plot(x_num,expr_f(x_num,y_num))\n",
    "plt.show()"
   ]
  },
  {
   "cell_type": "markdown",
   "id": "52f60bdd-3a50-48ad-a5bd-85e897e85d21",
   "metadata": {},
   "source": [
    "多元方程可以对变量做赋值，甚至于替换变量"
   ]
  },
  {
   "cell_type": "code",
   "execution_count": 5,
   "id": "6229dcbf-bc96-43c6-bdb1-794c41b0c74b",
   "metadata": {},
   "outputs": [
    {
     "name": "stdout",
     "output_type": "stream",
     "text": [
      "x**2 + y*sin(z)\n",
      "x**2 + sin(z)*cos(z)\n",
      "x**2\n"
     ]
    }
   ],
   "source": [
    "print(F)\n",
    "res=F.subs([(y,smp.cos(z))])\n",
    "print(res)\n",
    "res=F.subs([(y,smp.cos(z)),(z,smp.pi/2)])\n",
    "print(res)"
   ]
  },
  {
   "cell_type": "markdown",
   "id": "bfafb8d4-db2b-4f73-9d04-789d24fa3b1f",
   "metadata": {},
   "source": [
    "## 样例 下落物体\n",
    "一个下落的物体，和一个平台，都在重力加速度影响下下落，其方程如下\n",
    "\\\n",
    "Object:$h_o(t)=h_0-v_0t-\\frac12gt^2$\n",
    "\\\n",
    "Platform:$h_p(t)=v_pt+\\frac12qt^2$\n",
    "\\\n",
    "找出一个初始速度 $v_0$ 使得物体和平台在等速的时候相撞；\n",
    "\\\n",
    "根据条件碰撞时高度相同，速度也相同，那么我们要解开两个联立的等式：\\\n",
    "$h_o(t)=h_p(t)$\\\n",
    "$\\frac{dh_0}{d_t}(t)=-\\frac{dh_p}{dt}(t)$\\\n",
    "由于在sympy中是右侧为0的方程解法，那么处理一下\\\n",
    "$h_o(t)-h_p(t)=0$\\\n",
    "$\\frac{dh_0}{d_t}(t)+\\frac{dh_p}{dt}(t)=0$\\\n",
    "\\\n",
    "那么可以开始编程"
   ]
  },
  {
   "cell_type": "code",
   "execution_count": 6,
   "id": "6e79ff05-82be-48ce-aa9b-5a24ad5d3625",
   "metadata": {},
   "outputs": [],
   "source": [
    "t,h0,v0,g,vp,q=smp.symbols('t h_0 v_0 g v_p q',real=True,positive=True)\n"
   ]
  },
  {
   "cell_type": "code",
   "execution_count": 9,
   "id": "a6a87acf-f4de-43b2-9270-b91c3d74eba3",
   "metadata": {},
   "outputs": [],
   "source": [
    "#Rational表达严格数学上的分数含义 而非计算机的除法  可保证精度\n",
    "h0t=h0-v0*t-smp.Rational(1,2)*g*t**2\n",
    "dh0_dt=g*t-v0\n",
    "hpt=vp*t+smp.Rational(1,2)*g*t**2\n",
    "dhp_dt=vp+q*t"
   ]
  },
  {
   "cell_type": "code",
   "execution_count": 10,
   "id": "c880b7b9-dc68-4406-8b2f-5a266b72dad9",
   "metadata": {},
   "outputs": [],
   "source": [
    "eq1=h0t-hpt\n",
    "eq2=dh0_dt+dhp_dt"
   ]
  },
  {
   "cell_type": "code",
   "execution_count": 11,
   "id": "7750dd86-6a3c-42a3-ab67-0bcfd1275b1e",
   "metadata": {},
   "outputs": [],
   "source": [
    "#连立方程解法   并取出第一对解\n",
    "t_collide,v_initfall=smp.solve([eq1,eq2],[t,v0])[0]"
   ]
  },
  {
   "cell_type": "code",
   "execution_count": 13,
   "id": "08782a96-28f7-4dc5-b1ff-6403257c74c4",
   "metadata": {},
   "outputs": [
    {
     "data": {
      "text/latex": [
       "$\\displaystyle \\frac{\\frac{g v_{p}}{2 g + q} - v_{p} - \\frac{\\left(g + q\\right) \\sqrt{2 g h_{0} + h_{0} q + v_{p}^{2}}}{2 g + q}}{g + q}$"
      ],
      "text/plain": [
       "(g*v_p/(2*g + q) - v_p - (g + q)*sqrt(2*g*h_0 + h_0*q + v_p**2)/(2*g + q))/(g + q)"
      ]
     },
     "execution_count": 13,
     "metadata": {},
     "output_type": "execute_result"
    }
   ],
   "source": [
    "smp.solve([eq1,eq2],[t,v0])[0][0]"
   ]
  },
  {
   "cell_type": "code",
   "execution_count": 14,
   "id": "fcad4208-4b4b-442a-b389-2934a224a35c",
   "metadata": {},
   "outputs": [
    {
     "data": {
      "text/latex": [
       "$\\displaystyle \\frac{g v_{p}}{2 g + q} - \\frac{\\left(g + q\\right) \\sqrt{2 g h_{0} + h_{0} q + v_{p}^{2}}}{2 g + q}$"
      ],
      "text/plain": [
       "g*v_p/(2*g + q) - (g + q)*sqrt(2*g*h_0 + h_0*q + v_p**2)/(2*g + q)"
      ]
     },
     "execution_count": 14,
     "metadata": {},
     "output_type": "execute_result"
    }
   ],
   "source": [
    "v_initfall"
   ]
  },
  {
   "cell_type": "code",
   "execution_count": 15,
   "id": "661d7db6-6918-41f5-ad2b-da26a3c0514d",
   "metadata": {},
   "outputs": [
    {
     "data": {
      "text/latex": [
       "$\\displaystyle \\frac{- 2 g v_{p} + q \\sqrt{2 g h_{0} + h_{0} q + v_{p}^{2}}}{2 g + q}$"
      ],
      "text/plain": [
       "(-2*g*v_p + q*sqrt(2*g*h_0 + h_0*q + v_p**2))/(2*g + q)"
      ]
     },
     "execution_count": 15,
     "metadata": {},
     "output_type": "execute_result"
    }
   ],
   "source": [
    "dh0_dt.subs([(t,t_collide),(v0,v_initfall)]).simplify()"
   ]
  },
  {
   "cell_type": "code",
   "execution_count": 17,
   "id": "9e8bd573-575b-42e6-9b47-6efd480901c5",
   "metadata": {},
   "outputs": [
    {
     "data": {
      "text/latex": [
       "$\\displaystyle \\frac{2 g v_{p} - q \\sqrt{2 g h_{0} + h_{0} q + v_{p}^{2}}}{2 g + q}$"
      ],
      "text/plain": [
       "(2*g*v_p - q*sqrt(2*g*h_0 + h_0*q + v_p**2))/(2*g + q)"
      ]
     },
     "execution_count": 17,
     "metadata": {},
     "output_type": "execute_result"
    }
   ],
   "source": [
    "dhp_dt.subs([(t,t_collide),(v0,v_initfall)]).simplify()"
   ]
  },
  {
   "cell_type": "markdown",
   "id": "3e2ee01d-d4af-4fe8-ac4f-c360b906a394",
   "metadata": {},
   "source": [
    "# 微积分 第一年"
   ]
  },
  {
   "cell_type": "code",
   "execution_count": 3,
   "id": "467dab07-0e29-4f2c-a793-b78d91e95837",
   "metadata": {},
   "outputs": [],
   "source": [
    "x=smp.symbols('x')"
   ]
  },
  {
   "cell_type": "markdown",
   "id": "e7d6174d-9a25-45c6-aaef-bef4babf3c2f",
   "metadata": {},
   "source": [
    "## 极限\n",
    "$$\n",
    "\\lim\\limits_{x\\to\\pi}\\sin(\\frac x2+\\sin x)\n",
    "$$"
   ]
  },
  {
   "cell_type": "code",
   "execution_count": 5,
   "id": "cdbce38b-06d8-4c90-a01d-c79b0abda3b3",
   "metadata": {},
   "outputs": [
    {
     "data": {
      "text/latex": [
       "$\\displaystyle 1$"
      ],
      "text/plain": [
       "1"
      ]
     },
     "execution_count": 5,
     "metadata": {},
     "output_type": "execute_result"
    }
   ],
   "source": [
    "expr_lim = smp.sin(x/2+smp.sin(x))\n",
    "smp.limit(expr_lim,x,smp.pi)"
   ]
  },
  {
   "cell_type": "markdown",
   "id": "a585aa29-f869-4151-90ee-1456c38840b6",
   "metadata": {},
   "source": [
    "## 微分\n",
    "$$\n",
    "\\frac d{dx}(\\frac{1+\\sin x}{1-\\cos x})^2\n",
    "$$"
   ]
  },
  {
   "cell_type": "code",
   "execution_count": 14,
   "id": "5dd23796-9b5c-425d-9fd2-2cf3b7e058fd",
   "metadata": {},
   "outputs": [
    {
     "data": {
      "text/latex": [
       "$\\displaystyle \\frac{2 \\left(\\sin{\\left(x \\right)} + 1\\right) \\cos{\\left(x \\right)}}{\\left(1 - \\cos{\\left(x \\right)}\\right)^{2}} - \\frac{2 \\left(\\sin{\\left(x \\right)} + 1\\right)^{2} \\sin{\\left(x \\right)}}{\\left(1 - \\cos{\\left(x \\right)}\\right)^{3}}$"
      ],
      "text/plain": [
       "2*(sin(x) + 1)*cos(x)/(1 - cos(x))**2 - 2*(sin(x) + 1)**2*sin(x)/(1 - cos(x))**3"
      ]
     },
     "execution_count": 14,
     "metadata": {},
     "output_type": "execute_result"
    }
   ],
   "source": [
    "expr_diff=((1+smp.sin(x))/(1-smp.cos(x)))**2\n",
    "smp.diff(expr_diff,x) "
   ]
  },
  {
   "cell_type": "markdown",
   "id": "0dcdfafd-2faf-454b-a04e-a3487c0a1777",
   "metadata": {},
   "source": [
    "$$\n",
    "\\frac d{dx} f(x+g(x))\n",
    "$$"
   ]
  },
  {
   "cell_type": "code",
   "execution_count": 15,
   "id": "93ebad48-0f4d-4b88-ac09-8aea304f2903",
   "metadata": {},
   "outputs": [],
   "source": [
    "f,g = smp.symbols('f g',cls=smp.Function)\n",
    "g=g(x)\n",
    "f=f(x+g)"
   ]
  },
  {
   "cell_type": "code",
   "execution_count": 16,
   "id": "34e129d0-9c5c-448f-addd-fee4e529d377",
   "metadata": {},
   "outputs": [
    {
     "data": {
      "text/latex": [
       "$\\displaystyle f{\\left(x + g{\\left(x \\right)} \\right)}$"
      ],
      "text/plain": [
       "f(x + g(x))"
      ]
     },
     "execution_count": 16,
     "metadata": {},
     "output_type": "execute_result"
    }
   ],
   "source": [
    "f"
   ]
  },
  {
   "cell_type": "code",
   "execution_count": 17,
   "id": "2669a112-052b-48e9-9e8d-a4dffc077302",
   "metadata": {},
   "outputs": [
    {
     "data": {
      "text/latex": [
       "$\\displaystyle \\left(\\frac{d}{d x} g{\\left(x \\right)} + 1\\right) \\left. \\frac{d}{d \\xi_{1}} f{\\left(\\xi_{1} \\right)} \\right|_{\\substack{ \\xi_{1}=x + g{\\left(x \\right)} }}$"
      ],
      "text/plain": [
       "(Derivative(g(x), x) + 1)*Subs(Derivative(f(_xi_1), _xi_1), _xi_1, x + g(x))"
      ]
     },
     "execution_count": 17,
     "metadata": {},
     "output_type": "execute_result"
    }
   ],
   "source": [
    "dfdx=smp.diff(f,x)\n",
    "dfdx"
   ]
  },
  {
   "cell_type": "code",
   "execution_count": 21,
   "id": "b8d2ec23-3ff8-4432-85e4-42198bb155a5",
   "metadata": {},
   "outputs": [
    {
     "data": {
      "text/latex": [
       "$\\displaystyle \\left(\\frac{d}{d x} \\sin{\\left(x \\right)} + 1\\right) \\left. \\frac{d}{d \\xi_{1}} f{\\left(\\xi_{1} \\right)} \\right|_{\\substack{ \\xi_{1}=x + \\sin{\\left(x \\right)} }}$"
      ],
      "text/plain": [
       "(Derivative(sin(x), x) + 1)*Subs(Derivative(f(_xi_1), _xi_1), _xi_1, x + sin(x))"
      ]
     },
     "execution_count": 21,
     "metadata": {},
     "output_type": "execute_result"
    }
   ],
   "source": [
    "#对式子内任意组分的替换\n",
    "dfdx.subs([(g,smp.sin(x))])"
   ]
  },
  {
   "cell_type": "code",
   "execution_count": 20,
   "id": "78c7b6fb-76ee-498f-8d89-814f0f5eb99e",
   "metadata": {},
   "outputs": [
    {
     "data": {
      "text/latex": [
       "$\\displaystyle \\left(\\cos{\\left(x \\right)} + 1\\right) \\left. \\frac{d}{d \\xi_{1}} f{\\left(\\xi_{1} \\right)} \\right|_{\\substack{ \\xi_{1}=x + \\sin{\\left(x \\right)} }}$"
      ],
      "text/plain": [
       "(cos(x) + 1)*Subs(Derivative(f(_xi_1), _xi_1), _xi_1, x + sin(x))"
      ]
     },
     "execution_count": 20,
     "metadata": {},
     "output_type": "execute_result"
    }
   ],
   "source": [
    "##对式子内任意组分的替换 并简化\n",
    "dfdx.subs([(g,smp.sin(x))]).doit()"
   ]
  },
  {
   "cell_type": "markdown",
   "id": "f53e4ead-57a8-4d16-a4ef-fd57db102e5d",
   "metadata": {},
   "source": [
    "## 不定积分/反导函数\n",
    "$$\n",
    "\\int \\csc x \\cot x dx\n",
    "$$\n"
   ]
  },
  {
   "cell_type": "code",
   "execution_count": 30,
   "id": "a242ad0a-0a00-4dc7-8ecc-acdfe21e9f37",
   "metadata": {},
   "outputs": [
    {
     "data": {
      "text/latex": [
       "$\\displaystyle - \\frac{1}{\\sin{\\left(x \\right)}}$"
      ],
      "text/plain": [
       "-1/sin(x)"
      ]
     },
     "execution_count": 30,
     "metadata": {},
     "output_type": "execute_result"
    }
   ],
   "source": [
    "func_antidiff=smp.csc(x)*smp.cot(x)\n",
    "smp.integrate(func_antidiff,x) "
   ]
  },
  {
   "cell_type": "markdown",
   "id": "29d36cea-1efe-4f76-900a-91a5e4f9061a",
   "metadata": {},
   "source": [
    "## 定积分\n",
    "$$\n",
    "\\int _0^{\\ln4}\\frac{e^x }{\\sqrt{e^{2x}+9}}dx\n",
    "$$"
   ]
  },
  {
   "cell_type": "code",
   "execution_count": 31,
   "id": "3cbac0d7-b531-423a-bc90-4fed740e6bf6",
   "metadata": {},
   "outputs": [
    {
     "data": {
      "text/latex": [
       "$\\displaystyle - \\operatorname{asinh}{\\left(\\frac{1}{3} \\right)} + \\operatorname{asinh}{\\left(\\frac{4}{3} \\right)}$"
      ],
      "text/plain": [
       "-asinh(1/3) + asinh(4/3)"
      ]
     },
     "execution_count": 31,
     "metadata": {},
     "output_type": "execute_result"
    }
   ],
   "source": [
    "expr_defInt=(smp.exp(x))/(smp.sqrt(smp.exp(2*x)+9))\n",
    "smp.integrate(expr_defInt,(x,0,smp.ln(4)))"
   ]
  },
  {
   "cell_type": "markdown",
   "id": "bb70369d-dfa0-4154-95e2-96c935da8c58",
   "metadata": {},
   "source": [
    "$$\n",
    "\\int_1^t x^{10}e^xdx\n",
    "$$"
   ]
  },
  {
   "cell_type": "code",
   "execution_count": 34,
   "id": "12e75254-a572-40b9-9739-8bf9dbddd4dc",
   "metadata": {},
   "outputs": [
    {
     "data": {
      "text/latex": [
       "$\\displaystyle \\left(t^{10} - 10 t^{9} + 90 t^{8} - 720 t^{7} + 5040 t^{6} - 30240 t^{5} + 151200 t^{4} - 604800 t^{3} + 1814400 t^{2} - 3628800 t + 3628800\\right) e^{t} - 1334961 e$"
      ],
      "text/plain": [
       "(t**10 - 10*t**9 + 90*t**8 - 720*t**7 + 5040*t**6 - 30240*t**5 + 151200*t**4 - 604800*t**3 + 1814400*t**2 - 3628800*t + 3628800)*exp(t) - 1334961*E"
      ]
     },
     "execution_count": 34,
     "metadata": {},
     "output_type": "execute_result"
    }
   ],
   "source": [
    "t=smp.symbols('t')\n",
    "expr_defint=x**10*smp.exp(x)\n",
    "smp.integrate(expr_defint,(x,1,t))"
   ]
  },
  {
   "cell_type": "markdown",
   "id": "18ac536b-381d-4fd7-840e-0d28fd672b5a",
   "metadata": {},
   "source": [
    "## 用例 波函数计算\n",
    "量子力学中,氢原子的波函数描述了氢原子周围电子的分布态，大概几率位置,如下\\\n",
    "$$\n",
    "\\Psi_{nlm}=R_{nl}(r)Y_i^m(\\theta,\\phi)\n",
    "$$\n",
    "\\\n",
    "是个球谐函数\n",
    "\\\n",
    "$$\n",
    "R_{nl}(r)=\\sqrt{{(\\frac2{na})^2}\\frac{(n-l-1)!}{2n[(n+1)!]}}e^{-\\frac r{na}}(\\frac2{na})^l[L_{n-l-1}^{2l+1}(2rlna)]\n",
    "$$\n",
    "\\\n",
    "a为常数波尔半径，n l 都是整数 表达电子所在壳层，和角动量有关，r就是半径距离，L则为多项式\n",
    "\\\n",
    "由此寻找原子核距离电子的平均距离\n",
    "\\\n",
    "$$\n",
    "\\langle r \\rangle=\\int R_{nl}^2 r^3 dr\n",
    "$$\n",
    "\\\n",
    "该距离散布的几率标准差为\n",
    "\\\n",
    "$$\n",
    "\\sigma = \\sqrt{ \\langle r^2 \\rangle -\\langle r \\rangle ^2 }=\\sqrt{ (\\int_0^\\infty R^2_{nl} r^4 dr)-(\\int_0^\\infty R^2_{nl}r^3dr)^2 }\n",
    "$$\n",
    "\n"
   ]
  },
  {
   "cell_type": "code",
   "execution_count": 13,
   "id": "ed73c9fd-7e6a-4f64-a64f-837997bad1d5",
   "metadata": {},
   "outputs": [],
   "source": [
    "from sympy import assoc_laguerre"
   ]
  },
  {
   "cell_type": "markdown",
   "id": "3b68d0ed-4f18-448c-8072-36d954fba598",
   "metadata": {},
   "source": [
    "定义变量，确定其数据类型"
   ]
  },
  {
   "cell_type": "code",
   "execution_count": 14,
   "id": "e2881701-b057-45fb-9343-2bba0eb79526",
   "metadata": {},
   "outputs": [],
   "source": [
    "r,a=smp.symbols('r a',real=True,positive=True)\n",
    "n,l=smp.symbols('n l',integer=True,positive=True)"
   ]
  },
  {
   "cell_type": "markdown",
   "id": "e574b6f7-f5f5-4866-997c-cd77e13d9c92",
   "metadata": {},
   "source": [
    "定义$R_{nl}(r)$"
   ]
  },
  {
   "cell_type": "code",
   "execution_count": 15,
   "id": "6f13d88e-1419-483c-8636-5b65c869c4d0",
   "metadata": {},
   "outputs": [
    {
     "data": {
      "text/latex": [
       "$\\displaystyle \\frac{2 \\left(\\frac{2 r}{a n}\\right)^{l} e^{- \\frac{r}{a n}} L_{- l + n - 1}^{\\left(2 l + 1\\right)}\\left(\\frac{2 r}{a n}\\right) \\sqrt{\\left(- l + n - 1\\right)!}}{a^{\\frac{3}{2}} n^{2} \\sqrt{\\left(l + n\\right)!}}$"
      ],
      "text/plain": [
       "2*(2*r/(a*n))**l*exp(-r/(a*n))*assoc_laguerre(-l + n - 1, 2*l + 1, 2*r/(a*n))*sqrt(factorial(-l + n - 1))/(a**(3/2)*n**2*sqrt(factorial(l + n)))"
      ]
     },
     "execution_count": 15,
     "metadata": {},
     "output_type": "execute_result"
    }
   ],
   "source": [
    "R = smp.sqrt((2/(n*a))**3 * smp.factorial(n-l-1)/(2*n*(smp.factorial(n+l)))) \\\n",
    "     *smp.exp(-r/(n*a)) * (2*r/(n*a))**l * assoc_laguerre(n-l-1,2*l+1,(2*r/(n*a)))\n",
    "R\n"
   ]
  },
  {
   "cell_type": "markdown",
   "id": "a8b722f3-1327-4f84-9ec7-f4690206a72a",
   "metadata": {},
   "source": [
    "然后需要确认我们的方程是否符合原来的式子，来寻找氢原子的基态径向函数，来看看 $R_{10}(r)$"
   ]
  },
  {
   "cell_type": "code",
   "execution_count": 16,
   "id": "5e4ff955-986b-4305-a0d2-b5fe3a5c6207",
   "metadata": {},
   "outputs": [
    {
     "data": {
      "text/latex": [
       "$\\displaystyle \\frac{2 e^{- \\frac{r}{a}}}{a^{\\frac{3}{2}}}$"
      ],
      "text/plain": [
       "2*exp(-r/a)/a**(3/2)"
      ]
     },
     "execution_count": 16,
     "metadata": {},
     "output_type": "execute_result"
    }
   ],
   "source": [
    "R_10=R.subs([(n,1),(l,0)])\n",
    "R_10"
   ]
  },
  {
   "cell_type": "markdown",
   "id": "ba6bb8bd-55c1-44a0-aac1-702b0686ce49",
   "metadata": {},
   "source": [
    "接下来写出 $\\int_0^\\infty R^2_{nl}r^k dr$ 函数,变量为 n l k ,k为指数"
   ]
  },
  {
   "cell_type": "code",
   "execution_count": 24,
   "id": "3be92407-23ab-4988-b014-5d52e594d8d4",
   "metadata": {},
   "outputs": [],
   "source": [
    "def compute_int(n_val,l_val,k):\n",
    "    R_nl=R.subs([(n,n_val),(l,l_val)])\n",
    "    return smp.integrate(R_nl**2*r**k,(r,0,smp.oo))"
   ]
  },
  {
   "cell_type": "markdown",
   "id": "5dead535-189f-421e-b095-296041f57dd8",
   "metadata": {},
   "source": [
    "那么在$\\psi_{100}$平均的电子距离为"
   ]
  },
  {
   "cell_type": "code",
   "execution_count": 18,
   "id": "42ab7859-caa3-4100-bf80-e6ff57c4b371",
   "metadata": {},
   "outputs": [
    {
     "data": {
      "text/latex": [
       "$\\displaystyle \\frac{25 a}{2}$"
      ],
      "text/plain": [
       "25*a/2"
      ]
     },
     "execution_count": 18,
     "metadata": {},
     "output_type": "execute_result"
    }
   ],
   "source": [
    "compute_int(n_val=3,l_val=1,k=3)"
   ]
  },
  {
   "cell_type": "markdown",
   "id": "ce20d13c-4de3-4692-a9e1-085b563f8244",
   "metadata": {},
   "source": [
    "$\\psi_{100}$时标准差"
   ]
  },
  {
   "cell_type": "markdown",
   "id": "370c1af9-2976-459e-8981-c5ed7c4e84eb",
   "metadata": {},
   "source": [
    "smp.sqrt(compute_int(n_val=1,l_val=0,k=4) - compute_int(n_val=1,l_val=0,k=3)**2)"
   ]
  },
  {
   "cell_type": "markdown",
   "id": "22b9c458-03c8-4b30-a8f7-b5c3c8ceedfd",
   "metadata": {},
   "source": [
    "那么在$\\psi_{420}$平均的电子距离，一般来说，如果电子和原子距离固定旋转，那么不存在扩散，也就不会有方差标准差出现                  "
   ]
  },
  {
   "cell_type": "code",
   "execution_count": 19,
   "id": "ad939e44-560d-4fbe-ac2f-47a0b7ebbcd4",
   "metadata": {},
   "outputs": [
    {
     "data": {
      "text/latex": [
       "$\\displaystyle 21 a$"
      ],
      "text/plain": [
       "21*a"
      ]
     },
     "execution_count": 19,
     "metadata": {},
     "output_type": "execute_result"
    }
   ],
   "source": [
    "compute_int(n_val=4,l_val=2,k=3)"
   ]
  },
  {
   "cell_type": "code",
   "execution_count": 25,
   "id": "59f4fab2-2762-4747-8bd6-02631b9b90e7",
   "metadata": {},
   "outputs": [],
   "source": [
    "def compute_mean_distance(n_val, l_val=0):\n",
    "    expr = compute_int(n_val,l_val,k=3)\n",
    "    expr_f = smp.lambdify([a], expr)\n",
    "    return expr_f(1)"
   ]
  },
  {
   "cell_type": "code",
   "execution_count": 26,
   "id": "cac24828-56b1-4ce8-a031-fcfa555de1fa",
   "metadata": {},
   "outputs": [],
   "source": [
    "ns = np.arange(1,10)\n",
    "ds =[compute_mean_distance(ni) for ni in ns]"
   ]
  },
  {
   "cell_type": "code",
   "execution_count": 27,
   "id": "fbfe7e07-6384-4953-85b5-adbe3ab84c02",
   "metadata": {},
   "outputs": [
    {
     "data": {
      "text/plain": [
       "<matplotlib.collections.PathCollection at 0x1c36afbd040>"
      ]
     },
     "execution_count": 27,
     "metadata": {},
     "output_type": "execute_result"
    },
    {
     "data": {
      "image/png": "[encoded data removed]",
      "text/plain": [
       "<Figure size 640x480 with 1 Axes>"
      ]
     },
     "metadata": {},
     "output_type": "display_data"
    }
   ],
   "source": [
    "plt.scatter(ns, ds)"
   ]
  },
  {
   "cell_type": "markdown",
   "id": "a6267344-537c-4252-81d3-d48cc34bbfb9",
   "metadata": {},
   "source": [
    "## 多元微积分"
   ]
  },
  {
   "cell_type": "code",
   "execution_count": 5,
   "id": "e1477cc1-d8bf-43d0-898e-6b8069de6e33",
   "metadata": {},
   "outputs": [],
   "source": [
    "x,y,z,u1,u2,u3,v1,v2,v3,t = smp.symbols('x y z u1 u2 u3 v1 v2 v3 t')"
   ]
  },
  {
   "cell_type": "markdown",
   "id": "9d4e3abb-32fe-4efe-ab74-ee9efe143922",
   "metadata": {},
   "source": [
    "### 向量和几何"
   ]
  },
  {
   "cell_type": "code",
   "execution_count": 30,
   "id": "e1f2e7aa-d3f4-42e0-8ca5-577712e2a71f",
   "metadata": {},
   "outputs": [],
   "source": [
    "u=smp.Matrix([u1,u2,u3])\n",
    "v=smp.Matrix([v1,v2,v3])"
   ]
  },
  {
   "cell_type": "code",
   "execution_count": 31,
   "id": "e30699dc-95ed-4370-a136-53a32ec316a0",
   "metadata": {},
   "outputs": [
    {
     "data": {
      "text/latex": [
       "$\\displaystyle \\left[\\begin{matrix}u_{1}\\\\u_{2}\\\\u_{3}\\end{matrix}\\right]$"
      ],
      "text/plain": [
       "Matrix([\n",
       "[u1],\n",
       "[u2],\n",
       "[u3]])"
      ]
     },
     "execution_count": 31,
     "metadata": {},
     "output_type": "execute_result"
    }
   ],
   "source": [
    "u"
   ]
  },
  {
   "cell_type": "code",
   "execution_count": 32,
   "id": "bcef2b29-5fe0-46e3-abe7-48b08ff6497f",
   "metadata": {},
   "outputs": [
    {
     "data": {
      "text/latex": [
       "$\\displaystyle \\left[\\begin{matrix}v_{1}\\\\v_{2}\\\\v_{3}\\end{matrix}\\right]$"
      ],
      "text/plain": [
       "Matrix([\n",
       "[v1],\n",
       "[v2],\n",
       "[v3]])"
      ]
     },
     "execution_count": 32,
     "metadata": {},
     "output_type": "execute_result"
    }
   ],
   "source": [
    "v"
   ]
  },
  {
   "cell_type": "code",
   "execution_count": 33,
   "id": "1b6f4ff5-fe3c-4d35-8552-0fb3aa506411",
   "metadata": {},
   "outputs": [
    {
     "data": {
      "text/latex": [
       "$\\displaystyle \\left[\\begin{matrix}2 u_{1} + v_{1}\\\\2 u_{2} + v_{2}\\\\2 u_{3} + v_{3}\\end{matrix}\\right]$"
      ],
      "text/plain": [
       "Matrix([\n",
       "[2*u1 + v1],\n",
       "[2*u2 + v2],\n",
       "[2*u3 + v3]])"
      ]
     },
     "execution_count": 33,
     "metadata": {},
     "output_type": "execute_result"
    }
   ],
   "source": [
    "2*u+v"
   ]
  },
  {
   "cell_type": "code",
   "execution_count": 34,
   "id": "9542ded5-f608-4b09-8191-152519470c3c",
   "metadata": {},
   "outputs": [
    {
     "data": {
      "text/latex": [
       "$\\displaystyle u_{1} v_{1} + u_{2} v_{2} + u_{3} v_{3}$"
      ],
      "text/plain": [
       "u1*v1 + u2*v2 + u3*v3"
      ]
     },
     "execution_count": 34,
     "metadata": {},
     "output_type": "execute_result"
    }
   ],
   "source": [
    "u.dot(v)"
   ]
  },
  {
   "cell_type": "code",
   "execution_count": 35,
   "id": "9852ef13-50af-47af-872e-bd2ed8b9bd05",
   "metadata": {},
   "outputs": [
    {
     "data": {
      "text/latex": [
       "$\\displaystyle \\left[\\begin{matrix}u_{2} v_{3} - u_{3} v_{2}\\\\- u_{1} v_{3} + u_{3} v_{1}\\\\u_{1} v_{2} - u_{2} v_{1}\\end{matrix}\\right]$"
      ],
      "text/plain": [
       "Matrix([\n",
       "[ u2*v3 - u3*v2],\n",
       "[-u1*v3 + u3*v1],\n",
       "[ u1*v2 - u2*v1]])"
      ]
     },
     "execution_count": 35,
     "metadata": {},
     "output_type": "execute_result"
    }
   ],
   "source": [
    "u.cross(v)"
   ]
  },
  {
   "cell_type": "code",
   "execution_count": 36,
   "id": "190d5ee7-52ef-41e2-b931-91c9a39e7c62",
   "metadata": {},
   "outputs": [
    {
     "data": {
      "text/latex": [
       "$\\displaystyle \\sqrt{\\left|{u_{1}}\\right|^{2} + \\left|{u_{2}}\\right|^{2} + \\left|{u_{3}}\\right|^{2}}$"
      ],
      "text/plain": [
       "sqrt(Abs(u1)**2 + Abs(u2)**2 + Abs(u3)**2)"
      ]
     },
     "execution_count": 36,
     "metadata": {},
     "output_type": "execute_result"
    }
   ],
   "source": [
    "u.norm()"
   ]
  },
  {
   "cell_type": "markdown",
   "id": "370ff0e7-e28f-4342-bb46-e8b8daccc38f",
   "metadata": {},
   "source": [
    "$proj_v(u)=\\frac{u\\cdot v}{|v|^2}v$"
   ]
  },
  {
   "cell_type": "code",
   "execution_count": 39,
   "id": "44f41473-5d0d-48e1-b61e-fcd678655de6",
   "metadata": {},
   "outputs": [
    {
     "data": {
      "text/latex": [
       "$\\displaystyle \\left[\\begin{matrix}\\frac{v_{1} \\left(u_{1} v_{1} + u_{2} v_{2} + u_{3} v_{3}\\right)}{\\left|{v_{1}}\\right|^{2} + \\left|{v_{2}}\\right|^{2} + \\left|{v_{3}}\\right|^{2}}\\\\\\frac{v_{2} \\left(u_{1} v_{1} + u_{2} v_{2} + u_{3} v_{3}\\right)}{\\left|{v_{1}}\\right|^{2} + \\left|{v_{2}}\\right|^{2} + \\left|{v_{3}}\\right|^{2}}\\\\\\frac{v_{3} \\left(u_{1} v_{1} + u_{2} v_{2} + u_{3} v_{3}\\right)}{\\left|{v_{1}}\\right|^{2} + \\left|{v_{2}}\\right|^{2} + \\left|{v_{3}}\\right|^{2}}\\end{matrix}\\right]$"
      ],
      "text/plain": [
       "Matrix([\n",
       "[v1*(u1*v1 + u2*v2 + u3*v3)/(Abs(v1)**2 + Abs(v2)**2 + Abs(v3)**2)],\n",
       "[v2*(u1*v1 + u2*v2 + u3*v3)/(Abs(v1)**2 + Abs(v2)**2 + Abs(v3)**2)],\n",
       "[v3*(u1*v1 + u2*v2 + u3*v3)/(Abs(v1)**2 + Abs(v2)**2 + Abs(v3)**2)]])"
      ]
     },
     "execution_count": 39,
     "metadata": {},
     "output_type": "execute_result"
    }
   ],
   "source": [
    "proj_v_u=u.dot(v)/v.norm()**2*v\n",
    "proj_v_u"
   ]
  },
  {
   "cell_type": "markdown",
   "id": "41643394-4d9f-462b-a6ed-8bb73b890f74",
   "metadata": {},
   "source": [
    "线:$\\vec r(t)=\\vec r_0 +t\\vec v$"
   ]
  },
  {
   "cell_type": "code",
   "execution_count": 44,
   "id": "6f78db59-71e0-4cb9-af78-8a0157545ed2",
   "metadata": {},
   "outputs": [
    {
     "data": {
      "text/latex": [
       "$\\displaystyle \\left[\\begin{matrix}1 - 3 t\\\\2 t + 1\\\\4 t + 1\\end{matrix}\\right]$"
      ],
      "text/plain": [
       "Matrix([\n",
       "[1 - 3*t],\n",
       "[2*t + 1],\n",
       "[4*t + 1]])"
      ]
     },
     "execution_count": 44,
     "metadata": {},
     "output_type": "execute_result"
    }
   ],
   "source": [
    "r_0=smp.Matrix([1,1,1])\n",
    "v=smp.Matrix([-3,2,4])\n",
    "r=r_0+t*v\n",
    "r"
   ]
  },
  {
   "cell_type": "markdown",
   "id": "52d10524-cc92-41bf-b369-50ff2a13d380",
   "metadata": {},
   "source": [
    "平面：$\\vec u \\cdot(P_0-\\langle x,y,z \\rangle)=0$"
   ]
  },
  {
   "cell_type": "code",
   "execution_count": 47,
   "id": "33863a04-cffc-4852-b2ce-962228b56f0c",
   "metadata": {},
   "outputs": [
    {
     "data": {
      "text/latex": [
       "$\\displaystyle - x - y - z + 20$"
      ],
      "text/plain": [
       "-x - y - z + 20"
      ]
     },
     "execution_count": 47,
     "metadata": {},
     "output_type": "execute_result"
    }
   ],
   "source": [
    "P_0=smp.Matrix([4,8,8])\n",
    "n=smp.Matrix([1,1,1])\n",
    "r=smp.Matrix([x,y,z])\n",
    "n.dot(P_0-r)"
   ]
  },
  {
   "cell_type": "markdown",
   "id": "1e4054f2-1fba-465a-ab1b-76c418c9a438",
   "metadata": {},
   "source": [
    "## 向量微积分"
   ]
  },
  {
   "cell_type": "markdown",
   "id": "2ab553ab-b8a5-45e5-b6ca-d772b4776106",
   "metadata": {},
   "source": [
    "### 向量微分"
   ]
  },
  {
   "cell_type": "code",
   "execution_count": 50,
   "id": "a836ff84-2116-4b19-b8f4-1e6e9e60c1d4",
   "metadata": {},
   "outputs": [
    {
     "data": {
      "text/latex": [
       "$\\displaystyle \\left[\\begin{matrix}3 t\\\\\\sin{\\left(t \\right)}\\\\t^{2}\\end{matrix}\\right]$"
      ],
      "text/plain": [
       "Matrix([\n",
       "[   3*t],\n",
       "[sin(t)],\n",
       "[  t**2]])"
      ]
     },
     "execution_count": 50,
     "metadata": {},
     "output_type": "execute_result"
    }
   ],
   "source": [
    "r=smp.Matrix([3*t,smp.sin(t),t**2])\n",
    "r"
   ]
  },
  {
   "cell_type": "code",
   "execution_count": 51,
   "id": "232f9230-8115-470c-8bf9-a99927d96fc2",
   "metadata": {},
   "outputs": [
    {
     "data": {
      "text/latex": [
       "$\\displaystyle \\left[\\begin{matrix}3\\\\\\cos{\\left(t \\right)}\\\\2 t\\end{matrix}\\right]$"
      ],
      "text/plain": [
       "Matrix([\n",
       "[     3],\n",
       "[cos(t)],\n",
       "[   2*t]])"
      ]
     },
     "execution_count": 51,
     "metadata": {},
     "output_type": "execute_result"
    }
   ],
   "source": [
    "smp.diff(r,t)"
   ]
  },
  {
   "cell_type": "markdown",
   "id": "b81513e3-d02a-410b-a0ef-ec84e8a12e91",
   "metadata": {},
   "source": [
    "上面的向量在三维中随着t变化表达为空间中的螺旋线，\\\n",
    "那么：找出速度和加速度的夹角 ， 表达为以t为变量的函数$f(\\theta)$"
   ]
  },
  {
   "cell_type": "code",
   "execution_count": 58,
   "id": "93029d84-fad9-4ce7-8528-47cffc1e00a6",
   "metadata": {},
   "outputs": [
    {
     "data": {
      "text/latex": [
       "$\\displaystyle \\operatorname{acos}{\\left(\\frac{4 t - \\frac{\\sin{\\left(2 t \\right)}}{2}}{\\sqrt{\\left|{\\sin{\\left(t \\right)}}\\right|^{2} + 4} \\sqrt{4 \\left|{t}\\right|^{2} + \\left|{\\cos{\\left(t \\right)}}\\right|^{2} + 9}} \\right)}$"
      ],
      "text/plain": [
       "acos((4*t - sin(2*t)/2)/(sqrt(Abs(sin(t))**2 + 4)*sqrt(4*Abs(t)**2 + Abs(cos(t))**2 + 9)))"
      ]
     },
     "execution_count": 58,
     "metadata": {},
     "output_type": "execute_result"
    }
   ],
   "source": [
    "v=smp.diff(r,t)\n",
    "a=smp.diff(v,t)\n",
    "theta = smp.acos( v.dot(a)  / ( v.norm()*a.norm() )  ).simplify()\n",
    "theta"
   ]
  },
  {
   "cell_type": "markdown",
   "id": "1ab78b60-7cec-4831-bcc8-666931576f17",
   "metadata": {},
   "source": [
    "那么当t=6的时候夹角为多少"
   ]
  },
  {
   "cell_type": "code",
   "execution_count": 59,
   "id": "7b69e06f-acf5-469b-b194-3ad8ccb5cda4",
   "metadata": {},
   "outputs": [
    {
     "data": {
      "text/latex": [
       "$\\displaystyle 0.251108015692338$"
      ],
      "text/plain": [
       "0.251108015692338"
      ]
     },
     "execution_count": 59,
     "metadata": {},
     "output_type": "execute_result"
    }
   ],
   "source": [
    "theta.subs(t,6).evalf()"
   ]
  },
  {
   "cell_type": "markdown",
   "id": "88dc8cfd-d32e-458c-8f88-d13f52ec1bb1",
   "metadata": {},
   "source": [
    "### 向量积分\n",
    "注意：由于向量平移不变性，所以结果向量无需添加常数C"
   ]
  },
  {
   "cell_type": "code",
   "execution_count": 18,
   "id": "166444be-ada8-4d30-ae9f-34536881e00d",
   "metadata": {},
   "outputs": [
    {
     "data": {
      "text/latex": [
       "$\\displaystyle \\left[\\begin{matrix}e^{t} \\cos{\\left(t \\right)}\\\\t^{4}\\\\\\frac{1}{t^{2} + 1}\\end{matrix}\\right]$"
      ],
      "text/plain": [
       "Matrix([\n",
       "[exp(t)*cos(t)],\n",
       "[         t**4],\n",
       "[ 1/(t**2 + 1)]])"
      ]
     },
     "execution_count": 18,
     "metadata": {},
     "output_type": "execute_result"
    }
   ],
   "source": [
    "r = smp.Matrix( [ smp.exp(t)*smp.cos(t),t**4,1/(1+t**2) ] )\n",
    "r"
   ]
  },
  {
   "cell_type": "code",
   "execution_count": 19,
   "id": "c6919681-57bd-405e-bc1d-55880ccf905b",
   "metadata": {},
   "outputs": [
    {
     "data": {
      "text/latex": [
       "$\\displaystyle \\left[\\begin{matrix}\\frac{e^{t} \\sin{\\left(t \\right)}}{2} + \\frac{e^{t} \\cos{\\left(t \\right)}}{2}\\\\\\frac{t^{5}}{5}\\\\\\operatorname{atan}{\\left(t \\right)}\\end{matrix}\\right]$"
      ],
      "text/plain": [
       "Matrix([\n",
       "[exp(t)*sin(t)/2 + exp(t)*cos(t)/2],\n",
       "[                           t**5/5],\n",
       "[                          atan(t)]])"
      ]
     },
     "execution_count": 19,
     "metadata": {},
     "output_type": "execute_result"
    }
   ],
   "source": [
    "smp.integrate(r,t).doit()"
   ]
  },
  {
   "cell_type": "markdown",
   "id": "f9786c91-451c-4a5a-91a8-373135457118",
   "metadata": {},
   "source": [
    "**有些积分是无法使用解析方法解决的**"
   ]
  },
  {
   "cell_type": "code",
   "execution_count": 20,
   "id": "6f0191eb-edff-4814-9164-5923b3eaf7ec",
   "metadata": {},
   "outputs": [],
   "source": [
    "from scipy.integrate import quad_vec"
   ]
  },
  {
   "cell_type": "code",
   "execution_count": 28,
   "id": "272f711d-d7d0-4bd4-8a4b-ac7df84982fd",
   "metadata": {},
   "outputs": [
    {
     "data": {
      "text/latex": [
       "$\\displaystyle \\left[\\begin{matrix}e^{t^{2}} \\cos^{3}{\\left(t \\right)}\\\\e^{- t^{4}}\\\\\\frac{1}{t^{2} + 3}\\end{matrix}\\right]$"
      ],
      "text/plain": [
       "Matrix([\n",
       "[exp(t**2)*cos(t)**3],\n",
       "[         exp(-t**4)],\n",
       "[       1/(t**2 + 3)]])"
      ]
     },
     "execution_count": 28,
     "metadata": {},
     "output_type": "execute_result"
    }
   ],
   "source": [
    "r = smp.Matrix( [ smp.exp(t**2)*smp.cos(t)**3,  smp.exp(-t**4),   1/(3+t**2) ] )\n",
    "r\n",
    "#这个向量就是无法进行解析法积分的例子 \n",
    "#所以需要lambda化，想方法搞定其数值解"
   ]
  },
  {
   "cell_type": "code",
   "execution_count": 30,
   "id": "869b31eb-0c3e-410d-977a-a0101b6987a6",
   "metadata": {},
   "outputs": [
    {
     "data": {
      "text/plain": [
       "array([[0.4287508 ],\n",
       "       [0.36787944],\n",
       "       [0.25      ]])"
      ]
     },
     "execution_count": 30,
     "metadata": {},
     "output_type": "execute_result"
    }
   ],
   "source": [
    "#lambda化 ， 把符号式转为一个数值函数\n",
    "r_f=smp.lambdify([t],r)\n",
    "r_f(1)"
   ]
  },
  {
   "cell_type": "code",
   "execution_count": 29,
   "id": "6c70edd9-a8f3-48ba-9b88-77c07cbe901e",
   "metadata": {},
   "outputs": [
    {
     "data": {
      "text/plain": [
       "(array([[0.81549671],\n",
       "        [0.84483859],\n",
       "        [0.30229989]]),\n",
       " 4.039233845603321e-14)"
      ]
     },
     "execution_count": 29,
     "metadata": {},
     "output_type": "execute_result"
    }
   ],
   "source": [
    "#数值的方法进行[0,1]区间积分 其会返回 积分结果 以及 误差\n",
    "quad_vec(r_f,0,1)"
   ]
  },
  {
   "cell_type": "markdown",
   "id": "edfc0935-035a-4edf-b2b8-a08d76dca869",
   "metadata": {},
   "source": [
    "### 弧长\n",
    "$$L = \\int_a^b \\sqrt{dx^2 + dy^2 + dz^2} = \\int_a^b \\sqrt{(dx/dt)^2 + (dy/dt)^2 + (dz/dt)^2 } dt $$\n",
    "\\\n",
    "这几乎很难找到符号解，找出曲线$\\langle 0,t,t^2 \\rangle$在$t\\in[0,1]$的弧长"
   ]
  },
  {
   "cell_type": "code",
   "execution_count": 31,
   "id": "043193f9-fd29-4fbf-a29f-7598bc45a2a2",
   "metadata": {},
   "outputs": [
    {
     "data": {
      "text/latex": [
       "$\\displaystyle \\left[\\begin{matrix}0\\\\t\\\\t^{2}\\end{matrix}\\right]$"
      ],
      "text/plain": [
       "Matrix([\n",
       "[   0],\n",
       "[   t],\n",
       "[t**2]])"
      ]
     },
     "execution_count": 31,
     "metadata": {},
     "output_type": "execute_result"
    }
   ],
   "source": [
    "r=smp.Matrix([0,t,t**2])\n",
    "r"
   ]
  },
  {
   "cell_type": "code",
   "execution_count": 33,
   "id": "222f56be-442f-4879-8e9d-6b3d710fc374",
   "metadata": {},
   "outputs": [
    {
     "data": {
      "text/latex": [
       "$\\displaystyle \\frac{\\operatorname{asinh}{\\left(2 \\right)}}{4} + \\frac{\\sqrt{5}}{2}$"
      ],
      "text/plain": [
       "asinh(2)/4 + sqrt(5)/2"
      ]
     },
     "execution_count": 33,
     "metadata": {},
     "output_type": "execute_result"
    }
   ],
   "source": [
    "smp.integrate(smp.diff(r,t).norm(),(t,0,1))"
   ]
  },
  {
   "cell_type": "markdown",
   "id": "a28b1db1-505d-47fa-a2e3-225b6c77e606",
   "metadata": {},
   "source": [
    "## 例：普通空间电线的磁场\n",
    "当$\\vec r= (x,y,z) , \\vec l=(f(t),g(t),h(t)) $给出了空间曲线的位置\\\n",
    "空间某点r的磁场公式如下\\\n",
    "$$\\vec{B}(\\vec{r}) = \\frac{\\mu_0}{4\\pi}\\int_t \\frac{I \\frac{d\\vec{\\ell}}{dt} \\times (\\vec{r}-\\vec{\\ell})}{|\\vec{r}-\\vec{\\ell}|^3} dt $$\n",
    " \n"
   ]
  },
  {
   "cell_type": "markdown",
   "id": "623913a3-6796-422c-a467-10b6158bf923",
   "metadata": {},
   "source": [
    "第一问：使用sympy找到表达为三维向量的积分结果"
   ]
  },
  {
   "cell_type": "code",
   "execution_count": 35,
   "id": "a14e26e6-d5a7-47be-be79-923ccd925135",
   "metadata": {},
   "outputs": [],
   "source": [
    "x, y, z, t, I, mu0 = smp.symbols('x y z t I \\mu_0', real=True)\n",
    "f, g, h = smp.symbols('f g h', cls=smp.Function)\n",
    "f=f(t)\n",
    "g=g(t)\n",
    "h=h(t)"
   ]
  },
  {
   "cell_type": "code",
   "execution_count": 36,
   "id": "037c1f3f-677f-4da0-a17c-a237faf40b43",
   "metadata": {},
   "outputs": [],
   "source": [
    "r = smp.Matrix([x,y,z])\n",
    "l = smp.Matrix([f,g,h])\n",
    "dldt = smp.diff(l)"
   ]
  },
  {
   "cell_type": "code",
   "execution_count": 37,
   "id": "4eebae26-f2c4-465b-960f-81e664eac8d8",
   "metadata": {},
   "outputs": [],
   "source": [
    "dBdt = I * dldt.cross(r-l) / (r-l).norm()**3"
   ]
  },
  {
   "cell_type": "code",
   "execution_count": 38,
   "id": "8ca3e927-b197-4018-9aac-4715227b8288",
   "metadata": {},
   "outputs": [
    {
     "data": {
      "text/latex": [
       "$\\displaystyle \\left[\\begin{matrix}\\frac{I \\left(- \\left(y - g{\\left(t \\right)}\\right) \\frac{d}{d t} h{\\left(t \\right)} + \\left(z - h{\\left(t \\right)}\\right) \\frac{d}{d t} g{\\left(t \\right)}\\right)}{\\left(\\left|{x - f{\\left(t \\right)}}\\right|^{2} + \\left|{y - g{\\left(t \\right)}}\\right|^{2} + \\left|{z - h{\\left(t \\right)}}\\right|^{2}\\right)^{\\frac{3}{2}}}\\\\\\frac{I \\left(\\left(x - f{\\left(t \\right)}\\right) \\frac{d}{d t} h{\\left(t \\right)} - \\left(z - h{\\left(t \\right)}\\right) \\frac{d}{d t} f{\\left(t \\right)}\\right)}{\\left(\\left|{x - f{\\left(t \\right)}}\\right|^{2} + \\left|{y - g{\\left(t \\right)}}\\right|^{2} + \\left|{z - h{\\left(t \\right)}}\\right|^{2}\\right)^{\\frac{3}{2}}}\\\\\\frac{I \\left(- \\left(x - f{\\left(t \\right)}\\right) \\frac{d}{d t} g{\\left(t \\right)} + \\left(y - g{\\left(t \\right)}\\right) \\frac{d}{d t} f{\\left(t \\right)}\\right)}{\\left(\\left|{x - f{\\left(t \\right)}}\\right|^{2} + \\left|{y - g{\\left(t \\right)}}\\right|^{2} + \\left|{z - h{\\left(t \\right)}}\\right|^{2}\\right)^{\\frac{3}{2}}}\\end{matrix}\\right]$"
      ],
      "text/plain": [
       "Matrix([\n",
       "[I*(-(y - g(t))*Derivative(h(t), t) + (z - h(t))*Derivative(g(t), t))/(Abs(x - f(t))**2 + Abs(y - g(t))**2 + Abs(z - h(t))**2)**(3/2)],\n",
       "[ I*((x - f(t))*Derivative(h(t), t) - (z - h(t))*Derivative(f(t), t))/(Abs(x - f(t))**2 + Abs(y - g(t))**2 + Abs(z - h(t))**2)**(3/2)],\n",
       "[I*(-(x - f(t))*Derivative(g(t), t) + (y - g(t))*Derivative(f(t), t))/(Abs(x - f(t))**2 + Abs(y - g(t))**2 + Abs(z - h(t))**2)**(3/2)]])"
      ]
     },
     "execution_count": 38,
     "metadata": {},
     "output_type": "execute_result"
    }
   ],
   "source": [
    "dBdt"
   ]
  },
  {
   "cell_type": "markdown",
   "id": "0c20cae7-72a4-4598-b3f9-4f4039e69dd7",
   "metadata": {},
   "source": [
    "第二问：找到一处磁场，磁场中心上方H高的地方的一个以R为半径顺时针环形区域的磁场"
   ]
  },
  {
   "cell_type": "code",
   "execution_count": 40,
   "id": "5cc01493-c7a3-4c96-9fa5-b8930ba8ca3b",
   "metadata": {},
   "outputs": [],
   "source": [
    "R, H = smp.symbols('R, H', real=True)"
   ]
  },
  {
   "cell_type": "code",
   "execution_count": 41,
   "id": "d6b706e2-5ced-4a5e-9d25-6854a987bbba",
   "metadata": {},
   "outputs": [
    {
     "data": {
      "text/latex": [
       "$\\displaystyle \\left[\\begin{matrix}\\frac{H I R \\cos{\\left(t \\right)}}{\\left(H^{2} + R^{2}\\right)^{\\frac{3}{2}}}\\\\\\frac{H I R \\sin{\\left(t \\right)}}{\\left(H^{2} + R^{2}\\right)^{\\frac{3}{2}}}\\\\\\frac{I R^{2}}{\\left(H^{2} + R^{2}\\right)^{\\frac{3}{2}}}\\end{matrix}\\right]$"
      ],
      "text/plain": [
       "Matrix([\n",
       "[H*I*R*cos(t)/(H**2 + R**2)**(3/2)],\n",
       "[H*I*R*sin(t)/(H**2 + R**2)**(3/2)],\n",
       "[      I*R**2/(H**2 + R**2)**(3/2)]])"
      ]
     },
     "execution_count": 41,
     "metadata": {},
     "output_type": "execute_result"
    }
   ],
   "source": [
    "dBdt = dBdt.subs([(f, R*smp.cos(t)),\n",
    "                  (g, R*smp.sin(t)),\n",
    "                  (h, 0),\n",
    "                  (x,0), (y,0), (z,H)]).doit()\n",
    "dBdt.simplify()\n",
    "dBdt"
   ]
  },
  {
   "cell_type": "code",
   "execution_count": 42,
   "id": "73eca3ad-3f96-46c4-9920-59e156fcb7f1",
   "metadata": {},
   "outputs": [
    {
     "data": {
      "text/latex": [
       "$\\displaystyle \\left[\\begin{matrix}0\\\\0\\\\\\frac{I R^{2} \\mu_{0}}{2 \\left(H^{2} + R^{2}\\right)^{\\frac{3}{2}}}\\end{matrix}\\right]$"
      ],
      "text/plain": [
       "Matrix([\n",
       "[                                    0],\n",
       "[                                    0],\n",
       "[I*R**2*\\mu_0/(2*(H**2 + R**2)**(3/2))]])"
      ]
     },
     "execution_count": 42,
     "metadata": {},
     "output_type": "execute_result"
    }
   ],
   "source": [
    "mu0/(4*smp.pi) * smp.integrate(dBdt, [t,0,2*smp.pi])"
   ]
  },
  {
   "cell_type": "markdown",
   "id": "11b9ec05-d86a-4d64-b2db-3937e6db7314",
   "metadata": {},
   "source": [
    "## 偏微分\n",
    "$f(x,y)=y^2\\sin(x+y)$对x,y的偏微分"
   ]
  },
  {
   "cell_type": "code",
   "execution_count": 48,
   "id": "060a0df7-88b9-40d2-b158-2f12dbce72c1",
   "metadata": {},
   "outputs": [
    {
     "data": {
      "text/latex": [
       "$\\displaystyle y^{2} \\sin{\\left(x + y \\right)}$"
      ],
      "text/plain": [
       "y**2*sin(x + y)"
      ]
     },
     "execution_count": 48,
     "metadata": {},
     "output_type": "execute_result"
    }
   ],
   "source": [
    "x, y = smp.symbols('x, y', real=True)\n",
    "f=y**2*smp.sin(x+y)\n",
    "f"
   ]
  },
  {
   "cell_type": "code",
   "execution_count": 52,
   "id": "14ce6cf2-b65b-4c26-916a-26ab5302a5a1",
   "metadata": {},
   "outputs": [
    {
     "data": {
      "text/latex": [
       "$\\displaystyle y^{2} \\cos{\\left(x + y \\right)}$"
      ],
      "text/plain": [
       "y**2*cos(x + y)"
      ]
     },
     "execution_count": 52,
     "metadata": {},
     "output_type": "execute_result"
    }
   ],
   "source": [
    "f.diff(x)\n",
    "smp.diff(f,x)"
   ]
  },
  {
   "cell_type": "code",
   "execution_count": 54,
   "id": "e1ac8e72-3f1b-4a4c-87bd-24c32bdaf636",
   "metadata": {},
   "outputs": [
    {
     "data": {
      "text/latex": [
       "$\\displaystyle y^{2} \\cos{\\left(x + y \\right)} + 2 y \\sin{\\left(x + y \\right)}$"
      ],
      "text/plain": [
       "y**2*cos(x + y) + 2*y*sin(x + y)"
      ]
     },
     "execution_count": 54,
     "metadata": {},
     "output_type": "execute_result"
    }
   ],
   "source": [
    "f.diff(y)\n",
    "smp.diff(f,y)"
   ]
  },
  {
   "cell_type": "markdown",
   "id": "01916b49-8975-429e-992b-7db43d6e5551",
   "metadata": {},
   "source": [
    "如果是更复杂的$\\frac{\\partial^2 f}{\\partial x y^2}$"
   ]
  },
  {
   "cell_type": "code",
   "execution_count": 55,
   "id": "54015a4f-cb5c-4655-a59b-eac985fd8065",
   "metadata": {},
   "outputs": [
    {
     "data": {
      "text/latex": [
       "$\\displaystyle - y^{2} \\cos{\\left(x + y \\right)} - 4 y \\sin{\\left(x + y \\right)} + 2 \\cos{\\left(x + y \\right)}$"
      ],
      "text/plain": [
       "-y**2*cos(x + y) - 4*y*sin(x + y) + 2*cos(x + y)"
      ]
     },
     "execution_count": 55,
     "metadata": {},
     "output_type": "execute_result"
    }
   ],
   "source": [
    "f.diff(x,y,y)\n",
    "smp.diff(f,x,y,y)"
   ]
  },
  {
   "cell_type": "markdown",
   "id": "981df7ea-9420-4079-bcca-1dd7bbfb90fe",
   "metadata": {},
   "source": [
    "## 链式法则"
   ]
  },
  {
   "cell_type": "code",
   "execution_count": 57,
   "id": "b0923cb3-d6cd-4c7e-a88c-9183bcc10b4e",
   "metadata": {},
   "outputs": [],
   "source": [
    "t = smp.symbols('t')\n",
    "x, y, z, w, v =smp.symbols('x, y, z w v', cls=smp.Function)"
   ]
  },
  {
   "cell_type": "markdown",
   "id": "56008ea7-464f-4d97-9e38-2f768c4d4e6b",
   "metadata": {},
   "source": [
    "* 假设 $x$, $y$,  $z$ 是 $t$ 的函数 \n",
    "* $w$ 的变量为 $x$, $y$, $z$， 比如 $w=w(x,y,z)$\n",
    "\n",
    "找出 $dw/dt$"
   ]
  },
  {
   "cell_type": "code",
   "execution_count": 59,
   "id": "153ad034-10b4-46cb-8803-0c607eda1cba",
   "metadata": {},
   "outputs": [],
   "source": [
    "x = x(t)\n",
    "y = y(t)\n",
    "z = z(t)\n",
    "w = w(x, y, z)"
   ]
  },
  {
   "cell_type": "code",
   "execution_count": 62,
   "id": "8069740c-1eda-4123-a3f4-5ff31603671d",
   "metadata": {},
   "outputs": [
    {
     "data": {
      "text/latex": [
       "$\\displaystyle \\frac{d}{d x{\\left(t \\right)}} w{\\left(x{\\left(t \\right)},y{\\left(t \\right)},z{\\left(t \\right)} \\right)} \\frac{d}{d t} x{\\left(t \\right)} + \\frac{d}{d y{\\left(t \\right)}} w{\\left(x{\\left(t \\right)},y{\\left(t \\right)},z{\\left(t \\right)} \\right)} \\frac{d}{d t} y{\\left(t \\right)} + \\frac{d}{d z{\\left(t \\right)}} w{\\left(x{\\left(t \\right)},y{\\left(t \\right)},z{\\left(t \\right)} \\right)} \\frac{d}{d t} z{\\left(t \\right)}$"
      ],
      "text/plain": [
       "Derivative(w(x(t), y(t), z(t)), x(t))*Derivative(x(t), t) + Derivative(w(x(t), y(t), z(t)), y(t))*Derivative(y(t), t) + Derivative(w(x(t), y(t), z(t)), z(t))*Derivative(z(t), t)"
      ]
     },
     "execution_count": 62,
     "metadata": {},
     "output_type": "execute_result"
    }
   ],
   "source": [
    "smp.diff(w,t)"
   ]
  },
  {
   "cell_type": "code",
   "execution_count": 65,
   "id": "1f0b3d4c-3a7b-4211-b605-802c5c119ef2",
   "metadata": {},
   "outputs": [
    {
     "data": {
      "text/latex": [
       "$\\displaystyle \\frac{d}{d x{\\left(t \\right)}} w{\\left(x{\\left(t \\right)},y{\\left(t \\right)},z{\\left(t \\right)} \\right)} \\frac{d}{d t} x{\\left(t \\right)} + \\frac{d}{d y{\\left(t \\right)}} w{\\left(x{\\left(t \\right)},y{\\left(t \\right)},z{\\left(t \\right)} \\right)} \\frac{d}{d t} y{\\left(t \\right)} + \\frac{d}{d z{\\left(t \\right)}} w{\\left(x{\\left(t \\right)},y{\\left(t \\right)},z{\\left(t \\right)} \\right)} \\frac{d}{d t} z{\\left(t \\right)}$"
      ],
      "text/plain": [
       "Derivative(w(x(t), y(t), z(t)), x(t))*Derivative(x(t), t) + Derivative(w(x(t), y(t), z(t)), y(t))*Derivative(y(t), t) + Derivative(w(x(t), y(t), z(t)), z(t))*Derivative(z(t), t)"
      ]
     },
     "execution_count": 65,
     "metadata": {},
     "output_type": "execute_result"
    }
   ],
   "source": [
    "#放入一个特殊函数\n",
    "w1 = x**2+smp.exp(y)*smp.sin(z)\n",
    "smp.diff(w,t)"
   ]
  },
  {
   "cell_type": "code",
   "execution_count": 66,
   "id": "3baabef2-fdbc-4e51-a5e7-34d1dcabcbb9",
   "metadata": {},
   "outputs": [
    {
     "data": {
      "text/latex": [
       "$\\displaystyle 2 t e^{\\cos{\\left(t \\right)}} \\cos{\\left(t^{2} \\right)} - e^{\\cos{\\left(t \\right)}} \\sin{\\left(t \\right)} \\sin{\\left(t^{2} \\right)} + 2 \\sin{\\left(t \\right)} \\cos{\\left(t \\right)}$"
      ],
      "text/plain": [
       "2*t*exp(cos(t))*cos(t**2) - exp(cos(t))*sin(t)*sin(t**2) + 2*sin(t)*cos(t)"
      ]
     },
     "execution_count": 66,
     "metadata": {},
     "output_type": "execute_result"
    }
   ],
   "source": [
    "w1 = x**2+smp.exp(y)*smp.sin(z)\n",
    "smp.diff(w1,t).subs([(x, smp.sin(t)),\n",
    "                    (y, smp.cos(t)),\n",
    "                    (z, t**2)]).doit()"
   ]
  },
  {
   "cell_type": "markdown",
   "id": "37512b4a-be38-484d-b574-139991716d41",
   "metadata": {},
   "source": [
    "## 多重积分\n",
    "比如\n",
    "$$\\int_0^1 \\int_0^{1-x^2} \\int_3^{4-x^2-y^2} xdzdydx$$"
   ]
  },
  {
   "cell_type": "markdown",
   "id": "44a42647-749e-4ff5-99e6-90f925e1fd52",
   "metadata": {},
   "source": [
    "x, y, z =smp.symbols('x, y, z' )\n",
    "f=x\n",
    "smp.integrate(f,(z,3,4-x**2-y**2),(y,0,1-x**2),(x,0,1))"
   ]
  },
  {
   "cell_type": "markdown",
   "id": "fc0ebf50-771a-4744-9473-b6aa4cf7ada8",
   "metadata": {},
   "source": [
    "# 拉格朗日运动力学方程"
   ]
  },
  {
   "cell_type": "markdown",
   "id": "437f8a59-318d-4604-83f0-08b38bec31a5",
   "metadata": {},
   "source": [
    "拉格朗日力学的一般思想是系统的动能和势能可以用广义坐标和速度来表示\n",
    "\n",
    "$$T = T(q,\\dot{q}) \\hspace{20mm} V=V(q,\\dot{q})$$\n",
    "\n",
    "其中 $q$ 可以是点粒子的 xyz，也可以是某个角度 $theta$（钟摆），或者任何使问题最容易解决的东西，定义 $L=T-V$，以下方程给出运动方程 $q(t)$\n",
    "\n",
    "$$\\frac{dL}{dq} - \\frac{d}{dt}\\frac{dL}{d\\dot{q}} = 0 $$\n",
    "\n",
    "对于系统的所有不同$q$。上面的等式给出了所有不同$q(t)$的二阶微分方程。"
   ]
  },
  {
   "cell_type": "markdown",
   "id": "a013f7cd-0c8b-41f4-931e-c972c931e5d3",
   "metadata": {},
   "source": [
    "**示例**：以微分方程的形式,求运动方程 "
   ]
  },
  {
   "attachments": {
    "d12724e1-bd00-401d-9f98-ab46a506992f.png": {
     "image/png": "[encoded data removed]"
    }
   },
   "cell_type": "markdown",
   "id": "1169a2b2-bea0-4d1b-951d-03b1f6ebd458",
   "metadata": {},
   "source": [
    "![image.png](attachment:d12724e1-bd00-401d-9f98-ab46a506992f.png)"
   ]
  },
  {
   "cell_type": "markdown",
   "id": "14bbef00-4fb5-4627-a5e4-f317c7061295",
   "metadata": {},
   "source": [
    " $(x,y)$ 是摆锤摆动的位置"
   ]
  },
  {
   "cell_type": "code",
   "execution_count": 93,
   "id": "af260e03-1b01-458d-b8fc-48cfa82846cb",
   "metadata": {},
   "outputs": [],
   "source": [
    "t, R, g, m1, m2 = smp.symbols('t R g m_1 m_2')\n",
    "z, theta = smp.symbols(r'z \\theta', cls=smp.Function)\n",
    "z = z(t)\n",
    "theta = theta(t)\n",
    "\n",
    "dzdt = smp.diff(z,t)\n",
    "dthedt = smp.diff(theta,t)"
   ]
  },
  {
   "cell_type": "markdown",
   "id": "f6ee0e6c-2e68-4641-b860-0e22d627ec26",
   "metadata": {},
   "source": [
    "定义钟摆的位置"
   ]
  },
  {
   "cell_type": "code",
   "execution_count": 94,
   "id": "8bfd89f8-1e53-40c0-b893-cd0b8d58b195",
   "metadata": {},
   "outputs": [
    {
     "data": {
      "text/latex": [
       "$\\displaystyle - R \\cos{\\left(\\theta{\\left(t \\right)} \\right)}$"
      ],
      "text/plain": [
       "-R*cos(\\theta(t))"
      ]
     },
     "execution_count": 94,
     "metadata": {},
     "output_type": "execute_result"
    }
   ],
   "source": [
    "x = z + R*smp.sin(theta)\n",
    "y = -R*smp.cos(theta)\n",
    "y"
   ]
  },
  {
   "cell_type": "markdown",
   "id": "1a0f5299-2478-4cb8-a0da-2a7d37291920",
   "metadata": {},
   "source": [
    "动能和势能"
   ]
  },
  {
   "cell_type": "code",
   "execution_count": 95,
   "id": "246e9db0-c120-4a05-a5e5-245826d13db6",
   "metadata": {},
   "outputs": [],
   "source": [
    "T1 = smp.Rational(1,2) * m1 * smp.diff(z,t)**2\n",
    "T2 = smp.Rational(1,2) * m2 * (smp.diff(x,t)**2 + smp.diff(y,t)**2)\n",
    "T = T1 + T2\n",
    "V1 = 0\n",
    "V2 = m2*g*y\n",
    "V = V1 + V2"
   ]
  },
  {
   "cell_type": "code",
   "execution_count": 96,
   "id": "6736ad55-19c2-44b4-b81d-2633e172fff5",
   "metadata": {},
   "outputs": [
    {
     "data": {
      "text/latex": [
       "$\\displaystyle R g m_{2} \\cos{\\left(\\theta{\\left(t \\right)} \\right)} + \\frac{m_{1} \\left(\\frac{d}{d t} z{\\left(t \\right)}\\right)^{2}}{2} + \\frac{m_{2} \\left(R^{2} \\sin^{2}{\\left(\\theta{\\left(t \\right)} \\right)} \\left(\\frac{d}{d t} \\theta{\\left(t \\right)}\\right)^{2} + \\left(R \\cos{\\left(\\theta{\\left(t \\right)} \\right)} \\frac{d}{d t} \\theta{\\left(t \\right)} + \\frac{d}{d t} z{\\left(t \\right)}\\right)^{2}\\right)}{2}$"
      ],
      "text/plain": [
       "R*g*m_2*cos(\\theta(t)) + m_1*Derivative(z(t), t)**2/2 + m_2*(R**2*sin(\\theta(t))**2*Derivative(\\theta(t), t)**2 + (R*cos(\\theta(t))*Derivative(\\theta(t), t) + Derivative(z(t), t))**2)/2"
      ]
     },
     "execution_count": 96,
     "metadata": {},
     "output_type": "execute_result"
    }
   ],
   "source": [
    "L=T-V\n",
    "L"
   ]
  },
  {
   "cell_type": "markdown",
   "id": "14703d60-bd33-48ba-b6a4-648c96239ce6",
   "metadata": {},
   "source": [
    "获取拉格朗日运动方程"
   ]
  },
  {
   "cell_type": "code",
   "execution_count": 97,
   "id": "4f38d806-6dac-431b-b3d0-cc35d19494d0",
   "metadata": {},
   "outputs": [],
   "source": [
    "LE1 = smp.diff(L, z) - smp.diff(smp.diff(L,dzdt), t)\n",
    "LE2 = smp.diff(L, theta) - smp.diff(smp.diff(L,dthedt), t)"
   ]
  },
  {
   "cell_type": "code",
   "execution_count": 98,
   "id": "917fd1bd-a56a-4c17-9340-22323cf973d2",
   "metadata": {},
   "outputs": [
    {
     "data": {
      "text/latex": [
       "$\\displaystyle - m_{1} \\frac{d^{2}}{d t^{2}} z{\\left(t \\right)} - \\frac{m_{2} \\left(- 2 R \\sin{\\left(\\theta{\\left(t \\right)} \\right)} \\left(\\frac{d}{d t} \\theta{\\left(t \\right)}\\right)^{2} + 2 R \\cos{\\left(\\theta{\\left(t \\right)} \\right)} \\frac{d^{2}}{d t^{2}} \\theta{\\left(t \\right)} + 2 \\frac{d^{2}}{d t^{2}} z{\\left(t \\right)}\\right)}{2}$"
      ],
      "text/plain": [
       "-m_1*Derivative(z(t), (t, 2)) - m_2*(-2*R*sin(\\theta(t))*Derivative(\\theta(t), t)**2 + 2*R*cos(\\theta(t))*Derivative(\\theta(t), (t, 2)) + 2*Derivative(z(t), (t, 2)))/2"
      ]
     },
     "execution_count": 98,
     "metadata": {},
     "output_type": "execute_result"
    }
   ],
   "source": [
    "LE1"
   ]
  },
  {
   "cell_type": "code",
   "execution_count": 99,
   "id": "29f85303-776c-4e62-b188-6a8bffbdeec1",
   "metadata": {},
   "outputs": [
    {
     "data": {
      "text/latex": [
       "$\\displaystyle - R g m_{2} \\sin{\\left(\\theta{\\left(t \\right)} \\right)} + \\frac{m_{2} \\cdot \\left(2 R^{2} \\sin{\\left(\\theta{\\left(t \\right)} \\right)} \\cos{\\left(\\theta{\\left(t \\right)} \\right)} \\left(\\frac{d}{d t} \\theta{\\left(t \\right)}\\right)^{2} - 2 R \\left(R \\cos{\\left(\\theta{\\left(t \\right)} \\right)} \\frac{d}{d t} \\theta{\\left(t \\right)} + \\frac{d}{d t} z{\\left(t \\right)}\\right) \\sin{\\left(\\theta{\\left(t \\right)} \\right)} \\frac{d}{d t} \\theta{\\left(t \\right)}\\right)}{2} - \\frac{m_{2} \\cdot \\left(2 R^{2} \\sin^{2}{\\left(\\theta{\\left(t \\right)} \\right)} \\frac{d^{2}}{d t^{2}} \\theta{\\left(t \\right)} + 4 R^{2} \\sin{\\left(\\theta{\\left(t \\right)} \\right)} \\cos{\\left(\\theta{\\left(t \\right)} \\right)} \\left(\\frac{d}{d t} \\theta{\\left(t \\right)}\\right)^{2} - 2 R \\left(R \\cos{\\left(\\theta{\\left(t \\right)} \\right)} \\frac{d}{d t} \\theta{\\left(t \\right)} + \\frac{d}{d t} z{\\left(t \\right)}\\right) \\sin{\\left(\\theta{\\left(t \\right)} \\right)} \\frac{d}{d t} \\theta{\\left(t \\right)} + 2 R \\left(- R \\sin{\\left(\\theta{\\left(t \\right)} \\right)} \\left(\\frac{d}{d t} \\theta{\\left(t \\right)}\\right)^{2} + R \\cos{\\left(\\theta{\\left(t \\right)} \\right)} \\frac{d^{2}}{d t^{2}} \\theta{\\left(t \\right)} + \\frac{d^{2}}{d t^{2}} z{\\left(t \\right)}\\right) \\cos{\\left(\\theta{\\left(t \\right)} \\right)}\\right)}{2}$"
      ],
      "text/plain": [
       "-R*g*m_2*sin(\\theta(t)) + m_2*(2*R**2*sin(\\theta(t))*cos(\\theta(t))*Derivative(\\theta(t), t)**2 - 2*R*(R*cos(\\theta(t))*Derivative(\\theta(t), t) + Derivative(z(t), t))*sin(\\theta(t))*Derivative(\\theta(t), t))/2 - m_2*(2*R**2*sin(\\theta(t))**2*Derivative(\\theta(t), (t, 2)) + 4*R**2*sin(\\theta(t))*cos(\\theta(t))*Derivative(\\theta(t), t)**2 - 2*R*(R*cos(\\theta(t))*Derivative(\\theta(t), t) + Derivative(z(t), t))*sin(\\theta(t))*Derivative(\\theta(t), t) + 2*R*(-R*sin(\\theta(t))*Derivative(\\theta(t), t)**2 + R*cos(\\theta(t))*Derivative(\\theta(t), (t, 2)) + Derivative(z(t), (t, 2)))*cos(\\theta(t)))/2"
      ]
     },
     "execution_count": 99,
     "metadata": {},
     "output_type": "execute_result"
    }
   ],
   "source": [
    "LE2"
   ]
  },
  {
   "cell_type": "markdown",
   "id": "526008a3-e033-48e2-94a1-1b1137060917",
   "metadata": {},
   "source": [
    "我们想要可以求解的两个二阶微分方程组"
   ]
  },
  {
   "cell_type": "code",
   "execution_count": 100,
   "id": "e1150089-f605-42fa-be69-019ca218b924",
   "metadata": {},
   "outputs": [
    {
     "data": {
      "text/plain": [
       "{Derivative(\\theta(t), (t, 2)): -R*m_2*sin(\\theta(t))*cos(\\theta(t))*Derivative(\\theta(t), t)**2/(R*m_1*sin(\\theta(t))**2 + R*m_1*cos(\\theta(t))**2 + R*m_2*sin(\\theta(t))**2) - g*m_1*sin(\\theta(t))/(R*m_1*sin(\\theta(t))**2 + R*m_1*cos(\\theta(t))**2 + R*m_2*sin(\\theta(t))**2) - g*m_2*sin(\\theta(t))/(R*m_1*sin(\\theta(t))**2 + R*m_1*cos(\\theta(t))**2 + R*m_2*sin(\\theta(t))**2),\n",
       " Derivative(z(t), (t, 2)): R*m_2*sin(\\theta(t))**3*Derivative(\\theta(t), t)**2/(m_1*sin(\\theta(t))**2 + m_1*cos(\\theta(t))**2 + m_2*sin(\\theta(t))**2) + R*m_2*sin(\\theta(t))*cos(\\theta(t))**2*Derivative(\\theta(t), t)**2/(m_1*sin(\\theta(t))**2 + m_1*cos(\\theta(t))**2 + m_2*sin(\\theta(t))**2) + g*m_2*sin(\\theta(t))*cos(\\theta(t))/(m_1*sin(\\theta(t))**2 + m_1*cos(\\theta(t))**2 + m_2*sin(\\theta(t))**2)}"
      ]
     },
     "execution_count": 100,
     "metadata": {},
     "output_type": "execute_result"
    }
   ],
   "source": [
    "sols = smp.solve([LE1, LE2], [smp.diff(z,t,t), smp.diff(theta,t,t)])\n",
    "sols"
   ]
  },
  {
   "cell_type": "markdown",
   "id": "4664a619-ec73-49b1-9c28-61d24120003b",
   "metadata": {},
   "source": [
    "找到 $d^2 \\theta / dt^2 = $"
   ]
  },
  {
   "cell_type": "code",
   "execution_count": 101,
   "id": "39ea3b95-5b9a-4b9d-a3a9-d5d5d6280411",
   "metadata": {},
   "outputs": [
    {
     "data": {
      "text/latex": [
       "$\\displaystyle - \\frac{R m_{2} \\sin{\\left(\\theta{\\left(t \\right)} \\right)} \\cos{\\left(\\theta{\\left(t \\right)} \\right)} \\left(\\frac{d}{d t} \\theta{\\left(t \\right)}\\right)^{2}}{R m_{1} \\sin^{2}{\\left(\\theta{\\left(t \\right)} \\right)} + R m_{1} \\cos^{2}{\\left(\\theta{\\left(t \\right)} \\right)} + R m_{2} \\sin^{2}{\\left(\\theta{\\left(t \\right)} \\right)}} - \\frac{g m_{1} \\sin{\\left(\\theta{\\left(t \\right)} \\right)}}{R m_{1} \\sin^{2}{\\left(\\theta{\\left(t \\right)} \\right)} + R m_{1} \\cos^{2}{\\left(\\theta{\\left(t \\right)} \\right)} + R m_{2} \\sin^{2}{\\left(\\theta{\\left(t \\right)} \\right)}} - \\frac{g m_{2} \\sin{\\left(\\theta{\\left(t \\right)} \\right)}}{R m_{1} \\sin^{2}{\\left(\\theta{\\left(t \\right)} \\right)} + R m_{1} \\cos^{2}{\\left(\\theta{\\left(t \\right)} \\right)} + R m_{2} \\sin^{2}{\\left(\\theta{\\left(t \\right)} \\right)}}$"
      ],
      "text/plain": [
       "-R*m_2*sin(\\theta(t))*cos(\\theta(t))*Derivative(\\theta(t), t)**2/(R*m_1*sin(\\theta(t))**2 + R*m_1*cos(\\theta(t))**2 + R*m_2*sin(\\theta(t))**2) - g*m_1*sin(\\theta(t))/(R*m_1*sin(\\theta(t))**2 + R*m_1*cos(\\theta(t))**2 + R*m_2*sin(\\theta(t))**2) - g*m_2*sin(\\theta(t))/(R*m_1*sin(\\theta(t))**2 + R*m_1*cos(\\theta(t))**2 + R*m_2*sin(\\theta(t))**2)"
      ]
     },
     "execution_count": 101,
     "metadata": {},
     "output_type": "execute_result"
    }
   ],
   "source": [
    "sols[smp.diff(theta,t,t)]"
   ]
  },
  {
   "cell_type": "markdown",
   "id": "a1768a8c-6d1e-4374-a759-97f825b76390",
   "metadata": {},
   "source": [
    " 找到 $d^2 z / dt^2 = $"
   ]
  },
  {
   "cell_type": "code",
   "execution_count": 102,
   "id": "8f6fe860-39a1-468f-87ba-09e0688ab423",
   "metadata": {},
   "outputs": [
    {
     "data": {
      "text/latex": [
       "$\\displaystyle \\frac{R m_{2} \\sin^{3}{\\left(\\theta{\\left(t \\right)} \\right)} \\left(\\frac{d}{d t} \\theta{\\left(t \\right)}\\right)^{2}}{m_{1} \\sin^{2}{\\left(\\theta{\\left(t \\right)} \\right)} + m_{1} \\cos^{2}{\\left(\\theta{\\left(t \\right)} \\right)} + m_{2} \\sin^{2}{\\left(\\theta{\\left(t \\right)} \\right)}} + \\frac{R m_{2} \\sin{\\left(\\theta{\\left(t \\right)} \\right)} \\cos^{2}{\\left(\\theta{\\left(t \\right)} \\right)} \\left(\\frac{d}{d t} \\theta{\\left(t \\right)}\\right)^{2}}{m_{1} \\sin^{2}{\\left(\\theta{\\left(t \\right)} \\right)} + m_{1} \\cos^{2}{\\left(\\theta{\\left(t \\right)} \\right)} + m_{2} \\sin^{2}{\\left(\\theta{\\left(t \\right)} \\right)}} + \\frac{g m_{2} \\sin{\\left(\\theta{\\left(t \\right)} \\right)} \\cos{\\left(\\theta{\\left(t \\right)} \\right)}}{m_{1} \\sin^{2}{\\left(\\theta{\\left(t \\right)} \\right)} + m_{1} \\cos^{2}{\\left(\\theta{\\left(t \\right)} \\right)} + m_{2} \\sin^{2}{\\left(\\theta{\\left(t \\right)} \\right)}}$"
      ],
      "text/plain": [
       "R*m_2*sin(\\theta(t))**3*Derivative(\\theta(t), t)**2/(m_1*sin(\\theta(t))**2 + m_1*cos(\\theta(t))**2 + m_2*sin(\\theta(t))**2) + R*m_2*sin(\\theta(t))*cos(\\theta(t))**2*Derivative(\\theta(t), t)**2/(m_1*sin(\\theta(t))**2 + m_1*cos(\\theta(t))**2 + m_2*sin(\\theta(t))**2) + g*m_2*sin(\\theta(t))*cos(\\theta(t))/(m_1*sin(\\theta(t))**2 + m_1*cos(\\theta(t))**2 + m_2*sin(\\theta(t))**2)"
      ]
     },
     "execution_count": 102,
     "metadata": {},
     "output_type": "execute_result"
    }
   ],
   "source": [
    "sols[smp.diff(z,t,t)]"
   ]
  },
  {
   "cell_type": "markdown",
   "id": "365fa5ce-10e3-4bfb-883a-c1dd766b3869",
   "metadata": {},
   "source": [
    "有了这两个二阶微分方程，就可以对系统进行数值求解了"
   ]
  },
  {
   "cell_type": "markdown",
   "id": "a2ef94df-b913-4cfa-9d48-9f02eee66a3a",
   "metadata": {},
   "source": [
    "# 伽辽金方法"
   ]
  },
  {
   "cell_type": "markdown",
   "id": "c29e6b47-44dc-46ad-9648-ba5f4b54121b",
   "metadata": {},
   "source": [
    "\n",
    "伽辽金方法是解微分方程的一种方法 ，属于加权余量法的重要常用分支\n",
    "\n",
    "1 选取近似解， 需要满足边界条件\n",
    "\n",
    "2 求出余量\n",
    "\n",
    "3 选择权函数 确定权函数系数\n",
    "\n"
   ]
  },
  {
   "cell_type": "markdown",
   "id": "21c4d944-4d4f-4e1a-a22b-cf69ebe2ce93",
   "metadata": {},
   "source": [
    "### 举例\n",
    "\n",
    "已知微分方程\n",
    "\n",
    "$$\n",
    "\\frac{d^2u}{dx^2}-u=-x,0<x<1 \n",
    "$$\n",
    "且\n",
    "$$\n",
    "u(0)=0,u(1)=0\n",
    "$$\n",
    "\n",
    "我们已知有解析的精确解\n",
    "$$\n",
    "u(x)=x-\\frac{e^x-e^{-x}}{e-e^{-1}}\n",
    "$$\n",
    "\n",
    "### 开始伽辽金操作\n",
    "\n",
    "伽辽金选择的权函数为\n",
    "$$\n",
    "\\omega_i=\\frac{d \\tilde u}{dC_i}\n",
    "$$\n",
    "\n",
    "\n",
    "然后多项式拟制一个一次近似解 我们可以从一次开始 需要满足边界条件 C1是待定的系数\n",
    "$$\n",
    "\\tilde u = C_1x(1-x)\n",
    "$$\n",
    "权函数为\n",
    "$$\n",
    "x(1-x)\n",
    "$$\n",
    "\n",
    "近似解带入方程  \n",
    "$$\n",
    "R = \\frac{d^2\\tilde u}{dx^2}-u+x = 2C_1 - C_1x(1-x)+x\n",
    "$$\n",
    "\n",
    "然后构造定积分 求系数C1\n",
    "$$\n",
    "I=\\int_0^1 \\omega_1 Rdx = \\int_0^1 x(1-x)  [2C_1 - C_1x(1-x)+x ]dx=0\n",
    "$$\n",
    "\n",
    "计算该定积分 解方程\n",
    "$$\n",
    "C_1 =\\frac3{13}\n",
    "\\tilde u = \\frac3{13}x(1-x) \n",
    "$$\n",
    "\n",
    "于是近似解也就出来了\n"
   ]
  },
  {
   "cell_type": "markdown",
   "id": "58983705-7369-43e9-a7a4-b89e4fe7db6e",
   "metadata": {},
   "source": [
    "## 伽辽金 使用一次近似解"
   ]
  },
  {
   "cell_type": "code",
   "execution_count": 1,
   "id": "e0c5646b-1d59-4819-94ea-9379056c0f55",
   "metadata": {},
   "outputs": [],
   "source": [
    "import sympy as smp\n",
    "import numpy as np\n",
    "import matplotlib.pyplot as plt"
   ]
  },
  {
   "cell_type": "code",
   "execution_count": 2,
   "id": "0df2e9bc-0844-4e72-bbce-04b848c03f28",
   "metadata": {},
   "outputs": [
    {
     "name": "stdout",
     "output_type": "stream",
     "text": [
      "1/12 - 11*C1/30\n",
      "5/22\n",
      "5*x*(1 - x)/22\n"
     ]
    },
    {
     "data": {
      "image/png": "[encoded data removed]",
      "text/plain": [
       "<Figure size 640x480 with 1 Axes>"
      ]
     },
     "metadata": {},
     "output_type": "display_data"
    }
   ],
   "source": [
    "# 伽辽金方法  \n",
    "# 参数设定\n",
    "u=smp.symbols('u',cls=smp.Function)\n",
    "x=smp.symbols('x',real=True)\n",
    "C1=smp.symbols('C1') \n",
    "\n",
    "# expr 构建近似多项式uH   以及近似解对系数的倒数w\n",
    "uH=C1*x*(1-x)  \n",
    "w=smp.diff(uH,C1)\n",
    "\n",
    "# 近似多项式带入构建方程exprR  并得到定积分结果式子expr\n",
    "exprR =w*( smp.diff(smp.diff(uH,x),x)-uH+x )\n",
    "expr=smp.integrate(exprR,(x,0,1)).doit()\n",
    "print(expr)\n",
    "\n",
    "#将上述定积分结果式子趋于0 并 解方程equation的系数C1\n",
    "equation=smp.Eq(expr,0) \n",
    "ttr=smp.solve(equation,C1)  \n",
    "ceoff1=ttr[0] \n",
    "print(ceoff1)\n",
    "\n",
    "# 得出近似多项式实际样貌\n",
    "uH=ceoff1*x*(1-x) \n",
    "print(uH)\n",
    "\n",
    "# 已知解析解\n",
    "std = x - (smp.exp(x)-smp.exp(-x))/(smp.exp(1)-smp.exp(-1))\n",
    "std\n",
    "\n",
    "# 解析解 和 近似解 两者函数化\n",
    "std_f=smp.lambdify([x],std)\n",
    "uH_f=smp.lambdify([x],uH)\n",
    "\n",
    "#显示两条曲线\n",
    "x_num=np.linspace(0,1,100) \n",
    "plt.plot(x_num,std_f(x_num),color='green')\n",
    "plt.plot(x_num,uH_f(x_num),color='red')\n",
    "plt.show()"
   ]
  },
  {
   "cell_type": "markdown",
   "id": "3776e7fa-10fa-4e66-b510-6ef97a59701c",
   "metadata": {},
   "source": [
    "## 伽辽金 使用二次近似解"
   ]
  },
  {
   "cell_type": "code",
   "execution_count": 18,
   "id": "02bdd08d-f39f-47c0-afb3-f582bd9a7efd",
   "metadata": {},
   "outputs": [
    {
     "name": "stdout",
     "output_type": "stream",
     "text": [
      "{C1: 69/473, C2: 7/43}\n",
      "7*x**2*(1 - x)/43 + 69*x*(1 - x)/473\n"
     ]
    },
    {
     "data": {
      "image/png": "[encoded data removed]",
      "text/plain": [
       "<Figure size 640x480 with 1 Axes>"
      ]
     },
     "metadata": {},
     "output_type": "display_data"
    }
   ],
   "source": [
    "# 伽辽金方法 2\n",
    "# 参数设定 \n",
    "x=smp.symbols('x',real=True)\n",
    "C1=smp.symbols('C1',real=True)\n",
    "C2=smp.symbols('C2',real=True)\n",
    "\n",
    "# expr 构建近似多项式uH   以及近似解对系数的倒数w\n",
    "uH=C1*x*(1-x)  + C2*x**2*(1-x) \n",
    "w1=smp.diff(uH,C1)\n",
    "w2=smp.diff(uH,C2)\n",
    "\n",
    "# 近似多项式带入构建方程exprI1  并得到定积分结果式子expr1 \n",
    "exprI1=smp.integrate(w1* (smp.diff(smp.diff(uH,x),x)-uH+x),(x,0,1)) .doit() \n",
    "#式子exprI2\n",
    "exprI2=smp.integrate(w2* (smp.diff(smp.diff(uH,x),x)-uH+x),(x,0,1)).doit() \n",
    "\n",
    "# expr1 expr2  联立解方程\n",
    "coeff=smp.solve([exprI1,exprI2],[C1,C2])  \n",
    "print(coeff)\n",
    "# 得出近似多项式实际样貌\n",
    "uH=uH.subs([(C1,coeff[C1]),(C2,coeff[C2])])\n",
    "print(uH)\n",
    "# 已知解析解\n",
    "std = x - (smp.exp(x)-smp.exp(-x))/(smp.exp(1)-smp.exp(-1))\n",
    "std\n",
    "\n",
    "# 解析解 和 近似解 两者函数化\n",
    "std_f=smp.lambdify([x],std)\n",
    "uH_f=smp.lambdify([x],uH)\n",
    "\n",
    "#显示两条曲线\n",
    "x_num=np.linspace(0,1,100) \n",
    "plt.plot(x_num,std_f(x_num),color='blue')\n",
    "plt.plot(x_num,uH_f(x_num),color='red')\n",
    "plt.show()"
   ]
  },
  {
   "cell_type": "markdown",
   "id": "16781b80-9a53-4a5b-92fc-7651f72e32c2",
   "metadata": {},
   "source": [
    "#### 把伽辽金法打包为方法"
   ]
  },
  {
   "cell_type": "code",
   "execution_count": 24,
   "id": "9d87e9b0-9ed9-4a1a-a51c-f8fc1d24277d",
   "metadata": {},
   "outputs": [
    {
     "name": "stdout",
     "output_type": "stream",
     "text": [
      "7*x**2*(1 - x)/43 + 69*x*(1 - x)/473\n",
      "7*x**2*(1 - x)/43 + 69*x*(1 - x)/473\n"
     ]
    },
    {
     "data": {
      "image/png": "[encoded data removed]",
      "text/plain": [
       "<Figure size 640x480 with 1 Axes>"
      ]
     },
     "metadata": {},
     "output_type": "display_data"
    }
   ],
   "source": [
    "\n",
    "import sympy as smp\n",
    "import numpy as np\n",
    "import matplotlib.pyplot as plt\n",
    "\n",
    "##############\n",
    "##############一元伽辽金方法\n",
    "#expr=(smp.diff(smp.diff(uH,x),x)-uH+x)\n",
    "#coeffs=[smp.symbols('C1',real=True),smp.symbols('C2',real=True)]\n",
    "#approxExpr =uH=   C1*x*(1-x)  + C2*x**2*(1-x) \n",
    "#limit=(x,0,1)\n",
    "def Galerkin(expr ,coeffs,approxExpr,limit) : \n",
    "    exprIs=[] \n",
    "    for coeff in  coeffs:\n",
    "        w=smp.diff(approxExpr,coeff)\n",
    "        # ws.append(smp.diff(approxExpr,coeff)) \n",
    "        exprI=smp.integrate(w* expr,limit) .doit() \n",
    "        exprIs.append(exprI)\n",
    "\n",
    "    coeffDict=smp.solve(exprIs,coeffs)  \n",
    " \n",
    "    for coeff in  coeffs:  \n",
    "        approxExpr=approxExpr.subs([(coeff,coeffDict[coeff])]) \n",
    "    print(approxExpr)\n",
    "    approxExprFunc=smp.lambdify([limit[0]],approxExpr)\n",
    "    return( approxExpr, approxExprFunc)\n",
    "##############   \n",
    "##############\n",
    "\n",
    "################## # 伽辽金方法 验证\n",
    "C1=smp.symbols('C1',real=True)\n",
    "C2=smp.symbols('C2',real=True)\n",
    "coeffs=[C1,C2]\n",
    "\n",
    "x=smp.symbols('x',real=True)\n",
    "limit=(x,0,1)\n",
    "uH=C1*x*(1-x)  + C2*x**2*(1-x) \n",
    "expr=(smp.diff(smp.diff(uH,x),x)-uH+x)\n",
    "\n",
    "approxExpr = Galerkin(expr,coeffs,uH,limit)\n",
    "uH = approxExpr[0]\n",
    "print(uH) \n",
    "################## #\n",
    "\n",
    "# 已知解析解\n",
    "std = x - (smp.exp(x)-smp.exp(-x))/(smp.exp(1)-smp.exp(-1))\n",
    "std\n",
    "\n",
    "# 解析解 和 近似解 两者函数化\n",
    "std_f=smp.lambdify([x],std)\n",
    "uH_f=smp.lambdify([x],uH)\n",
    "##########\n",
    "#显示两条曲线\n",
    "x_num=np.linspace(0,1,100) \n",
    "plt.plot(x_num,std_f(x_num),color='blue')\n",
    "plt.plot(x_num,uH_f(x_num),color='red')\n",
    "plt.show()"
   ]
  },
  {
   "cell_type": "code",
   "execution_count": null,
   "id": "3f3698fb-34ca-4e80-a7e2-90afc90624e4",
   "metadata": {},
   "outputs": [],
   "source": []
  }
 ],
 "metadata": {
  "kernelspec": {
   "display_name": "Python 3 (ipykernel)",
   "language": "python",
   "name": "python3"
  },
  "language_info": {
   "codemirror_mode": {
    "name": "ipython",
    "version": 3
   },
   "file_extension": ".py",
   "mimetype": "text/x-python",
   "name": "python",
   "nbconvert_exporter": "python",
   "pygments_lexer": "ipython3",
   "version": "3.9.18"
  }
 },
 "nbformat": 4,
 "nbformat_minor": 5
}
