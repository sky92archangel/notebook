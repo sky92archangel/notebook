{
 "cells": [
  {
   "cell_type": "code",
   "execution_count": 1,
   "id": "fb976d11-7d21-4203-982c-e67d87da0937",
   "metadata": {},
   "outputs": [],
   "source": [
    "import numpy as np\n",
    "import matplotlib.pyplot as plt\n",
    "import scipy as sp\n",
    "import sympy as smp"
   ]
  },
  {
   "cell_type": "code",
   "execution_count": 20,
   "id": "8084f0b3-78eb-4bc5-bf3c-cbf15644c803",
   "metadata": {},
   "outputs": [
    {
     "data": {
      "text/latex": [
       "$\\displaystyle \\left(x - 3\\right)^{2}$"
      ],
      "text/plain": [
       "(x - 3)**2"
      ]
     },
     "execution_count": 20,
     "metadata": {},
     "output_type": "execute_result"
    }
   ],
   "source": [
    "from scipy.optimize import minimize\n",
    "x=smp.symbols('x',real=True)\n",
    "func = (x-3)**2\n",
    "func"
   ]
  },
  {
   "cell_type": "code",
   "execution_count": 21,
   "id": "b3d9120d-4ad9-4190-9ae4-b2d00c045d07",
   "metadata": {},
   "outputs": [
    {
     "data": {
      "text/plain": [
       "  message: Optimization terminated successfully.\n",
       "  success: True\n",
       "   status: 0\n",
       "      fun: 5.551437397369767e-17\n",
       "        x: [ 3.000e+00]\n",
       "      nit: 2\n",
       "      jac: [-4.325e-13]\n",
       " hess_inv: [[ 5.000e-01]]\n",
       "     nfev: 6\n",
       "     njev: 3"
      ]
     },
     "execution_count": 21,
     "metadata": {},
     "output_type": "execute_result"
    }
   ],
   "source": [
    "func_f=smp.lambdify([x],func) \n",
    "res = minimize(func_f,2)\n",
    "res"
   ]
  },
  {
   "cell_type": "code",
   "execution_count": null,
   "id": "ee2a24ce-ef0f-4f55-9414-c7606bbfbbd1",
   "metadata": {},
   "outputs": [],
   "source": []
  },
  {
   "cell_type": "code",
   "execution_count": 22,
   "id": "1fabe855-3b2f-4b1c-88d7-54ccc08ffec2",
   "metadata": {},
   "outputs": [
    {
     "data": {
      "text/plain": [
       "  message: Optimization terminated successfully.\n",
       "  success: True\n",
       "   status: 0\n",
       "      fun: 5.551437397369767e-17\n",
       "        x: [ 3.000e+00]\n",
       "      nit: 2\n",
       "      jac: [-4.325e-13]\n",
       " hess_inv: [[ 5.000e-01]]\n",
       "     nfev: 6\n",
       "     njev: 3"
      ]
     },
     "execution_count": 22,
     "metadata": {},
     "output_type": "execute_result"
    }
   ],
   "source": [
    "from scipy.optimize import minimize\n",
    "x=smp.symbols('x',real=True)\n",
    "func = (x-3)**2\n",
    "func\n",
    "func_f=smp.lambdify([x],func) \n",
    "res = minimize(func_f,2)\n",
    "res"
   ]
  },
  {
   "cell_type": "code",
   "execution_count": 23,
   "id": "f872d3da-6a3b-465e-aa02-5b2a90ed4b91",
   "metadata": {},
   "outputs": [],
   "source": [
    "t_data = np.array([ 0.   ,  0.34482759,  0.68965517,  1.03448276,  1.37931034,\n",
    "        1.72413793,  2.06896552,  2.4137931 ,  2.75862069,  3.10344828,\n",
    "        3.44827586,  3.79310345,  4.13793103,  4.48275862,  4.82758621,\n",
    "        5.17241379,  5.51724138,  5.86206897,  6.20689655,  6.55172414,\n",
    "        6.89655172,  7.24137931,  7.5862069 ,  7.93103448,  8.27586207,\n",
    "        8.62068966,  8.96551724,  9.31034483,  9.65517241, 10.        ])\n",
    "y_data = np.array([ 4.3303953 ,  1.61137995, -2.15418696, -3.90137249, -1.67259042,\n",
    "        2.16884383,  3.86635998,  1.85194506, -1.8489224 , -3.96560495,\n",
    "       -2.13385255,  1.59425817,  4.06145238,  1.89300594, -1.76870297,\n",
    "       -4.26791226, -2.46874133,  1.37019912,  4.24945607,  2.27038039,\n",
    "       -1.50299303, -3.46774049, -2.50845488,  1.20022052,  3.81633703,\n",
    "        2.91511556, -1.24569189, -3.72716214, -2.54549857,  0.87262548])"
   ]
  },
  {
   "cell_type": "code",
   "execution_count": 25,
   "id": "decac9b2-ba85-44f5-8ba3-0ee0ee47caab",
   "metadata": {},
   "outputs": [
    {
     "data": {
      "text/latex": [
       "$\\displaystyle A \\cos{\\left(\\omega x + \\phi \\right)}$"
      ],
      "text/plain": [
       "A*cos(\\omega*x + \\phi)"
      ]
     },
     "execution_count": 25,
     "metadata": {},
     "output_type": "execute_result"
    }
   ],
   "source": [
    "from scipy.optimize import curve_fit\n",
    "x, A, w, phi=smp.symbols('x, A, \\omega, \\phi',real=True)\n",
    "func= A*smp.cos(w*x+phi)\n",
    "func"
   ]
  },
  {
   "cell_type": "code",
   "execution_count": 28,
   "id": "b52462b2-fb2a-438f-b2b4-ec8613b450cf",
   "metadata": {},
   "outputs": [
    {
     "data": {
      "text/plain": [
       "<function _lambdifygenerated(x, A, Dummy_39, Dummy_38)>"
      ]
     },
     "execution_count": 28,
     "metadata": {},
     "output_type": "execute_result"
    }
   ],
   "source": [
    "func_f=smp.lambdify([x, A, w, phi],func) \n",
    "func_f"
   ]
  },
  {
   "cell_type": "code",
   "execution_count": null,
   "id": "7e58e15c-fad1-4cfb-b328-5636b2bbeea7",
   "metadata": {},
   "outputs": [],
   "source": []
  },
  {
   "cell_type": "code",
   "execution_count": 30,
   "id": "45993f8c-450c-4a69-8d7f-e1ad59a2f5d8",
   "metadata": {},
   "outputs": [
    {
     "data": {
      "text/plain": [
       "array([3.94836219, 2.99899521, 0.10411352])"
      ]
     },
     "execution_count": 30,
     "metadata": {},
     "output_type": "execute_result"
    }
   ],
   "source": [
    "# def func(x, A, w, phi):\n",
    "#     return A*np.cos(w*x+phi)\n",
    "#假设振幅4  频率周期为pi 相位偏移0\n",
    "popt, pcov = curve_fit(func_f, t_data, y_data, p0=(4, np.pi, 0))\n",
    "popt"
   ]
  },
  {
   "cell_type": "markdown",
   "id": "e9313875-79eb-449f-bfff-91047cfd9342",
   "metadata": {},
   "source": [
    "贝塞尔函数 $ J_{\\alpha}(x)$：满足 $ x^2 y'' + xy' + (x^2-\\alpha^2)y = 0 $\n",
    "\n",
    "* 极坐标中的拉普拉斯方程"
   ]
  },
  {
   "cell_type": "code",
   "execution_count": null,
   "id": "4051340c-9311-4d02-b6a2-397b06408784",
   "metadata": {},
   "outputs": [],
   "source": []
  }
 ],
 "metadata": {
  "kernelspec": {
   "display_name": "Python 3 (ipykernel)",
   "language": "python",
   "name": "python3"
  },
  "language_info": {
   "codemirror_mode": {
    "name": "ipython",
    "version": 3
   },
   "file_extension": ".py",
   "mimetype": "text/x-python",
   "name": "python",
   "nbconvert_exporter": "python",
   "pygments_lexer": "ipython3",
   "version": "3.9.16"
  }
 },
 "nbformat": 4,
 "nbformat_minor": 5
}
